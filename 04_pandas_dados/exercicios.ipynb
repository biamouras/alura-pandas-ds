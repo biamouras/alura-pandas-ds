{
 "cells": [
  {
   "cell_type": "markdown",
   "id": "6c1e39c9",
   "metadata": {},
   "source": [
    "# Exercícios do curso de pandas e dados"
   ]
  },
  {
   "cell_type": "markdown",
   "id": "40b350cd",
   "metadata": {},
   "source": [
    "## Importando dados"
   ]
  },
  {
   "cell_type": "markdown",
   "id": "b78c0218",
   "metadata": {},
   "source": [
    "### Informações de um DataFrame\n",
    "\n",
    "Considere o seguinte código Python no Jupyter:"
   ]
  },
  {
   "cell_type": "code",
   "execution_count": 1,
   "id": "0b293e9a",
   "metadata": {},
   "outputs": [
    {
     "data": {
      "text/html": [
       "<div>\n",
       "<style scoped>\n",
       "    .dataframe tbody tr th:only-of-type {\n",
       "        vertical-align: middle;\n",
       "    }\n",
       "\n",
       "    .dataframe tbody tr th {\n",
       "        vertical-align: top;\n",
       "    }\n",
       "\n",
       "    .dataframe thead th {\n",
       "        text-align: right;\n",
       "    }\n",
       "</style>\n",
       "<table border=\"1\" class=\"dataframe\">\n",
       "  <thead>\n",
       "    <tr style=\"text-align: right;\">\n",
       "      <th></th>\n",
       "      <th>Aluno</th>\n",
       "      <th>Idade</th>\n",
       "      <th>Nota</th>\n",
       "      <th>Aprovado</th>\n",
       "    </tr>\n",
       "  </thead>\n",
       "  <tbody>\n",
       "    <tr>\n",
       "      <th>0</th>\n",
       "      <td>Fulano</td>\n",
       "      <td>12</td>\n",
       "      <td>7.0</td>\n",
       "      <td>True</td>\n",
       "    </tr>\n",
       "    <tr>\n",
       "      <th>1</th>\n",
       "      <td>Sicrano</td>\n",
       "      <td>15</td>\n",
       "      <td>3.5</td>\n",
       "      <td>False</td>\n",
       "    </tr>\n",
       "    <tr>\n",
       "      <th>2</th>\n",
       "      <td>Beltrano</td>\n",
       "      <td>18</td>\n",
       "      <td>9.3</td>\n",
       "      <td>True</td>\n",
       "    </tr>\n",
       "  </tbody>\n",
       "</table>\n",
       "</div>"
      ],
      "text/plain": [
       "      Aluno  Idade  Nota  Aprovado\n",
       "0    Fulano     12   7.0      True\n",
       "1   Sicrano     15   3.5     False\n",
       "2  Beltrano     18   9.3      True"
      ]
     },
     "execution_count": 1,
     "metadata": {},
     "output_type": "execute_result"
    }
   ],
   "source": [
    "import pandas as pd\n",
    "data = [['Fulano', 12, 7.0, True],\n",
    "        ['Sicrano', 15, 3.5, False], \n",
    "        ['Beltrano', 18, 9.3, True]]\n",
    "dados = pd.DataFrame(data, \n",
    "        columns = ['Aluno', 'Idade', 'Nota', 'Aprovado'])\n",
    "dados"
   ]
  },
  {
   "cell_type": "markdown",
   "id": "ae9ba3eb",
   "metadata": {},
   "source": [
    "Para obtermos uma tabela contendo os nomes das variáveis e seus respectivos tipos de dados, conforme o exemplo abaixo, que linhas de código devemos executar no Jupyter?"
   ]
  },
  {
   "cell_type": "code",
   "execution_count": 8,
   "id": "1d78c273",
   "metadata": {},
   "outputs": [],
   "source": [
    "tipos_de_dados = pd.DataFrame(dados.dtypes, columns = ['Tipos de dados'])"
   ]
  },
  {
   "cell_type": "code",
   "execution_count": 10,
   "id": "0f5949ff",
   "metadata": {},
   "outputs": [
    {
     "data": {
      "text/html": [
       "<div>\n",
       "<style scoped>\n",
       "    .dataframe tbody tr th:only-of-type {\n",
       "        vertical-align: middle;\n",
       "    }\n",
       "\n",
       "    .dataframe tbody tr th {\n",
       "        vertical-align: top;\n",
       "    }\n",
       "\n",
       "    .dataframe thead th {\n",
       "        text-align: right;\n",
       "    }\n",
       "</style>\n",
       "<table border=\"1\" class=\"dataframe\">\n",
       "  <thead>\n",
       "    <tr style=\"text-align: right;\">\n",
       "      <th>Variáveis</th>\n",
       "      <th>Tipos de dados</th>\n",
       "    </tr>\n",
       "  </thead>\n",
       "  <tbody>\n",
       "    <tr>\n",
       "      <th>Aluno</th>\n",
       "      <td>object</td>\n",
       "    </tr>\n",
       "    <tr>\n",
       "      <th>Idade</th>\n",
       "      <td>int64</td>\n",
       "    </tr>\n",
       "    <tr>\n",
       "      <th>Nota</th>\n",
       "      <td>float64</td>\n",
       "    </tr>\n",
       "    <tr>\n",
       "      <th>Aprovado</th>\n",
       "      <td>bool</td>\n",
       "    </tr>\n",
       "  </tbody>\n",
       "</table>\n",
       "</div>"
      ],
      "text/plain": [
       "Variáveis Tipos de dados\n",
       "Aluno             object\n",
       "Idade              int64\n",
       "Nota             float64\n",
       "Aprovado            bool"
      ]
     },
     "execution_count": 10,
     "metadata": {},
     "output_type": "execute_result"
    }
   ],
   "source": [
    "tipos_de_dados.columns.name = 'Variáveis'\n",
    "tipos_de_dados"
   ]
  },
  {
   "cell_type": "markdown",
   "id": "185a6365",
   "metadata": {},
   "source": [
    "## Series e index"
   ]
  },
  {
   "cell_type": "markdown",
   "id": "aad14c36",
   "metadata": {},
   "source": [
    "### Utilizando métodos no pandas"
   ]
  },
  {
   "cell_type": "markdown",
   "id": "1739e6da",
   "metadata": {},
   "source": [
    "O pandas disponibiliza um método de DataFrame para remoção de linhas duplicadas. Este método é o `drop_duplicates()`, que apresenta um conjunto de argumentos de configuração. Considerando as duas linhas de código abaixo:"
   ]
  },
  {
   "cell_type": "code",
   "execution_count": 12,
   "id": "b82b1c8b",
   "metadata": {},
   "outputs": [],
   "source": [
    "import pandas as pd\n",
    "dados = pd.DataFrame([1, 1, 2, 3, 3, 3, 4, 4], columns = ['X'])"
   ]
  },
  {
   "cell_type": "markdown",
   "id": "346f0f66",
   "metadata": {},
   "source": [
    "Assinale a opção onde o método drop_duplicates() é corretamente aplicado!"
   ]
  },
  {
   "cell_type": "code",
   "execution_count": 13,
   "id": "78f33cec",
   "metadata": {},
   "outputs": [],
   "source": [
    "dados.drop_duplicates(inplace = True)"
   ]
  },
  {
   "cell_type": "code",
   "execution_count": 14,
   "id": "a282e89f",
   "metadata": {},
   "outputs": [
    {
     "data": {
      "text/html": [
       "<div>\n",
       "<style scoped>\n",
       "    .dataframe tbody tr th:only-of-type {\n",
       "        vertical-align: middle;\n",
       "    }\n",
       "\n",
       "    .dataframe tbody tr th {\n",
       "        vertical-align: top;\n",
       "    }\n",
       "\n",
       "    .dataframe thead th {\n",
       "        text-align: right;\n",
       "    }\n",
       "</style>\n",
       "<table border=\"1\" class=\"dataframe\">\n",
       "  <thead>\n",
       "    <tr style=\"text-align: right;\">\n",
       "      <th></th>\n",
       "      <th>X</th>\n",
       "    </tr>\n",
       "  </thead>\n",
       "  <tbody>\n",
       "    <tr>\n",
       "      <th>0</th>\n",
       "      <td>1</td>\n",
       "    </tr>\n",
       "    <tr>\n",
       "      <th>2</th>\n",
       "      <td>2</td>\n",
       "    </tr>\n",
       "    <tr>\n",
       "      <th>3</th>\n",
       "      <td>3</td>\n",
       "    </tr>\n",
       "    <tr>\n",
       "      <th>6</th>\n",
       "      <td>4</td>\n",
       "    </tr>\n",
       "  </tbody>\n",
       "</table>\n",
       "</div>"
      ],
      "text/plain": [
       "   X\n",
       "0  1\n",
       "2  2\n",
       "3  3\n",
       "6  4"
      ]
     },
     "execution_count": 14,
     "metadata": {},
     "output_type": "execute_result"
    }
   ],
   "source": [
    "dados"
   ]
  },
  {
   "cell_type": "markdown",
   "id": "6f48a417",
   "metadata": {},
   "source": [
    "## Filtrando dados"
   ]
  },
  {
   "cell_type": "markdown",
   "id": "1f205e51",
   "metadata": {},
   "source": [
    "### Determinando seleções"
   ]
  },
  {
   "cell_type": "code",
   "execution_count": 1,
   "id": "4e1a3b7f",
   "metadata": {},
   "outputs": [],
   "source": [
    "import pandas as pd\n",
    "\n",
    "numeros = [i for i in range(11)]\n",
    "letras = [chr(i + 65) for i in range(11)]\n",
    "nome_coluna = ['N']\n",
    "\n",
    "df = pd.DataFrame(data = numeros, index = letras, columns = nome_coluna)"
   ]
  },
  {
   "cell_type": "code",
   "execution_count": 2,
   "id": "57098288",
   "metadata": {},
   "outputs": [
    {
     "data": {
      "text/html": [
       "<div>\n",
       "<style scoped>\n",
       "    .dataframe tbody tr th:only-of-type {\n",
       "        vertical-align: middle;\n",
       "    }\n",
       "\n",
       "    .dataframe tbody tr th {\n",
       "        vertical-align: top;\n",
       "    }\n",
       "\n",
       "    .dataframe thead th {\n",
       "        text-align: right;\n",
       "    }\n",
       "</style>\n",
       "<table border=\"1\" class=\"dataframe\">\n",
       "  <thead>\n",
       "    <tr style=\"text-align: right;\">\n",
       "      <th></th>\n",
       "      <th>N</th>\n",
       "    </tr>\n",
       "  </thead>\n",
       "  <tbody>\n",
       "    <tr>\n",
       "      <th>A</th>\n",
       "      <td>0</td>\n",
       "    </tr>\n",
       "    <tr>\n",
       "      <th>C</th>\n",
       "      <td>2</td>\n",
       "    </tr>\n",
       "    <tr>\n",
       "      <th>E</th>\n",
       "      <td>4</td>\n",
       "    </tr>\n",
       "    <tr>\n",
       "      <th>G</th>\n",
       "      <td>6</td>\n",
       "    </tr>\n",
       "    <tr>\n",
       "      <th>I</th>\n",
       "      <td>8</td>\n",
       "    </tr>\n",
       "    <tr>\n",
       "      <th>K</th>\n",
       "      <td>10</td>\n",
       "    </tr>\n",
       "  </tbody>\n",
       "</table>\n",
       "</div>"
      ],
      "text/plain": [
       "    N\n",
       "A   0\n",
       "C   2\n",
       "E   4\n",
       "G   6\n",
       "I   8\n",
       "K  10"
      ]
     },
     "execution_count": 2,
     "metadata": {},
     "output_type": "execute_result"
    }
   ],
   "source": [
    "selecao = df['N'].isin([i for i in range(11) if i % 2 == 0])\n",
    "df = df[selecao]\n",
    "df"
   ]
  },
  {
   "cell_type": "markdown",
   "id": "7aca2b6c",
   "metadata": {},
   "source": [
    "###  Mais sobre classificações"
   ]
  },
  {
   "cell_type": "code",
   "execution_count": 4,
   "id": "767f220d",
   "metadata": {},
   "outputs": [
    {
     "data": {
      "text/html": [
       "<div>\n",
       "<style scoped>\n",
       "    .dataframe tbody tr th:only-of-type {\n",
       "        vertical-align: middle;\n",
       "    }\n",
       "\n",
       "    .dataframe tbody tr th {\n",
       "        vertical-align: top;\n",
       "    }\n",
       "\n",
       "    .dataframe thead th {\n",
       "        text-align: right;\n",
       "    }\n",
       "</style>\n",
       "<table border=\"1\" class=\"dataframe\">\n",
       "  <thead>\n",
       "    <tr style=\"text-align: right;\">\n",
       "      <th></th>\n",
       "      <th>Nome</th>\n",
       "      <th>Sexo</th>\n",
       "      <th>Idade</th>\n",
       "    </tr>\n",
       "  </thead>\n",
       "  <tbody>\n",
       "    <tr>\n",
       "      <th>0</th>\n",
       "      <td>Ary</td>\n",
       "      <td>M</td>\n",
       "      <td>21</td>\n",
       "    </tr>\n",
       "    <tr>\n",
       "      <th>1</th>\n",
       "      <td>Cátia</td>\n",
       "      <td>F</td>\n",
       "      <td>19</td>\n",
       "    </tr>\n",
       "    <tr>\n",
       "      <th>2</th>\n",
       "      <td>Carlos</td>\n",
       "      <td>M</td>\n",
       "      <td>50</td>\n",
       "    </tr>\n",
       "    <tr>\n",
       "      <th>3</th>\n",
       "      <td>Beto</td>\n",
       "      <td>M</td>\n",
       "      <td>29</td>\n",
       "    </tr>\n",
       "    <tr>\n",
       "      <th>4</th>\n",
       "      <td>Bruna</td>\n",
       "      <td>F</td>\n",
       "      <td>31</td>\n",
       "    </tr>\n",
       "    <tr>\n",
       "      <th>5</th>\n",
       "      <td>Ana</td>\n",
       "      <td>F</td>\n",
       "      <td>42</td>\n",
       "    </tr>\n",
       "  </tbody>\n",
       "</table>\n",
       "</div>"
      ],
      "text/plain": [
       "     Nome Sexo  Idade\n",
       "0     Ary    M     21\n",
       "1   Cátia    F     19\n",
       "2  Carlos    M     50\n",
       "3    Beto    M     29\n",
       "4   Bruna    F     31\n",
       "5     Ana    F     42"
      ]
     },
     "execution_count": 4,
     "metadata": {},
     "output_type": "execute_result"
    }
   ],
   "source": [
    "df_A = pd.DataFrame({'Nome': ['Ary', 'Cátia', 'Carlos', 'Beto', 'Bruna', 'Ana'],\n",
    "                    'Sexo': ['M', 'F', 'M', 'M', 'F', 'F'],\n",
    "                    'Idade': [21, 19, 50, 29, 31, 42]})\n",
    "df_A"
   ]
  },
  {
   "cell_type": "code",
   "execution_count": 6,
   "id": "96b13018",
   "metadata": {},
   "outputs": [
    {
     "data": {
      "text/html": [
       "<div>\n",
       "<style scoped>\n",
       "    .dataframe tbody tr th:only-of-type {\n",
       "        vertical-align: middle;\n",
       "    }\n",
       "\n",
       "    .dataframe tbody tr th {\n",
       "        vertical-align: top;\n",
       "    }\n",
       "\n",
       "    .dataframe thead th {\n",
       "        text-align: right;\n",
       "    }\n",
       "</style>\n",
       "<table border=\"1\" class=\"dataframe\">\n",
       "  <thead>\n",
       "    <tr style=\"text-align: right;\">\n",
       "      <th></th>\n",
       "      <th>Nome</th>\n",
       "      <th>Sexo</th>\n",
       "      <th>Idade</th>\n",
       "    </tr>\n",
       "  </thead>\n",
       "  <tbody>\n",
       "    <tr>\n",
       "      <th>5</th>\n",
       "      <td>Ana</td>\n",
       "      <td>F</td>\n",
       "      <td>42</td>\n",
       "    </tr>\n",
       "    <tr>\n",
       "      <th>4</th>\n",
       "      <td>Bruna</td>\n",
       "      <td>F</td>\n",
       "      <td>31</td>\n",
       "    </tr>\n",
       "    <tr>\n",
       "      <th>1</th>\n",
       "      <td>Cátia</td>\n",
       "      <td>F</td>\n",
       "      <td>19</td>\n",
       "    </tr>\n",
       "    <tr>\n",
       "      <th>0</th>\n",
       "      <td>Ary</td>\n",
       "      <td>M</td>\n",
       "      <td>21</td>\n",
       "    </tr>\n",
       "    <tr>\n",
       "      <th>3</th>\n",
       "      <td>Beto</td>\n",
       "      <td>M</td>\n",
       "      <td>29</td>\n",
       "    </tr>\n",
       "    <tr>\n",
       "      <th>2</th>\n",
       "      <td>Carlos</td>\n",
       "      <td>M</td>\n",
       "      <td>50</td>\n",
       "    </tr>\n",
       "  </tbody>\n",
       "</table>\n",
       "</div>"
      ],
      "text/plain": [
       "     Nome Sexo  Idade\n",
       "5     Ana    F     42\n",
       "4   Bruna    F     31\n",
       "1   Cátia    F     19\n",
       "0     Ary    M     21\n",
       "3    Beto    M     29\n",
       "2  Carlos    M     50"
      ]
     },
     "execution_count": 6,
     "metadata": {},
     "output_type": "execute_result"
    }
   ],
   "source": [
    "df_B = df_A.sort_values(by = ['Sexo', 'Nome'])\n",
    "df_B"
   ]
  },
  {
   "cell_type": "markdown",
   "id": "6627aec8",
   "metadata": {},
   "source": [
    "## Frequências de imóveis"
   ]
  },
  {
   "cell_type": "code",
   "execution_count": 7,
   "id": "29062822",
   "metadata": {},
   "outputs": [],
   "source": [
    "import pandas as pd\n",
    "alunos = pd.DataFrame({'Nome': ['Ary', 'Cátia', 'Denis', 'Beto', 'Bruna', 'Dara', 'Carlos', 'Alice'], \n",
    "                        'Sexo': ['M', 'F', 'M', 'M', 'F', 'F', 'M', 'F'], \n",
    "                        'Idade': [15, 27, 56, 32, 42, 21, 19, 35], \n",
    "                        'Notas': [7.5, 2.5, 5.0, 10, 8.2, 7, 6, 5.6], \n",
    "                        'Aprovado': [True, False, False, True, True, True, False, False]}, \n",
    "                        columns = ['Nome', 'Idade', 'Sexo', 'Notas', 'Aprovado'])"
   ]
  },
  {
   "cell_type": "markdown",
   "id": "ec5442ee",
   "metadata": {},
   "source": [
    "Crie um DataFrame somente com os alunos aprovados."
   ]
  },
  {
   "cell_type": "code",
   "execution_count": 8,
   "id": "b697c5aa",
   "metadata": {},
   "outputs": [
    {
     "data": {
      "text/html": [
       "<div>\n",
       "<style scoped>\n",
       "    .dataframe tbody tr th:only-of-type {\n",
       "        vertical-align: middle;\n",
       "    }\n",
       "\n",
       "    .dataframe tbody tr th {\n",
       "        vertical-align: top;\n",
       "    }\n",
       "\n",
       "    .dataframe thead th {\n",
       "        text-align: right;\n",
       "    }\n",
       "</style>\n",
       "<table border=\"1\" class=\"dataframe\">\n",
       "  <thead>\n",
       "    <tr style=\"text-align: right;\">\n",
       "      <th></th>\n",
       "      <th>Nome</th>\n",
       "      <th>Idade</th>\n",
       "      <th>Sexo</th>\n",
       "      <th>Notas</th>\n",
       "      <th>Aprovado</th>\n",
       "    </tr>\n",
       "  </thead>\n",
       "  <tbody>\n",
       "    <tr>\n",
       "      <th>0</th>\n",
       "      <td>Ary</td>\n",
       "      <td>15</td>\n",
       "      <td>M</td>\n",
       "      <td>7.5</td>\n",
       "      <td>True</td>\n",
       "    </tr>\n",
       "    <tr>\n",
       "      <th>3</th>\n",
       "      <td>Beto</td>\n",
       "      <td>32</td>\n",
       "      <td>M</td>\n",
       "      <td>10.0</td>\n",
       "      <td>True</td>\n",
       "    </tr>\n",
       "    <tr>\n",
       "      <th>4</th>\n",
       "      <td>Bruna</td>\n",
       "      <td>42</td>\n",
       "      <td>F</td>\n",
       "      <td>8.2</td>\n",
       "      <td>True</td>\n",
       "    </tr>\n",
       "    <tr>\n",
       "      <th>5</th>\n",
       "      <td>Dara</td>\n",
       "      <td>21</td>\n",
       "      <td>F</td>\n",
       "      <td>7.0</td>\n",
       "      <td>True</td>\n",
       "    </tr>\n",
       "  </tbody>\n",
       "</table>\n",
       "</div>"
      ],
      "text/plain": [
       "    Nome  Idade Sexo  Notas  Aprovado\n",
       "0    Ary     15    M    7.5      True\n",
       "3   Beto     32    M   10.0      True\n",
       "4  Bruna     42    F    8.2      True\n",
       "5   Dara     21    F    7.0      True"
      ]
     },
     "execution_count": 8,
     "metadata": {},
     "output_type": "execute_result"
    }
   ],
   "source": [
    "alunos[alunos.Aprovado]"
   ]
  },
  {
   "cell_type": "code",
   "execution_count": 10,
   "id": "92efcff5",
   "metadata": {},
   "outputs": [
    {
     "data": {
      "text/html": [
       "<div>\n",
       "<style scoped>\n",
       "    .dataframe tbody tr th:only-of-type {\n",
       "        vertical-align: middle;\n",
       "    }\n",
       "\n",
       "    .dataframe tbody tr th {\n",
       "        vertical-align: top;\n",
       "    }\n",
       "\n",
       "    .dataframe thead th {\n",
       "        text-align: right;\n",
       "    }\n",
       "</style>\n",
       "<table border=\"1\" class=\"dataframe\">\n",
       "  <thead>\n",
       "    <tr style=\"text-align: right;\">\n",
       "      <th></th>\n",
       "      <th>Nome</th>\n",
       "      <th>Idade</th>\n",
       "      <th>Sexo</th>\n",
       "      <th>Notas</th>\n",
       "      <th>Aprovado</th>\n",
       "    </tr>\n",
       "  </thead>\n",
       "  <tbody>\n",
       "    <tr>\n",
       "      <th>0</th>\n",
       "      <td>Ary</td>\n",
       "      <td>15</td>\n",
       "      <td>M</td>\n",
       "      <td>7.5</td>\n",
       "      <td>True</td>\n",
       "    </tr>\n",
       "    <tr>\n",
       "      <th>3</th>\n",
       "      <td>Beto</td>\n",
       "      <td>32</td>\n",
       "      <td>M</td>\n",
       "      <td>10.0</td>\n",
       "      <td>True</td>\n",
       "    </tr>\n",
       "    <tr>\n",
       "      <th>4</th>\n",
       "      <td>Bruna</td>\n",
       "      <td>42</td>\n",
       "      <td>F</td>\n",
       "      <td>8.2</td>\n",
       "      <td>True</td>\n",
       "    </tr>\n",
       "    <tr>\n",
       "      <th>5</th>\n",
       "      <td>Dara</td>\n",
       "      <td>21</td>\n",
       "      <td>F</td>\n",
       "      <td>7.0</td>\n",
       "      <td>True</td>\n",
       "    </tr>\n",
       "  </tbody>\n",
       "</table>\n",
       "</div>"
      ],
      "text/plain": [
       "    Nome  Idade Sexo  Notas  Aprovado\n",
       "0    Ary     15    M    7.5      True\n",
       "3   Beto     32    M   10.0      True\n",
       "4  Bruna     42    F    8.2      True\n",
       "5   Dara     21    F    7.0      True"
      ]
     },
     "execution_count": 10,
     "metadata": {},
     "output_type": "execute_result"
    }
   ],
   "source": [
    "# ou\n",
    "selecao = alunos['Aprovado'] == True\n",
    "alunos[selecao]"
   ]
  },
  {
   "cell_type": "markdown",
   "id": "b7dc7638",
   "metadata": {},
   "source": [
    "Crie um DataFrame somente com as alunas aprovadas."
   ]
  },
  {
   "cell_type": "code",
   "execution_count": 12,
   "id": "6378c4f8",
   "metadata": {},
   "outputs": [
    {
     "data": {
      "text/html": [
       "<div>\n",
       "<style scoped>\n",
       "    .dataframe tbody tr th:only-of-type {\n",
       "        vertical-align: middle;\n",
       "    }\n",
       "\n",
       "    .dataframe tbody tr th {\n",
       "        vertical-align: top;\n",
       "    }\n",
       "\n",
       "    .dataframe thead th {\n",
       "        text-align: right;\n",
       "    }\n",
       "</style>\n",
       "<table border=\"1\" class=\"dataframe\">\n",
       "  <thead>\n",
       "    <tr style=\"text-align: right;\">\n",
       "      <th></th>\n",
       "      <th>Nome</th>\n",
       "      <th>Idade</th>\n",
       "      <th>Sexo</th>\n",
       "      <th>Notas</th>\n",
       "      <th>Aprovado</th>\n",
       "    </tr>\n",
       "  </thead>\n",
       "  <tbody>\n",
       "    <tr>\n",
       "      <th>4</th>\n",
       "      <td>Bruna</td>\n",
       "      <td>42</td>\n",
       "      <td>F</td>\n",
       "      <td>8.2</td>\n",
       "      <td>True</td>\n",
       "    </tr>\n",
       "    <tr>\n",
       "      <th>5</th>\n",
       "      <td>Dara</td>\n",
       "      <td>21</td>\n",
       "      <td>F</td>\n",
       "      <td>7.0</td>\n",
       "      <td>True</td>\n",
       "    </tr>\n",
       "  </tbody>\n",
       "</table>\n",
       "</div>"
      ],
      "text/plain": [
       "    Nome  Idade Sexo  Notas  Aprovado\n",
       "4  Bruna     42    F    8.2      True\n",
       "5   Dara     21    F    7.0      True"
      ]
     },
     "execution_count": 12,
     "metadata": {},
     "output_type": "execute_result"
    }
   ],
   "source": [
    "selecao = (alunos['Aprovado'] == True) & (alunos['Sexo'] == 'F')\n",
    "alunos[selecao]"
   ]
  },
  {
   "cell_type": "code",
   "execution_count": 14,
   "id": "2967ef7c",
   "metadata": {},
   "outputs": [
    {
     "data": {
      "text/html": [
       "<div>\n",
       "<style scoped>\n",
       "    .dataframe tbody tr th:only-of-type {\n",
       "        vertical-align: middle;\n",
       "    }\n",
       "\n",
       "    .dataframe tbody tr th {\n",
       "        vertical-align: top;\n",
       "    }\n",
       "\n",
       "    .dataframe thead th {\n",
       "        text-align: right;\n",
       "    }\n",
       "</style>\n",
       "<table border=\"1\" class=\"dataframe\">\n",
       "  <thead>\n",
       "    <tr style=\"text-align: right;\">\n",
       "      <th></th>\n",
       "      <th>Nome</th>\n",
       "      <th>Idade</th>\n",
       "      <th>Sexo</th>\n",
       "      <th>Notas</th>\n",
       "      <th>Aprovado</th>\n",
       "    </tr>\n",
       "  </thead>\n",
       "  <tbody>\n",
       "    <tr>\n",
       "      <th>4</th>\n",
       "      <td>Bruna</td>\n",
       "      <td>42</td>\n",
       "      <td>F</td>\n",
       "      <td>8.2</td>\n",
       "      <td>True</td>\n",
       "    </tr>\n",
       "    <tr>\n",
       "      <th>5</th>\n",
       "      <td>Dara</td>\n",
       "      <td>21</td>\n",
       "      <td>F</td>\n",
       "      <td>7.0</td>\n",
       "      <td>True</td>\n",
       "    </tr>\n",
       "  </tbody>\n",
       "</table>\n",
       "</div>"
      ],
      "text/plain": [
       "    Nome  Idade Sexo  Notas  Aprovado\n",
       "4  Bruna     42    F    8.2      True\n",
       "5   Dara     21    F    7.0      True"
      ]
     },
     "execution_count": 14,
     "metadata": {},
     "output_type": "execute_result"
    }
   ],
   "source": [
    "# ou \n",
    "selecao = (alunos.Aprovado == True) & (alunos.Sexo == 'F')\n",
    "alunos[selecao]"
   ]
  },
  {
   "cell_type": "markdown",
   "id": "dd1c546f",
   "metadata": {},
   "source": [
    "Crie apenas uma visualização dos alunos com idade entre 10 e 20 anos ou com idade maior ou igual a 40 anos."
   ]
  },
  {
   "cell_type": "code",
   "execution_count": 16,
   "id": "b97e3826",
   "metadata": {},
   "outputs": [
    {
     "data": {
      "text/html": [
       "<div>\n",
       "<style scoped>\n",
       "    .dataframe tbody tr th:only-of-type {\n",
       "        vertical-align: middle;\n",
       "    }\n",
       "\n",
       "    .dataframe tbody tr th {\n",
       "        vertical-align: top;\n",
       "    }\n",
       "\n",
       "    .dataframe thead th {\n",
       "        text-align: right;\n",
       "    }\n",
       "</style>\n",
       "<table border=\"1\" class=\"dataframe\">\n",
       "  <thead>\n",
       "    <tr style=\"text-align: right;\">\n",
       "      <th></th>\n",
       "      <th>Nome</th>\n",
       "      <th>Idade</th>\n",
       "      <th>Sexo</th>\n",
       "      <th>Notas</th>\n",
       "      <th>Aprovado</th>\n",
       "    </tr>\n",
       "  </thead>\n",
       "  <tbody>\n",
       "    <tr>\n",
       "      <th>0</th>\n",
       "      <td>Ary</td>\n",
       "      <td>15</td>\n",
       "      <td>M</td>\n",
       "      <td>7.5</td>\n",
       "      <td>True</td>\n",
       "    </tr>\n",
       "    <tr>\n",
       "      <th>2</th>\n",
       "      <td>Denis</td>\n",
       "      <td>56</td>\n",
       "      <td>M</td>\n",
       "      <td>5.0</td>\n",
       "      <td>False</td>\n",
       "    </tr>\n",
       "    <tr>\n",
       "      <th>4</th>\n",
       "      <td>Bruna</td>\n",
       "      <td>42</td>\n",
       "      <td>F</td>\n",
       "      <td>8.2</td>\n",
       "      <td>True</td>\n",
       "    </tr>\n",
       "    <tr>\n",
       "      <th>6</th>\n",
       "      <td>Carlos</td>\n",
       "      <td>19</td>\n",
       "      <td>M</td>\n",
       "      <td>6.0</td>\n",
       "      <td>False</td>\n",
       "    </tr>\n",
       "  </tbody>\n",
       "</table>\n",
       "</div>"
      ],
      "text/plain": [
       "     Nome  Idade Sexo  Notas  Aprovado\n",
       "0     Ary     15    M    7.5      True\n",
       "2   Denis     56    M    5.0     False\n",
       "4   Bruna     42    F    8.2      True\n",
       "6  Carlos     19    M    6.0     False"
      ]
     },
     "execution_count": 16,
     "metadata": {},
     "output_type": "execute_result"
    }
   ],
   "source": [
    "selecao = ((alunos.Idade >= 10) & (alunos.Idade <= 20)) | (alunos.Idade >= 40)\n",
    "alunos[selecao]"
   ]
  },
  {
   "cell_type": "markdown",
   "id": "a5889570",
   "metadata": {},
   "source": [
    "Crie um DataFrame somente com os alunos reprovados e mantenha neste DataFrame apenas as colunas Nome, Sexo e Idade, nesta ordem."
   ]
  },
  {
   "cell_type": "code",
   "execution_count": 18,
   "id": "70498699",
   "metadata": {},
   "outputs": [
    {
     "data": {
      "text/html": [
       "<div>\n",
       "<style scoped>\n",
       "    .dataframe tbody tr th:only-of-type {\n",
       "        vertical-align: middle;\n",
       "    }\n",
       "\n",
       "    .dataframe tbody tr th {\n",
       "        vertical-align: top;\n",
       "    }\n",
       "\n",
       "    .dataframe thead th {\n",
       "        text-align: right;\n",
       "    }\n",
       "</style>\n",
       "<table border=\"1\" class=\"dataframe\">\n",
       "  <thead>\n",
       "    <tr style=\"text-align: right;\">\n",
       "      <th></th>\n",
       "      <th>Nome</th>\n",
       "      <th>Sexo</th>\n",
       "      <th>Idade</th>\n",
       "    </tr>\n",
       "  </thead>\n",
       "  <tbody>\n",
       "    <tr>\n",
       "      <th>1</th>\n",
       "      <td>Cátia</td>\n",
       "      <td>F</td>\n",
       "      <td>27</td>\n",
       "    </tr>\n",
       "    <tr>\n",
       "      <th>2</th>\n",
       "      <td>Denis</td>\n",
       "      <td>M</td>\n",
       "      <td>56</td>\n",
       "    </tr>\n",
       "    <tr>\n",
       "      <th>6</th>\n",
       "      <td>Carlos</td>\n",
       "      <td>M</td>\n",
       "      <td>19</td>\n",
       "    </tr>\n",
       "    <tr>\n",
       "      <th>7</th>\n",
       "      <td>Alice</td>\n",
       "      <td>F</td>\n",
       "      <td>35</td>\n",
       "    </tr>\n",
       "  </tbody>\n",
       "</table>\n",
       "</div>"
      ],
      "text/plain": [
       "     Nome Sexo  Idade\n",
       "1   Cátia    F     27\n",
       "2   Denis    M     56\n",
       "6  Carlos    M     19\n",
       "7   Alice    F     35"
      ]
     },
     "execution_count": 18,
     "metadata": {},
     "output_type": "execute_result"
    }
   ],
   "source": [
    "selecao = alunos.Aprovado == False\n",
    "alunos[selecao][['Nome', 'Sexo', 'Idade']]"
   ]
  },
  {
   "cell_type": "code",
   "execution_count": 19,
   "id": "bfa38ea7",
   "metadata": {},
   "outputs": [
    {
     "data": {
      "text/html": [
       "<div>\n",
       "<style scoped>\n",
       "    .dataframe tbody tr th:only-of-type {\n",
       "        vertical-align: middle;\n",
       "    }\n",
       "\n",
       "    .dataframe tbody tr th {\n",
       "        vertical-align: top;\n",
       "    }\n",
       "\n",
       "    .dataframe thead th {\n",
       "        text-align: right;\n",
       "    }\n",
       "</style>\n",
       "<table border=\"1\" class=\"dataframe\">\n",
       "  <thead>\n",
       "    <tr style=\"text-align: right;\">\n",
       "      <th></th>\n",
       "      <th>Nome</th>\n",
       "      <th>Sexo</th>\n",
       "      <th>Idade</th>\n",
       "    </tr>\n",
       "  </thead>\n",
       "  <tbody>\n",
       "    <tr>\n",
       "      <th>1</th>\n",
       "      <td>Cátia</td>\n",
       "      <td>F</td>\n",
       "      <td>27</td>\n",
       "    </tr>\n",
       "    <tr>\n",
       "      <th>2</th>\n",
       "      <td>Denis</td>\n",
       "      <td>M</td>\n",
       "      <td>56</td>\n",
       "    </tr>\n",
       "    <tr>\n",
       "      <th>6</th>\n",
       "      <td>Carlos</td>\n",
       "      <td>M</td>\n",
       "      <td>19</td>\n",
       "    </tr>\n",
       "    <tr>\n",
       "      <th>7</th>\n",
       "      <td>Alice</td>\n",
       "      <td>F</td>\n",
       "      <td>35</td>\n",
       "    </tr>\n",
       "  </tbody>\n",
       "</table>\n",
       "</div>"
      ],
      "text/plain": [
       "     Nome Sexo  Idade\n",
       "1   Cátia    F     27\n",
       "2   Denis    M     56\n",
       "6  Carlos    M     19\n",
       "7   Alice    F     35"
      ]
     },
     "execution_count": 19,
     "metadata": {},
     "output_type": "execute_result"
    }
   ],
   "source": [
    "alunos[['Nome', 'Sexo', 'Idade']][selecao]"
   ]
  },
  {
   "cell_type": "markdown",
   "id": "6a931cd7",
   "metadata": {},
   "source": [
    "Crie uma visualização com os três alunos mais novos."
   ]
  },
  {
   "cell_type": "code",
   "execution_count": 22,
   "id": "67e3c767",
   "metadata": {},
   "outputs": [
    {
     "data": {
      "text/html": [
       "<div>\n",
       "<style scoped>\n",
       "    .dataframe tbody tr th:only-of-type {\n",
       "        vertical-align: middle;\n",
       "    }\n",
       "\n",
       "    .dataframe tbody tr th {\n",
       "        vertical-align: top;\n",
       "    }\n",
       "\n",
       "    .dataframe thead th {\n",
       "        text-align: right;\n",
       "    }\n",
       "</style>\n",
       "<table border=\"1\" class=\"dataframe\">\n",
       "  <thead>\n",
       "    <tr style=\"text-align: right;\">\n",
       "      <th></th>\n",
       "      <th>Nome</th>\n",
       "      <th>Idade</th>\n",
       "      <th>Sexo</th>\n",
       "      <th>Notas</th>\n",
       "      <th>Aprovado</th>\n",
       "    </tr>\n",
       "  </thead>\n",
       "  <tbody>\n",
       "    <tr>\n",
       "      <th>0</th>\n",
       "      <td>Ary</td>\n",
       "      <td>15</td>\n",
       "      <td>M</td>\n",
       "      <td>7.5</td>\n",
       "      <td>True</td>\n",
       "    </tr>\n",
       "    <tr>\n",
       "      <th>6</th>\n",
       "      <td>Carlos</td>\n",
       "      <td>19</td>\n",
       "      <td>M</td>\n",
       "      <td>6.0</td>\n",
       "      <td>False</td>\n",
       "    </tr>\n",
       "    <tr>\n",
       "      <th>5</th>\n",
       "      <td>Dara</td>\n",
       "      <td>21</td>\n",
       "      <td>F</td>\n",
       "      <td>7.0</td>\n",
       "      <td>True</td>\n",
       "    </tr>\n",
       "  </tbody>\n",
       "</table>\n",
       "</div>"
      ],
      "text/plain": [
       "     Nome  Idade Sexo  Notas  Aprovado\n",
       "0     Ary     15    M    7.5      True\n",
       "6  Carlos     19    M    6.0     False\n",
       "5    Dara     21    F    7.0      True"
      ]
     },
     "execution_count": 22,
     "metadata": {},
     "output_type": "execute_result"
    }
   ],
   "source": [
    "alunos.sort_values(by = 'Idade')[:3]"
   ]
  },
  {
   "cell_type": "markdown",
   "id": "88fb4d4d",
   "metadata": {},
   "source": [
    "## Tratando dados faltantes"
   ]
  },
  {
   "cell_type": "markdown",
   "id": "398bcf74",
   "metadata": {},
   "source": [
    "### Revisando o processo"
   ]
  },
  {
   "cell_type": "code",
   "execution_count": 32,
   "id": "61422686",
   "metadata": {},
   "outputs": [
    {
     "data": {
      "text/html": [
       "<div>\n",
       "<style scoped>\n",
       "    .dataframe tbody tr th:only-of-type {\n",
       "        vertical-align: middle;\n",
       "    }\n",
       "\n",
       "    .dataframe tbody tr th {\n",
       "        vertical-align: top;\n",
       "    }\n",
       "\n",
       "    .dataframe thead th {\n",
       "        text-align: right;\n",
       "    }\n",
       "</style>\n",
       "<table border=\"1\" class=\"dataframe\">\n",
       "  <thead>\n",
       "    <tr style=\"text-align: right;\">\n",
       "      <th></th>\n",
       "      <th>Tipo</th>\n",
       "      <th>Valor</th>\n",
       "      <th>Condominio</th>\n",
       "      <th>IPTU</th>\n",
       "    </tr>\n",
       "  </thead>\n",
       "  <tbody>\n",
       "    <tr>\n",
       "      <th>0</th>\n",
       "      <td>Apartamento</td>\n",
       "      <td>NaN</td>\n",
       "      <td>970.0</td>\n",
       "      <td>68.0</td>\n",
       "    </tr>\n",
       "    <tr>\n",
       "      <th>1</th>\n",
       "      <td>Apartamento</td>\n",
       "      <td>2000.0</td>\n",
       "      <td>878.0</td>\n",
       "      <td>112.0</td>\n",
       "    </tr>\n",
       "    <tr>\n",
       "      <th>2</th>\n",
       "      <td>Casa</td>\n",
       "      <td>5000.0</td>\n",
       "      <td>NaN</td>\n",
       "      <td>500.0</td>\n",
       "    </tr>\n",
       "    <tr>\n",
       "      <th>3</th>\n",
       "      <td>Apartamento</td>\n",
       "      <td>NaN</td>\n",
       "      <td>1010.0</td>\n",
       "      <td>170.0</td>\n",
       "    </tr>\n",
       "    <tr>\n",
       "      <th>4</th>\n",
       "      <td>Apartamento</td>\n",
       "      <td>1500.0</td>\n",
       "      <td>850.0</td>\n",
       "      <td>NaN</td>\n",
       "    </tr>\n",
       "    <tr>\n",
       "      <th>5</th>\n",
       "      <td>Casa</td>\n",
       "      <td>NaN</td>\n",
       "      <td>NaN</td>\n",
       "      <td>NaN</td>\n",
       "    </tr>\n",
       "    <tr>\n",
       "      <th>6</th>\n",
       "      <td>Apartamento</td>\n",
       "      <td>2000.0</td>\n",
       "      <td>878.0</td>\n",
       "      <td>NaN</td>\n",
       "    </tr>\n",
       "    <tr>\n",
       "      <th>7</th>\n",
       "      <td>Apartamento</td>\n",
       "      <td>1550.0</td>\n",
       "      <td>NaN</td>\n",
       "      <td>228.0</td>\n",
       "    </tr>\n",
       "    <tr>\n",
       "      <th>8</th>\n",
       "      <td>Apartamento</td>\n",
       "      <td>2500.0</td>\n",
       "      <td>880.0</td>\n",
       "      <td>195.0</td>\n",
       "    </tr>\n",
       "  </tbody>\n",
       "</table>\n",
       "</div>"
      ],
      "text/plain": [
       "          Tipo   Valor  Condominio   IPTU\n",
       "0  Apartamento     NaN       970.0   68.0\n",
       "1  Apartamento  2000.0       878.0  112.0\n",
       "2         Casa  5000.0         NaN  500.0\n",
       "3  Apartamento     NaN      1010.0  170.0\n",
       "4  Apartamento  1500.0       850.0    NaN\n",
       "5         Casa     NaN         NaN    NaN\n",
       "6  Apartamento  2000.0       878.0    NaN\n",
       "7  Apartamento  1550.0         NaN  228.0\n",
       "8  Apartamento  2500.0       880.0  195.0"
      ]
     },
     "execution_count": 32,
     "metadata": {},
     "output_type": "execute_result"
    }
   ],
   "source": [
    "imoveis = pd.DataFrame([['Apartamento', None, 970, 68], \n",
    "                        ['Apartamento', 2000, 878, 112], \n",
    "                        ['Casa', 5000, None, 500], \n",
    "                        ['Apartamento', None, 1010, 170], \n",
    "                        ['Apartamento', 1500, 850, None], \n",
    "                        ['Casa', None, None, None], \n",
    "                        ['Apartamento', 2000, 878, None], \n",
    "                        ['Apartamento', 1550, None, 228], \n",
    "                        ['Apartamento', 2500, 880, 195]], \n",
    "                        columns = ['Tipo', 'Valor', 'Condominio', 'IPTU'])\n",
    "imoveis"
   ]
  },
  {
   "cell_type": "code",
   "execution_count": 33,
   "id": "b02fe6f6",
   "metadata": {},
   "outputs": [
    {
     "data": {
      "text/html": [
       "<div>\n",
       "<style scoped>\n",
       "    .dataframe tbody tr th:only-of-type {\n",
       "        vertical-align: middle;\n",
       "    }\n",
       "\n",
       "    .dataframe tbody tr th {\n",
       "        vertical-align: top;\n",
       "    }\n",
       "\n",
       "    .dataframe thead th {\n",
       "        text-align: right;\n",
       "    }\n",
       "</style>\n",
       "<table border=\"1\" class=\"dataframe\">\n",
       "  <thead>\n",
       "    <tr style=\"text-align: right;\">\n",
       "      <th></th>\n",
       "      <th>Tipo</th>\n",
       "      <th>Valor</th>\n",
       "      <th>Condominio</th>\n",
       "      <th>IPTU</th>\n",
       "    </tr>\n",
       "  </thead>\n",
       "  <tbody>\n",
       "    <tr>\n",
       "      <th>1</th>\n",
       "      <td>Apartamento</td>\n",
       "      <td>2000.0</td>\n",
       "      <td>878.0</td>\n",
       "      <td>112.0</td>\n",
       "    </tr>\n",
       "    <tr>\n",
       "      <th>2</th>\n",
       "      <td>Casa</td>\n",
       "      <td>5000.0</td>\n",
       "      <td>NaN</td>\n",
       "      <td>500.0</td>\n",
       "    </tr>\n",
       "    <tr>\n",
       "      <th>4</th>\n",
       "      <td>Apartamento</td>\n",
       "      <td>1500.0</td>\n",
       "      <td>850.0</td>\n",
       "      <td>NaN</td>\n",
       "    </tr>\n",
       "    <tr>\n",
       "      <th>6</th>\n",
       "      <td>Apartamento</td>\n",
       "      <td>2000.0</td>\n",
       "      <td>878.0</td>\n",
       "      <td>NaN</td>\n",
       "    </tr>\n",
       "    <tr>\n",
       "      <th>7</th>\n",
       "      <td>Apartamento</td>\n",
       "      <td>1550.0</td>\n",
       "      <td>NaN</td>\n",
       "      <td>228.0</td>\n",
       "    </tr>\n",
       "    <tr>\n",
       "      <th>8</th>\n",
       "      <td>Apartamento</td>\n",
       "      <td>2500.0</td>\n",
       "      <td>880.0</td>\n",
       "      <td>195.0</td>\n",
       "    </tr>\n",
       "  </tbody>\n",
       "</table>\n",
       "</div>"
      ],
      "text/plain": [
       "          Tipo   Valor  Condominio   IPTU\n",
       "1  Apartamento  2000.0       878.0  112.0\n",
       "2         Casa  5000.0         NaN  500.0\n",
       "4  Apartamento  1500.0       850.0    NaN\n",
       "6  Apartamento  2000.0       878.0    NaN\n",
       "7  Apartamento  1550.0         NaN  228.0\n",
       "8  Apartamento  2500.0       880.0  195.0"
      ]
     },
     "execution_count": 33,
     "metadata": {},
     "output_type": "execute_result"
    }
   ],
   "source": [
    "# 1) Elimina os registros que não apresentam a variável Valor:\n",
    "imoveis.dropna(subset = ['Valor'], inplace = True)\n",
    "imoveis"
   ]
  },
  {
   "cell_type": "code",
   "execution_count": 34,
   "id": "85711087",
   "metadata": {},
   "outputs": [
    {
     "data": {
      "text/html": [
       "<div>\n",
       "<style scoped>\n",
       "    .dataframe tbody tr th:only-of-type {\n",
       "        vertical-align: middle;\n",
       "    }\n",
       "\n",
       "    .dataframe tbody tr th {\n",
       "        vertical-align: top;\n",
       "    }\n",
       "\n",
       "    .dataframe thead th {\n",
       "        text-align: right;\n",
       "    }\n",
       "</style>\n",
       "<table border=\"1\" class=\"dataframe\">\n",
       "  <thead>\n",
       "    <tr style=\"text-align: right;\">\n",
       "      <th></th>\n",
       "      <th>Tipo</th>\n",
       "      <th>Valor</th>\n",
       "      <th>Condominio</th>\n",
       "      <th>IPTU</th>\n",
       "    </tr>\n",
       "  </thead>\n",
       "  <tbody>\n",
       "    <tr>\n",
       "      <th>1</th>\n",
       "      <td>Apartamento</td>\n",
       "      <td>2000.0</td>\n",
       "      <td>878.0</td>\n",
       "      <td>112.0</td>\n",
       "    </tr>\n",
       "    <tr>\n",
       "      <th>2</th>\n",
       "      <td>Casa</td>\n",
       "      <td>5000.0</td>\n",
       "      <td>NaN</td>\n",
       "      <td>500.0</td>\n",
       "    </tr>\n",
       "    <tr>\n",
       "      <th>4</th>\n",
       "      <td>Apartamento</td>\n",
       "      <td>1500.0</td>\n",
       "      <td>850.0</td>\n",
       "      <td>NaN</td>\n",
       "    </tr>\n",
       "    <tr>\n",
       "      <th>6</th>\n",
       "      <td>Apartamento</td>\n",
       "      <td>2000.0</td>\n",
       "      <td>878.0</td>\n",
       "      <td>NaN</td>\n",
       "    </tr>\n",
       "    <tr>\n",
       "      <th>8</th>\n",
       "      <td>Apartamento</td>\n",
       "      <td>2500.0</td>\n",
       "      <td>880.0</td>\n",
       "      <td>195.0</td>\n",
       "    </tr>\n",
       "  </tbody>\n",
       "</table>\n",
       "</div>"
      ],
      "text/plain": [
       "          Tipo   Valor  Condominio   IPTU\n",
       "1  Apartamento  2000.0       878.0  112.0\n",
       "2         Casa  5000.0         NaN  500.0\n",
       "4  Apartamento  1500.0       850.0    NaN\n",
       "6  Apartamento  2000.0       878.0    NaN\n",
       "8  Apartamento  2500.0       880.0  195.0"
      ]
     },
     "execution_count": 34,
     "metadata": {},
     "output_type": "execute_result"
    }
   ],
   "source": [
    "# 2) Elimina os imóveis do tipo Apartamento que não apresentam valor Condominio:\n",
    "selecao = (imoveis['Tipo'] == 'Apartamento') & (imoveis['Condominio'].isnull())\n",
    "imoveis = imoveis[~selecao]\n",
    "imoveis"
   ]
  },
  {
   "cell_type": "code",
   "execution_count": 35,
   "id": "f5e6a369",
   "metadata": {},
   "outputs": [
    {
     "data": {
      "text/html": [
       "<div>\n",
       "<style scoped>\n",
       "    .dataframe tbody tr th:only-of-type {\n",
       "        vertical-align: middle;\n",
       "    }\n",
       "\n",
       "    .dataframe tbody tr th {\n",
       "        vertical-align: top;\n",
       "    }\n",
       "\n",
       "    .dataframe thead th {\n",
       "        text-align: right;\n",
       "    }\n",
       "</style>\n",
       "<table border=\"1\" class=\"dataframe\">\n",
       "  <thead>\n",
       "    <tr style=\"text-align: right;\">\n",
       "      <th></th>\n",
       "      <th>Tipo</th>\n",
       "      <th>Valor</th>\n",
       "      <th>Condominio</th>\n",
       "      <th>IPTU</th>\n",
       "    </tr>\n",
       "  </thead>\n",
       "  <tbody>\n",
       "    <tr>\n",
       "      <th>1</th>\n",
       "      <td>Apartamento</td>\n",
       "      <td>2000.0</td>\n",
       "      <td>878.0</td>\n",
       "      <td>112.0</td>\n",
       "    </tr>\n",
       "    <tr>\n",
       "      <th>2</th>\n",
       "      <td>Casa</td>\n",
       "      <td>5000.0</td>\n",
       "      <td>0.0</td>\n",
       "      <td>500.0</td>\n",
       "    </tr>\n",
       "    <tr>\n",
       "      <th>4</th>\n",
       "      <td>Apartamento</td>\n",
       "      <td>1500.0</td>\n",
       "      <td>850.0</td>\n",
       "      <td>0.0</td>\n",
       "    </tr>\n",
       "    <tr>\n",
       "      <th>6</th>\n",
       "      <td>Apartamento</td>\n",
       "      <td>2000.0</td>\n",
       "      <td>878.0</td>\n",
       "      <td>0.0</td>\n",
       "    </tr>\n",
       "    <tr>\n",
       "      <th>8</th>\n",
       "      <td>Apartamento</td>\n",
       "      <td>2500.0</td>\n",
       "      <td>880.0</td>\n",
       "      <td>195.0</td>\n",
       "    </tr>\n",
       "  </tbody>\n",
       "</table>\n",
       "</div>"
      ],
      "text/plain": [
       "          Tipo   Valor  Condominio   IPTU\n",
       "1  Apartamento  2000.0       878.0  112.0\n",
       "2         Casa  5000.0         0.0  500.0\n",
       "4  Apartamento  1500.0       850.0    0.0\n",
       "6  Apartamento  2000.0       878.0    0.0\n",
       "8  Apartamento  2500.0       880.0  195.0"
      ]
     },
     "execution_count": 35,
     "metadata": {},
     "output_type": "execute_result"
    }
   ],
   "source": [
    "# 3) Substitui os valores faltantes que restam nas variáveis Condominio e IPTU por zero:\n",
    "imoveis = imoveis.fillna({'Condominio': 0, 'IPTU': 0})\n",
    "imoveis"
   ]
  },
  {
   "cell_type": "code",
   "execution_count": 36,
   "id": "38c3474c",
   "metadata": {},
   "outputs": [
    {
     "data": {
      "text/html": [
       "<div>\n",
       "<style scoped>\n",
       "    .dataframe tbody tr th:only-of-type {\n",
       "        vertical-align: middle;\n",
       "    }\n",
       "\n",
       "    .dataframe tbody tr th {\n",
       "        vertical-align: top;\n",
       "    }\n",
       "\n",
       "    .dataframe thead th {\n",
       "        text-align: right;\n",
       "    }\n",
       "</style>\n",
       "<table border=\"1\" class=\"dataframe\">\n",
       "  <thead>\n",
       "    <tr style=\"text-align: right;\">\n",
       "      <th></th>\n",
       "      <th>Tipo</th>\n",
       "      <th>Valor</th>\n",
       "      <th>Condominio</th>\n",
       "      <th>IPTU</th>\n",
       "    </tr>\n",
       "  </thead>\n",
       "  <tbody>\n",
       "    <tr>\n",
       "      <th>0</th>\n",
       "      <td>Apartamento</td>\n",
       "      <td>2000.0</td>\n",
       "      <td>878.0</td>\n",
       "      <td>112.0</td>\n",
       "    </tr>\n",
       "    <tr>\n",
       "      <th>1</th>\n",
       "      <td>Casa</td>\n",
       "      <td>5000.0</td>\n",
       "      <td>0.0</td>\n",
       "      <td>500.0</td>\n",
       "    </tr>\n",
       "    <tr>\n",
       "      <th>2</th>\n",
       "      <td>Apartamento</td>\n",
       "      <td>1500.0</td>\n",
       "      <td>850.0</td>\n",
       "      <td>0.0</td>\n",
       "    </tr>\n",
       "    <tr>\n",
       "      <th>3</th>\n",
       "      <td>Apartamento</td>\n",
       "      <td>2000.0</td>\n",
       "      <td>878.0</td>\n",
       "      <td>0.0</td>\n",
       "    </tr>\n",
       "    <tr>\n",
       "      <th>4</th>\n",
       "      <td>Apartamento</td>\n",
       "      <td>2500.0</td>\n",
       "      <td>880.0</td>\n",
       "      <td>195.0</td>\n",
       "    </tr>\n",
       "  </tbody>\n",
       "</table>\n",
       "</div>"
      ],
      "text/plain": [
       "          Tipo   Valor  Condominio   IPTU\n",
       "0  Apartamento  2000.0       878.0  112.0\n",
       "1         Casa  5000.0         0.0  500.0\n",
       "2  Apartamento  1500.0       850.0    0.0\n",
       "3  Apartamento  2000.0       878.0    0.0\n",
       "4  Apartamento  2500.0       880.0  195.0"
      ]
     },
     "execution_count": 36,
     "metadata": {},
     "output_type": "execute_result"
    }
   ],
   "source": [
    "# 4) Reconstrói o índice do DataFrame resultante:\n",
    "imoveis.index = range(imoveis.shape[0])\n",
    "imoveis"
   ]
  },
  {
   "cell_type": "markdown",
   "id": "364e90c8",
   "metadata": {},
   "source": [
    "## Novas variáveis"
   ]
  },
  {
   "cell_type": "markdown",
   "id": "fafa1739",
   "metadata": {},
   "source": [
    "###  Identifique o erro na criação de variáveis"
   ]
  },
  {
   "cell_type": "markdown",
   "id": "7c3203b5",
   "metadata": {},
   "source": [
    "Falando da criação de novas variáveis para um DataFrame, analise as opções abaixo e indique a que apresenta um erro durante a execução. Considere o DataFrame abaixo:"
   ]
  },
  {
   "cell_type": "code",
   "execution_count": 37,
   "id": "eec76d0e",
   "metadata": {},
   "outputs": [],
   "source": [
    "import pandas as pd\n",
    "alunos = pd.DataFrame({'Nome': ['Ary', 'Cátia', 'Denis', 'Beto', 'Bruna', 'Dara', 'Carlos', 'Alice'], \n",
    "                        'Sexo': ['M', 'F', 'M', 'M', 'F', 'F', 'M', 'F'], \n",
    "                        'Idade': [15, 27, 56, 32, 42, 21, 19, 35], \n",
    "                        'Notas': [7.5, 2.5, 5.0, 10, 8.2, 7, 6, 5.6]}, \n",
    "                        columns = ['Nome', 'Idade', 'Sexo', 'Notas'])"
   ]
  },
  {
   "cell_type": "code",
   "execution_count": 42,
   "id": "46cde2b2",
   "metadata": {},
   "outputs": [],
   "source": [
    "alunos['Notas-Média(Notas)'] = alunos['Notas'].apply(lambda x: x - alunos['Notas'].mean())"
   ]
  },
  {
   "cell_type": "code",
   "execution_count": 43,
   "id": "62f27c40",
   "metadata": {},
   "outputs": [],
   "source": [
    "alunos['Faixa Etária'] = alunos['Idade'].apply(lambda x: 'Menor que 20 anos' if x < 20 \n",
    "        else ('Entre 20 e 40 anos' if (x >= 20 and x <= 40) \n",
    "            else 'Maior que 40 anos'))"
   ]
  },
  {
   "cell_type": "code",
   "execution_count": 45,
   "id": "640215a6",
   "metadata": {},
   "outputs": [],
   "source": [
    "alunos['Faixa Etária'] = alunos['Idade'].apply(lambda x: 'Menor que 20 anos' if x < 20 \n",
    "        else ('Entre 20 e 40 anos' if (x >= 20 and x <= 40) \n",
    "            else 'Maior que 40 anos'))"
   ]
  },
  {
   "cell_type": "code",
   "execution_count": 41,
   "id": "e4f5988b",
   "metadata": {},
   "outputs": [],
   "source": [
    "alunos['Notas-Média(Notas)'] = alunos.Notas - alunos.Notas.mean()"
   ]
  },
  {
   "cell_type": "markdown",
   "id": "f2b1bd18",
   "metadata": {},
   "source": [
    "### Testando moedas"
   ]
  },
  {
   "cell_type": "markdown",
   "id": "5455a21f",
   "metadata": {},
   "source": [
    "Suponha que estejamos testando as moedas que serão utilizadas por árbitros de futebol nas competições da Copa do Mundo. Atualmente, estas moedas são personalizadas e utilizadas em certos momentos dos jogos para decidir, na sorte, uma disputa. Nosso objetivo é verificar se as moedas que serão utilizadas nas competições não sejam viciadas.\n",
    "\n",
    "Para isso, testes foram realizados com cinco moedas e os resultados foram os seguintes:"
   ]
  },
  {
   "cell_type": "code",
   "execution_count": 47,
   "id": "f81cb454",
   "metadata": {},
   "outputs": [],
   "source": [
    "m1 = 'CCcCCccCCCccCcCccCcCcCCCcCCcccCCcCcCcCcccCCcCcccCc'\n",
    "m2 = 'CCCCCccCccCcCCCCccCccccCccCccCCcCccCcCcCCcCccCccCc'\n",
    "m3 = 'CccCCccCcCCCCCCCCCCcccCccCCCCCCccCCCcccCCCcCCcccCC'\n",
    "m4 = 'cCCccCCccCCccCCccccCcCcCcCcCcCcCCCCccccCCCcCCcCCCC'\n",
    "m5 = 'CCCcCcCcCcCCCcCCcCcCCccCcCCcccCccCCcCcCcCcCcccccCc'"
   ]
  },
  {
   "cell_type": "markdown",
   "id": "726ca99c",
   "metadata": {},
   "source": [
    "Acima, temos o resultado de 50 lançamentos de cada moeda (m1, m2, m3, m4 e m5), onde c representa a ocorrência do evento CARA e C representa a ocorrência do evento COROA.\n",
    "\n",
    "Para tirarmos nossas conclusões, precisamos montar o seguinte DataFrame:"
   ]
  },
  {
   "cell_type": "markdown",
   "id": "99bd817a",
   "metadata": {},
   "source": [
    "Onde Freq. C e Freq. c são, respectivamente, as frequências de COROAS e de CARAS em cada teste.\n",
    "\n",
    "Assinale a opção que mostra o código necessário para realizar tal tarefa."
   ]
  },
  {
   "cell_type": "code",
   "execution_count": 56,
   "id": "96056036",
   "metadata": {},
   "outputs": [],
   "source": [
    "eventos = {'m1': list(m1),\n",
    "'m2': list(m2),\n",
    "'m3': list(m3),\n",
    "'m4': list(m4),\n",
    "'m5': list(m5)}"
   ]
  },
  {
   "cell_type": "code",
   "execution_count": 58,
   "id": "4adc98dd",
   "metadata": {},
   "outputs": [],
   "source": [
    "moedas = pd.DataFrame(eventos)"
   ]
  },
  {
   "cell_type": "code",
   "execution_count": 60,
   "id": "ffd8ffeb",
   "metadata": {},
   "outputs": [
    {
     "data": {
      "text/html": [
       "<div>\n",
       "<style scoped>\n",
       "    .dataframe tbody tr th:only-of-type {\n",
       "        vertical-align: middle;\n",
       "    }\n",
       "\n",
       "    .dataframe tbody tr th {\n",
       "        vertical-align: top;\n",
       "    }\n",
       "\n",
       "    .dataframe thead th {\n",
       "        text-align: right;\n",
       "    }\n",
       "</style>\n",
       "<table border=\"1\" class=\"dataframe\">\n",
       "  <thead>\n",
       "    <tr style=\"text-align: right;\">\n",
       "      <th></th>\n",
       "      <th>Faces</th>\n",
       "    </tr>\n",
       "  </thead>\n",
       "  <tbody>\n",
       "    <tr>\n",
       "      <th>c</th>\n",
       "      <td>Cara</td>\n",
       "    </tr>\n",
       "    <tr>\n",
       "      <th>C</th>\n",
       "      <td>Coroa</td>\n",
       "    </tr>\n",
       "  </tbody>\n",
       "</table>\n",
       "</div>"
      ],
      "text/plain": [
       "   Faces\n",
       "c   Cara\n",
       "C  Coroa"
      ]
     },
     "execution_count": 60,
     "metadata": {},
     "output_type": "execute_result"
    }
   ],
   "source": [
    "df = pd.DataFrame(data = ['Cara', 'Coroa'],\n",
    "                 index = ['c', 'C'],\n",
    "                 columns = ['Faces'])\n",
    "df"
   ]
  },
  {
   "cell_type": "code",
   "execution_count": 61,
   "id": "5feb6949",
   "metadata": {},
   "outputs": [
    {
     "data": {
      "text/html": [
       "<div>\n",
       "<style scoped>\n",
       "    .dataframe tbody tr th:only-of-type {\n",
       "        vertical-align: middle;\n",
       "    }\n",
       "\n",
       "    .dataframe tbody tr th {\n",
       "        vertical-align: top;\n",
       "    }\n",
       "\n",
       "    .dataframe thead th {\n",
       "        text-align: right;\n",
       "    }\n",
       "</style>\n",
       "<table border=\"1\" class=\"dataframe\">\n",
       "  <thead>\n",
       "    <tr style=\"text-align: right;\">\n",
       "      <th></th>\n",
       "      <th>Faces</th>\n",
       "      <th>m1</th>\n",
       "      <th>m2</th>\n",
       "      <th>m3</th>\n",
       "      <th>m4</th>\n",
       "      <th>m5</th>\n",
       "    </tr>\n",
       "  </thead>\n",
       "  <tbody>\n",
       "    <tr>\n",
       "      <th>c</th>\n",
       "      <td>Cara</td>\n",
       "      <td>25</td>\n",
       "      <td>26</td>\n",
       "      <td>19</td>\n",
       "      <td>23</td>\n",
       "      <td>25</td>\n",
       "    </tr>\n",
       "    <tr>\n",
       "      <th>C</th>\n",
       "      <td>Coroa</td>\n",
       "      <td>25</td>\n",
       "      <td>24</td>\n",
       "      <td>31</td>\n",
       "      <td>27</td>\n",
       "      <td>25</td>\n",
       "    </tr>\n",
       "  </tbody>\n",
       "</table>\n",
       "</div>"
      ],
      "text/plain": [
       "   Faces  m1  m2  m3  m4  m5\n",
       "c   Cara  25  26  19  23  25\n",
       "C  Coroa  25  24  31  27  25"
      ]
     },
     "execution_count": 61,
     "metadata": {},
     "output_type": "execute_result"
    }
   ],
   "source": [
    "for item in moedas:\n",
    "    df = pd.concat([df, moedas[item].value_counts()], \n",
    "                    axis = 1)\n",
    "df"
   ]
  },
  {
   "cell_type": "markdown",
   "id": "dd9728d2",
   "metadata": {},
   "source": [
    "## Estatísticas descritivas"
   ]
  },
  {
   "cell_type": "markdown",
   "id": "0032e4d8",
   "metadata": {},
   "source": [
    "### Sumarizando informações"
   ]
  },
  {
   "cell_type": "code",
   "execution_count": 2,
   "id": "96c83b9d",
   "metadata": {},
   "outputs": [
    {
     "data": {
      "text/html": [
       "<div>\n",
       "<style scoped>\n",
       "    .dataframe tbody tr th:only-of-type {\n",
       "        vertical-align: middle;\n",
       "    }\n",
       "\n",
       "    .dataframe tbody tr th {\n",
       "        vertical-align: top;\n",
       "    }\n",
       "\n",
       "    .dataframe thead th {\n",
       "        text-align: right;\n",
       "    }\n",
       "</style>\n",
       "<table border=\"1\" class=\"dataframe\">\n",
       "  <thead>\n",
       "    <tr style=\"text-align: right;\">\n",
       "      <th></th>\n",
       "      <th>Nome</th>\n",
       "      <th>Idade</th>\n",
       "      <th>Sexo</th>\n",
       "      <th>Notas</th>\n",
       "      <th>Aprovado</th>\n",
       "    </tr>\n",
       "  </thead>\n",
       "  <tbody>\n",
       "    <tr>\n",
       "      <th>0</th>\n",
       "      <td>Ary</td>\n",
       "      <td>15</td>\n",
       "      <td>M</td>\n",
       "      <td>7.5</td>\n",
       "      <td>True</td>\n",
       "    </tr>\n",
       "    <tr>\n",
       "      <th>1</th>\n",
       "      <td>Cátia</td>\n",
       "      <td>27</td>\n",
       "      <td>F</td>\n",
       "      <td>2.5</td>\n",
       "      <td>False</td>\n",
       "    </tr>\n",
       "    <tr>\n",
       "      <th>2</th>\n",
       "      <td>Denis</td>\n",
       "      <td>56</td>\n",
       "      <td>M</td>\n",
       "      <td>5.0</td>\n",
       "      <td>False</td>\n",
       "    </tr>\n",
       "    <tr>\n",
       "      <th>3</th>\n",
       "      <td>Beto</td>\n",
       "      <td>32</td>\n",
       "      <td>M</td>\n",
       "      <td>10.0</td>\n",
       "      <td>True</td>\n",
       "    </tr>\n",
       "    <tr>\n",
       "      <th>4</th>\n",
       "      <td>Bruna</td>\n",
       "      <td>42</td>\n",
       "      <td>F</td>\n",
       "      <td>8.2</td>\n",
       "      <td>True</td>\n",
       "    </tr>\n",
       "    <tr>\n",
       "      <th>5</th>\n",
       "      <td>Dara</td>\n",
       "      <td>21</td>\n",
       "      <td>F</td>\n",
       "      <td>7.0</td>\n",
       "      <td>True</td>\n",
       "    </tr>\n",
       "    <tr>\n",
       "      <th>6</th>\n",
       "      <td>Carlos</td>\n",
       "      <td>19</td>\n",
       "      <td>M</td>\n",
       "      <td>6.0</td>\n",
       "      <td>False</td>\n",
       "    </tr>\n",
       "    <tr>\n",
       "      <th>7</th>\n",
       "      <td>Alice</td>\n",
       "      <td>35</td>\n",
       "      <td>F</td>\n",
       "      <td>5.6</td>\n",
       "      <td>False</td>\n",
       "    </tr>\n",
       "  </tbody>\n",
       "</table>\n",
       "</div>"
      ],
      "text/plain": [
       "     Nome  Idade Sexo  Notas  Aprovado\n",
       "0     Ary     15    M    7.5      True\n",
       "1   Cátia     27    F    2.5     False\n",
       "2   Denis     56    M    5.0     False\n",
       "3    Beto     32    M   10.0      True\n",
       "4   Bruna     42    F    8.2      True\n",
       "5    Dara     21    F    7.0      True\n",
       "6  Carlos     19    M    6.0     False\n",
       "7   Alice     35    F    5.6     False"
      ]
     },
     "execution_count": 2,
     "metadata": {},
     "output_type": "execute_result"
    }
   ],
   "source": [
    "import pandas as pd\n",
    "alunos = pd.DataFrame({'Nome': ['Ary', 'Cátia', 'Denis', 'Beto', 'Bruna', 'Dara', 'Carlos', 'Alice'], \n",
    "                        'Sexo': ['M', 'F', 'M', 'M', 'F', 'F', 'M', 'F'], \n",
    "                        'Idade': [15, 27, 56, 32, 42, 21, 19, 35], \n",
    "                        'Notas': [7.5, 2.5, 5.0, 10, 8.2, 7, 6, 5.6], \n",
    "                        'Aprovado': [True, False, False, True, True, True, False, False]}, \n",
    "                        columns = ['Nome', 'Idade', 'Sexo', 'Notas', 'Aprovado'])\n",
    "alunos"
   ]
  },
  {
   "cell_type": "markdown",
   "id": "2eb2c92c",
   "metadata": {},
   "source": [
    "Como devemos proceder para obter um DataFrame com as notas médias dos alunos, com duas casas decimais, segundo seu sexo?"
   ]
  },
  {
   "cell_type": "code",
   "execution_count": 4,
   "id": "ce815110",
   "metadata": {},
   "outputs": [
    {
     "data": {
      "text/html": [
       "<div>\n",
       "<style scoped>\n",
       "    .dataframe tbody tr th:only-of-type {\n",
       "        vertical-align: middle;\n",
       "    }\n",
       "\n",
       "    .dataframe tbody tr th {\n",
       "        vertical-align: top;\n",
       "    }\n",
       "\n",
       "    .dataframe thead th {\n",
       "        text-align: right;\n",
       "    }\n",
       "</style>\n",
       "<table border=\"1\" class=\"dataframe\">\n",
       "  <thead>\n",
       "    <tr style=\"text-align: right;\">\n",
       "      <th></th>\n",
       "      <th>Notas</th>\n",
       "    </tr>\n",
       "    <tr>\n",
       "      <th>Sexo</th>\n",
       "      <th></th>\n",
       "    </tr>\n",
       "  </thead>\n",
       "  <tbody>\n",
       "    <tr>\n",
       "      <th>F</th>\n",
       "      <td>5.82</td>\n",
       "    </tr>\n",
       "    <tr>\n",
       "      <th>M</th>\n",
       "      <td>7.12</td>\n",
       "    </tr>\n",
       "  </tbody>\n",
       "</table>\n",
       "</div>"
      ],
      "text/plain": [
       "      Notas\n",
       "Sexo       \n",
       "F      5.82\n",
       "M      7.12"
      ]
     },
     "execution_count": 4,
     "metadata": {},
     "output_type": "execute_result"
    }
   ],
   "source": [
    "grupos_sexo = alunos.groupby('Sexo')\n",
    "grupos_sexo[['Notas']].mean().round(2)"
   ]
  },
  {
   "cell_type": "markdown",
   "id": "218fcf89",
   "metadata": {},
   "source": [
    "### Selecionando as estatísticas descritivas"
   ]
  },
  {
   "cell_type": "markdown",
   "id": "e523a7ac",
   "metadata": {},
   "source": [
    "A criação de grupamentos com o método `groupby()` facilita bastante na sumarização das informações de um DataFrame. O método `describe()` aplicado a um grupamento gera um conjunto de estatísticas descritivas bastante útil no processo de análise de dados, conforme o exemplo abaixo:"
   ]
  },
  {
   "cell_type": "code",
   "execution_count": 5,
   "id": "d2cb24c0",
   "metadata": {},
   "outputs": [
    {
     "data": {
      "text/html": [
       "<div>\n",
       "<style scoped>\n",
       "    .dataframe tbody tr th:only-of-type {\n",
       "        vertical-align: middle;\n",
       "    }\n",
       "\n",
       "    .dataframe tbody tr th {\n",
       "        vertical-align: top;\n",
       "    }\n",
       "\n",
       "    .dataframe thead th {\n",
       "        text-align: right;\n",
       "    }\n",
       "</style>\n",
       "<table border=\"1\" class=\"dataframe\">\n",
       "  <thead>\n",
       "    <tr style=\"text-align: right;\">\n",
       "      <th></th>\n",
       "      <th>Local</th>\n",
       "      <th>Produto</th>\n",
       "      <th>Preço</th>\n",
       "    </tr>\n",
       "  </thead>\n",
       "  <tbody>\n",
       "    <tr>\n",
       "      <th>0</th>\n",
       "      <td>Feira</td>\n",
       "      <td>Cebola</td>\n",
       "      <td>2.50</td>\n",
       "    </tr>\n",
       "    <tr>\n",
       "      <th>1</th>\n",
       "      <td>Mercado</td>\n",
       "      <td>Cebola</td>\n",
       "      <td>1.99</td>\n",
       "    </tr>\n",
       "    <tr>\n",
       "      <th>2</th>\n",
       "      <td>Supermercado</td>\n",
       "      <td>Cebola</td>\n",
       "      <td>1.69</td>\n",
       "    </tr>\n",
       "    <tr>\n",
       "      <th>3</th>\n",
       "      <td>Feira</td>\n",
       "      <td>Tomate</td>\n",
       "      <td>4.00</td>\n",
       "    </tr>\n",
       "    <tr>\n",
       "      <th>4</th>\n",
       "      <td>Mercado</td>\n",
       "      <td>Tomate</td>\n",
       "      <td>3.29</td>\n",
       "    </tr>\n",
       "    <tr>\n",
       "      <th>5</th>\n",
       "      <td>Supermercado</td>\n",
       "      <td>Tomate</td>\n",
       "      <td>2.99</td>\n",
       "    </tr>\n",
       "    <tr>\n",
       "      <th>6</th>\n",
       "      <td>Feira</td>\n",
       "      <td>Batata</td>\n",
       "      <td>4.20</td>\n",
       "    </tr>\n",
       "    <tr>\n",
       "      <th>7</th>\n",
       "      <td>Mercado</td>\n",
       "      <td>Batata</td>\n",
       "      <td>3.99</td>\n",
       "    </tr>\n",
       "    <tr>\n",
       "      <th>8</th>\n",
       "      <td>Supermercado</td>\n",
       "      <td>Batata</td>\n",
       "      <td>3.69</td>\n",
       "    </tr>\n",
       "  </tbody>\n",
       "</table>\n",
       "</div>"
      ],
      "text/plain": [
       "          Local Produto  Preço\n",
       "0         Feira  Cebola   2.50\n",
       "1       Mercado  Cebola   1.99\n",
       "2  Supermercado  Cebola   1.69\n",
       "3         Feira  Tomate   4.00\n",
       "4       Mercado  Tomate   3.29\n",
       "5  Supermercado  Tomate   2.99\n",
       "6         Feira  Batata   4.20\n",
       "7       Mercado  Batata   3.99\n",
       "8  Supermercado  Batata   3.69"
      ]
     },
     "execution_count": 5,
     "metadata": {},
     "output_type": "execute_result"
    }
   ],
   "source": [
    "precos = pd.DataFrame([['Feira', 'Cebola', 2.5], \n",
    "                        ['Mercado', 'Cebola', 1.99], \n",
    "                        ['Supermercado', 'Cebola', 1.69], \n",
    "                        ['Feira', 'Tomate', 4], \n",
    "                        ['Mercado', 'Tomate', 3.29], \n",
    "                        ['Supermercado', 'Tomate', 2.99], \n",
    "                        ['Feira', 'Batata', 4.2], \n",
    "                        ['Mercado', 'Batata', 3.99], \n",
    "                        ['Supermercado', 'Batata', 3.69]], \n",
    "                        columns = ['Local', 'Produto', 'Preço'])\n",
    "precos"
   ]
  },
  {
   "cell_type": "code",
   "execution_count": 6,
   "id": "0450d2ef",
   "metadata": {},
   "outputs": [
    {
     "data": {
      "text/html": [
       "<div>\n",
       "<style scoped>\n",
       "    .dataframe tbody tr th:only-of-type {\n",
       "        vertical-align: middle;\n",
       "    }\n",
       "\n",
       "    .dataframe tbody tr th {\n",
       "        vertical-align: top;\n",
       "    }\n",
       "\n",
       "    .dataframe thead tr th {\n",
       "        text-align: left;\n",
       "    }\n",
       "\n",
       "    .dataframe thead tr:last-of-type th {\n",
       "        text-align: right;\n",
       "    }\n",
       "</style>\n",
       "<table border=\"1\" class=\"dataframe\">\n",
       "  <thead>\n",
       "    <tr>\n",
       "      <th></th>\n",
       "      <th colspan=\"8\" halign=\"left\">Preço</th>\n",
       "    </tr>\n",
       "    <tr>\n",
       "      <th></th>\n",
       "      <th>count</th>\n",
       "      <th>mean</th>\n",
       "      <th>std</th>\n",
       "      <th>min</th>\n",
       "      <th>25%</th>\n",
       "      <th>50%</th>\n",
       "      <th>75%</th>\n",
       "      <th>max</th>\n",
       "    </tr>\n",
       "    <tr>\n",
       "      <th>Produto</th>\n",
       "      <th></th>\n",
       "      <th></th>\n",
       "      <th></th>\n",
       "      <th></th>\n",
       "      <th></th>\n",
       "      <th></th>\n",
       "      <th></th>\n",
       "      <th></th>\n",
       "    </tr>\n",
       "  </thead>\n",
       "  <tbody>\n",
       "    <tr>\n",
       "      <th>Batata</th>\n",
       "      <td>3.0</td>\n",
       "      <td>3.96</td>\n",
       "      <td>0.26</td>\n",
       "      <td>3.69</td>\n",
       "      <td>3.84</td>\n",
       "      <td>3.99</td>\n",
       "      <td>4.10</td>\n",
       "      <td>4.2</td>\n",
       "    </tr>\n",
       "    <tr>\n",
       "      <th>Cebola</th>\n",
       "      <td>3.0</td>\n",
       "      <td>2.06</td>\n",
       "      <td>0.41</td>\n",
       "      <td>1.69</td>\n",
       "      <td>1.84</td>\n",
       "      <td>1.99</td>\n",
       "      <td>2.24</td>\n",
       "      <td>2.5</td>\n",
       "    </tr>\n",
       "    <tr>\n",
       "      <th>Tomate</th>\n",
       "      <td>3.0</td>\n",
       "      <td>3.43</td>\n",
       "      <td>0.52</td>\n",
       "      <td>2.99</td>\n",
       "      <td>3.14</td>\n",
       "      <td>3.29</td>\n",
       "      <td>3.64</td>\n",
       "      <td>4.0</td>\n",
       "    </tr>\n",
       "  </tbody>\n",
       "</table>\n",
       "</div>"
      ],
      "text/plain": [
       "        Preço                                         \n",
       "        count  mean   std   min   25%   50%   75%  max\n",
       "Produto                                               \n",
       "Batata    3.0  3.96  0.26  3.69  3.84  3.99  4.10  4.2\n",
       "Cebola    3.0  2.06  0.41  1.69  1.84  1.99  2.24  2.5\n",
       "Tomate    3.0  3.43  0.52  2.99  3.14  3.29  3.64  4.0"
      ]
     },
     "execution_count": 6,
     "metadata": {},
     "output_type": "execute_result"
    }
   ],
   "source": [
    "produtos = precos.groupby('Produto')\n",
    "produtos.describe().round(2)"
   ]
  },
  {
   "cell_type": "markdown",
   "id": "45b9776c",
   "metadata": {},
   "source": [
    "Utilizando o DataFrame (`precos`) acima, que código seria necessário para gerar a visualização abaixo:\n",
    "\n",
    "Produto | Média | Desvio Padrão | Mínimo | Máximo\n",
    "---|---|---|---|---\n",
    "Cebola | 3.96 | 0.26 | 3.69 | 4.2\n",
    "Tomate | 2.06 | 0.41 | 1.69 | 2.5\n",
    "Batata | 3.43 | 0.52 | 2.99 | 4.0\n"
   ]
  },
  {
   "cell_type": "code",
   "execution_count": 10,
   "id": "410fb44f",
   "metadata": {},
   "outputs": [
    {
     "data": {
      "text/html": [
       "<div>\n",
       "<style scoped>\n",
       "    .dataframe tbody tr th:only-of-type {\n",
       "        vertical-align: middle;\n",
       "    }\n",
       "\n",
       "    .dataframe tbody tr th {\n",
       "        vertical-align: top;\n",
       "    }\n",
       "\n",
       "    .dataframe thead th {\n",
       "        text-align: right;\n",
       "    }\n",
       "</style>\n",
       "<table border=\"1\" class=\"dataframe\">\n",
       "  <thead>\n",
       "    <tr style=\"text-align: right;\">\n",
       "      <th></th>\n",
       "      <th>Média</th>\n",
       "      <th>Desvio Padrão</th>\n",
       "      <th>Mínimo</th>\n",
       "      <th>Máximo</th>\n",
       "    </tr>\n",
       "    <tr>\n",
       "      <th>Produto</th>\n",
       "      <th></th>\n",
       "      <th></th>\n",
       "      <th></th>\n",
       "      <th></th>\n",
       "    </tr>\n",
       "  </thead>\n",
       "  <tbody>\n",
       "    <tr>\n",
       "      <th>Batata</th>\n",
       "      <td>3.96</td>\n",
       "      <td>0.26</td>\n",
       "      <td>3.69</td>\n",
       "      <td>4.2</td>\n",
       "    </tr>\n",
       "    <tr>\n",
       "      <th>Cebola</th>\n",
       "      <td>2.06</td>\n",
       "      <td>0.41</td>\n",
       "      <td>1.69</td>\n",
       "      <td>2.5</td>\n",
       "    </tr>\n",
       "    <tr>\n",
       "      <th>Tomate</th>\n",
       "      <td>3.43</td>\n",
       "      <td>0.52</td>\n",
       "      <td>2.99</td>\n",
       "      <td>4.0</td>\n",
       "    </tr>\n",
       "  </tbody>\n",
       "</table>\n",
       "</div>"
      ],
      "text/plain": [
       "         Média  Desvio Padrão  Mínimo  Máximo\n",
       "Produto                                      \n",
       "Batata    3.96           0.26    3.69     4.2\n",
       "Cebola    2.06           0.41    1.69     2.5\n",
       "Tomate    3.43           0.52    2.99     4.0"
      ]
     },
     "execution_count": 10,
     "metadata": {},
     "output_type": "execute_result"
    }
   ],
   "source": [
    "summary = produtos['Preço'].aggregate(['mean', 'std', 'min', 'max']).round(2)\n",
    "summary.rename(columns = {'mean': 'Média', 'std': 'Desvio Padrão', 'min': 'Mínimo', 'max': 'Máximo'})"
   ]
  },
  {
   "cell_type": "markdown",
   "id": "e1b63900",
   "metadata": {},
   "source": [
    "## Removendo *Outliers*"
   ]
  },
  {
   "cell_type": "markdown",
   "id": "8c6bfe9f",
   "metadata": {},
   "source": [
    "### Estatísticas do box plot"
   ]
  },
  {
   "cell_type": "markdown",
   "id": "6d963f96",
   "metadata": {},
   "source": [
    "<img  align=\"left\" src=\"compressed_box-plot.png\" alt=\"boxplot\" width=\"400\"/>"
   ]
  },
  {
   "cell_type": "markdown",
   "id": "501d0fb0",
   "metadata": {},
   "source": [
    "Nosso objetivo neste exercício é obter o conjunto de estatísticas representado na figura acima. Para isso, baixe o arquivo `aluguel_amostra.csv`, e utilize-o para realizar suas análises utilizando como variável alvo o `Valor m2` (valor do metro quadrado). Lembrando que Q1 representa o 1º quartil e Q3 o 3º quartil, selecione o item com a resposta correta (considere somente **duas casas decimais**):"
   ]
  },
  {
   "cell_type": "code",
   "execution_count": 13,
   "id": "3a733054",
   "metadata": {},
   "outputs": [],
   "source": [
    "import pandas as pd"
   ]
  },
  {
   "cell_type": "code",
   "execution_count": 15,
   "id": "846949ac",
   "metadata": {},
   "outputs": [
    {
     "data": {
      "text/html": [
       "<div>\n",
       "<style scoped>\n",
       "    .dataframe tbody tr th:only-of-type {\n",
       "        vertical-align: middle;\n",
       "    }\n",
       "\n",
       "    .dataframe tbody tr th {\n",
       "        vertical-align: top;\n",
       "    }\n",
       "\n",
       "    .dataframe thead th {\n",
       "        text-align: right;\n",
       "    }\n",
       "</style>\n",
       "<table border=\"1\" class=\"dataframe\">\n",
       "  <thead>\n",
       "    <tr style=\"text-align: right;\">\n",
       "      <th></th>\n",
       "      <th>Tipo</th>\n",
       "      <th>Bairro</th>\n",
       "      <th>Quartos</th>\n",
       "      <th>Vagas</th>\n",
       "      <th>Suites</th>\n",
       "      <th>Area</th>\n",
       "      <th>Valor</th>\n",
       "      <th>Condominio</th>\n",
       "      <th>IPTU</th>\n",
       "      <th>Valor m2</th>\n",
       "      <th>Tipo Agregado</th>\n",
       "    </tr>\n",
       "  </thead>\n",
       "  <tbody>\n",
       "    <tr>\n",
       "      <th>0</th>\n",
       "      <td>Apartamento</td>\n",
       "      <td>Recreio dos Bandeirantes</td>\n",
       "      <td>3</td>\n",
       "      <td>2</td>\n",
       "      <td>1</td>\n",
       "      <td>320</td>\n",
       "      <td>3200.0</td>\n",
       "      <td>1319.0</td>\n",
       "      <td>0.0</td>\n",
       "      <td>10.00</td>\n",
       "      <td>Apartamento</td>\n",
       "    </tr>\n",
       "    <tr>\n",
       "      <th>1</th>\n",
       "      <td>Apartamento</td>\n",
       "      <td>Maracanã</td>\n",
       "      <td>2</td>\n",
       "      <td>0</td>\n",
       "      <td>0</td>\n",
       "      <td>59</td>\n",
       "      <td>800.0</td>\n",
       "      <td>725.0</td>\n",
       "      <td>47.0</td>\n",
       "      <td>13.56</td>\n",
       "      <td>Apartamento</td>\n",
       "    </tr>\n",
       "    <tr>\n",
       "      <th>2</th>\n",
       "      <td>Apartamento</td>\n",
       "      <td>Leblon</td>\n",
       "      <td>3</td>\n",
       "      <td>2</td>\n",
       "      <td>1</td>\n",
       "      <td>147</td>\n",
       "      <td>7500.0</td>\n",
       "      <td>1000.0</td>\n",
       "      <td>381.0</td>\n",
       "      <td>51.02</td>\n",
       "      <td>Apartamento</td>\n",
       "    </tr>\n",
       "    <tr>\n",
       "      <th>3</th>\n",
       "      <td>Apartamento</td>\n",
       "      <td>São Conrado</td>\n",
       "      <td>3</td>\n",
       "      <td>3</td>\n",
       "      <td>3</td>\n",
       "      <td>270</td>\n",
       "      <td>14999.0</td>\n",
       "      <td>2800.0</td>\n",
       "      <td>1200.0</td>\n",
       "      <td>55.55</td>\n",
       "      <td>Apartamento</td>\n",
       "    </tr>\n",
       "    <tr>\n",
       "      <th>4</th>\n",
       "      <td>Apartamento</td>\n",
       "      <td>Tijuca</td>\n",
       "      <td>2</td>\n",
       "      <td>1</td>\n",
       "      <td>0</td>\n",
       "      <td>65</td>\n",
       "      <td>1200.0</td>\n",
       "      <td>640.0</td>\n",
       "      <td>97.0</td>\n",
       "      <td>18.46</td>\n",
       "      <td>Apartamento</td>\n",
       "    </tr>\n",
       "  </tbody>\n",
       "</table>\n",
       "</div>"
      ],
      "text/plain": [
       "          Tipo                    Bairro  Quartos  Vagas  Suites  Area  \\\n",
       "0  Apartamento  Recreio dos Bandeirantes        3      2       1   320   \n",
       "1  Apartamento                  Maracanã        2      0       0    59   \n",
       "2  Apartamento                    Leblon        3      2       1   147   \n",
       "3  Apartamento               São Conrado        3      3       3   270   \n",
       "4  Apartamento                    Tijuca        2      1       0    65   \n",
       "\n",
       "     Valor  Condominio    IPTU  Valor m2 Tipo Agregado  \n",
       "0   3200.0      1319.0     0.0     10.00   Apartamento  \n",
       "1    800.0       725.0    47.0     13.56   Apartamento  \n",
       "2   7500.0      1000.0   381.0     51.02   Apartamento  \n",
       "3  14999.0      2800.0  1200.0     55.55   Apartamento  \n",
       "4   1200.0       640.0    97.0     18.46   Apartamento  "
      ]
     },
     "execution_count": 15,
     "metadata": {},
     "output_type": "execute_result"
    }
   ],
   "source": [
    "dados = pd.read_csv('dados/aluguel_amostra.csv', sep = ';')\n",
    "dados.head()"
   ]
  },
  {
   "cell_type": "code",
   "execution_count": 19,
   "id": "7ee897a4",
   "metadata": {},
   "outputs": [
    {
     "name": "stdout",
     "output_type": "stream",
     "text": [
      "[Q1] -> 21.25\n",
      "[Q3] -> 42.31\n",
      "[IIQ] -> 21.06\n",
      "[Q1 - 1.5 * IIQ] -> -10.34\n",
      "[Q3 + 1.5 * IIQ] -> 73.9\n"
     ]
    }
   ],
   "source": [
    "valor_m2 = dados['Valor m2']\n",
    "# Q1\n",
    "Q1 = valor_m2.quantile(.25).round(2)\n",
    "print(f'[Q1] -> {Q1}')\n",
    "\n",
    "# Q3\n",
    "Q3 = valor_m2.quantile(.75).round(2)\n",
    "print(f'[Q3] -> {Q3}')\n",
    "\n",
    "# IIQ / AIQ\n",
    "IIQ = Q3 - Q1\n",
    "print(f'[IIQ] -> {IIQ.round(2)}')\n",
    "\n",
    "# Q1 - 1.5 * IIQ\n",
    "print(f'[Q1 - 1.5 * IIQ] -> {(Q1 - 1.5 * IIQ).round(2)}')\n",
    "\n",
    "# Q3 + 1.5 * IIQ\n",
    "print(f'[Q3 + 1.5 * IIQ] -> {(Q3 + 1.5 * IIQ).round(2)}')"
   ]
  },
  {
   "cell_type": "markdown",
   "id": "a58e567f",
   "metadata": {},
   "source": [
    "### A biblioteca matplotlib"
   ]
  },
  {
   "cell_type": "markdown",
   "id": "90424761",
   "metadata": {},
   "source": [
    "Vamos testar nosso conhecimento sobre o pacote matplotlib. Considere neste exercício o arquivo aluguel_amostra.csv e indique nas opções abaixo qual o código necessário para gerar os gráficos da figura a seguir:"
   ]
  },
  {
   "cell_type": "markdown",
   "id": "8d37c374",
   "metadata": {},
   "source": [
    "Neste exercício, estamos apresentando o gráfico de pizza que pode ser obtido com a aplicação do método `pie()`, de matplotlib. Considere o código inicial abaixo para escolher a alternativa correta:"
   ]
  },
  {
   "cell_type": "code",
   "execution_count": 24,
   "id": "a26e48ce",
   "metadata": {},
   "outputs": [
    {
     "data": {
      "text/html": [
       "<div>\n",
       "<style scoped>\n",
       "    .dataframe tbody tr th:only-of-type {\n",
       "        vertical-align: middle;\n",
       "    }\n",
       "\n",
       "    .dataframe tbody tr th {\n",
       "        vertical-align: top;\n",
       "    }\n",
       "\n",
       "    .dataframe thead th {\n",
       "        text-align: right;\n",
       "    }\n",
       "</style>\n",
       "<table border=\"1\" class=\"dataframe\">\n",
       "  <thead>\n",
       "    <tr style=\"text-align: right;\">\n",
       "      <th></th>\n",
       "      <th>Tipo</th>\n",
       "      <th>Bairro</th>\n",
       "      <th>Quartos</th>\n",
       "      <th>Vagas</th>\n",
       "      <th>Suites</th>\n",
       "      <th>Area</th>\n",
       "      <th>Valor</th>\n",
       "      <th>Condominio</th>\n",
       "      <th>IPTU</th>\n",
       "      <th>Valor m2</th>\n",
       "      <th>Tipo Agregado</th>\n",
       "    </tr>\n",
       "  </thead>\n",
       "  <tbody>\n",
       "    <tr>\n",
       "      <th>0</th>\n",
       "      <td>Apartamento</td>\n",
       "      <td>Recreio dos Bandeirantes</td>\n",
       "      <td>3</td>\n",
       "      <td>2</td>\n",
       "      <td>1</td>\n",
       "      <td>320</td>\n",
       "      <td>3200.0</td>\n",
       "      <td>1319.0</td>\n",
       "      <td>0.0</td>\n",
       "      <td>10.00</td>\n",
       "      <td>Apartamento</td>\n",
       "    </tr>\n",
       "    <tr>\n",
       "      <th>1</th>\n",
       "      <td>Apartamento</td>\n",
       "      <td>Maracanã</td>\n",
       "      <td>2</td>\n",
       "      <td>0</td>\n",
       "      <td>0</td>\n",
       "      <td>59</td>\n",
       "      <td>800.0</td>\n",
       "      <td>725.0</td>\n",
       "      <td>47.0</td>\n",
       "      <td>13.56</td>\n",
       "      <td>Apartamento</td>\n",
       "    </tr>\n",
       "    <tr>\n",
       "      <th>2</th>\n",
       "      <td>Apartamento</td>\n",
       "      <td>Leblon</td>\n",
       "      <td>3</td>\n",
       "      <td>2</td>\n",
       "      <td>1</td>\n",
       "      <td>147</td>\n",
       "      <td>7500.0</td>\n",
       "      <td>1000.0</td>\n",
       "      <td>381.0</td>\n",
       "      <td>51.02</td>\n",
       "      <td>Apartamento</td>\n",
       "    </tr>\n",
       "    <tr>\n",
       "      <th>3</th>\n",
       "      <td>Apartamento</td>\n",
       "      <td>São Conrado</td>\n",
       "      <td>3</td>\n",
       "      <td>3</td>\n",
       "      <td>3</td>\n",
       "      <td>270</td>\n",
       "      <td>14999.0</td>\n",
       "      <td>2800.0</td>\n",
       "      <td>1200.0</td>\n",
       "      <td>55.55</td>\n",
       "      <td>Apartamento</td>\n",
       "    </tr>\n",
       "    <tr>\n",
       "      <th>4</th>\n",
       "      <td>Apartamento</td>\n",
       "      <td>Tijuca</td>\n",
       "      <td>2</td>\n",
       "      <td>1</td>\n",
       "      <td>0</td>\n",
       "      <td>65</td>\n",
       "      <td>1200.0</td>\n",
       "      <td>640.0</td>\n",
       "      <td>97.0</td>\n",
       "      <td>18.46</td>\n",
       "      <td>Apartamento</td>\n",
       "    </tr>\n",
       "  </tbody>\n",
       "</table>\n",
       "</div>"
      ],
      "text/plain": [
       "          Tipo                    Bairro  Quartos  Vagas  Suites  Area  \\\n",
       "0  Apartamento  Recreio dos Bandeirantes        3      2       1   320   \n",
       "1  Apartamento                  Maracanã        2      0       0    59   \n",
       "2  Apartamento                    Leblon        3      2       1   147   \n",
       "3  Apartamento               São Conrado        3      3       3   270   \n",
       "4  Apartamento                    Tijuca        2      1       0    65   \n",
       "\n",
       "     Valor  Condominio    IPTU  Valor m2 Tipo Agregado  \n",
       "0   3200.0      1319.0     0.0     10.00   Apartamento  \n",
       "1    800.0       725.0    47.0     13.56   Apartamento  \n",
       "2   7500.0      1000.0   381.0     51.02   Apartamento  \n",
       "3  14999.0      2800.0  1200.0     55.55   Apartamento  \n",
       "4   1200.0       640.0    97.0     18.46   Apartamento  "
      ]
     },
     "execution_count": 24,
     "metadata": {},
     "output_type": "execute_result"
    }
   ],
   "source": [
    "%matplotlib inline\n",
    "import pandas as pd\n",
    "import matplotlib.pyplot as plt\n",
    "plt.rc('figure', figsize = (15, 7))\n",
    "\n",
    "dados = pd.read_csv('dados/aluguel_amostra.csv', sep = ';')\n",
    "dados.head()"
   ]
  },
  {
   "cell_type": "markdown",
   "id": "0169405a",
   "metadata": {},
   "source": [
    "<img  align=\"left\" src=\"compressed_grafico.png\" alt=\"boxplot\" width=\"800\"/>"
   ]
  },
  {
   "cell_type": "code",
   "execution_count": 44,
   "id": "b57fd5bd",
   "metadata": {},
   "outputs": [
    {
     "data": {
      "text/plain": [
       "Text(0.5, 1.0, 'Total de imóveis por tipo')"
      ]
     },
     "execution_count": 44,
     "metadata": {},
     "output_type": "execute_result"
    },
    {
     "data": {
      "image/png": "[encoded data removed]",
      "text/plain": [
       "<Figure size 1080x504 with 2 Axes>"
      ]
     },
     "metadata": {},
     "output_type": "display_data"
    }
   ],
   "source": [
    "area = plt.figure()\n",
    "\n",
    "g1 = area.add_subplot(1, 2, 1)\n",
    "g2 = area.add_subplot(1, 2, 2)\n",
    "\n",
    "# gráfico 1\n",
    "grupo_1 = dados.groupby('Tipo Agregado')['Tipo'].count()\n",
    "labels = grupo_1.index\n",
    "valores = grupo_1.values\n",
    "g1.pie(valores, labels = labels, autopct = '%1.1f%%')\n",
    "g1.set_title('Total de imóveis por tipo agregado')\n",
    "\n",
    "# gráfico 2\n",
    "grupo_2 = dados.groupby('Tipo')['Tipo'].count()\n",
    "labels = grupo_2.index\n",
    "valores = grupo_2.values\n",
    "g2.pie(valores, labels = labels, autopct = '%1.1f%%', explode = (.1, .1, .1, .1, .1))\n",
    "g2.set_title('Total de imóveis por tipo')"
   ]
  },
  {
   "cell_type": "code",
   "execution_count": 42,
   "id": "3ecbd317",
   "metadata": {},
   "outputs": [],
   "source": [
    "area = ''"
   ]
  }
 ],
 "metadata": {
  "kernelspec": {
   "display_name": "Python 3 (ipykernel)",
   "language": "python",
   "name": "python3"
  },
  "language_info": {
   "codemirror_mode": {
    "name": "ipython",
    "version": 3
   },
   "file_extension": ".py",
   "mimetype": "text/x-python",
   "name": "python",
   "nbconvert_exporter": "python",
   "pygments_lexer": "ipython3",
   "version": "3.9.12"
  }
 },
 "nbformat": 4,
 "nbformat_minor": 5
}
