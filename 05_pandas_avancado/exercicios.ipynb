{
 "cells": [
  {
   "cell_type": "markdown",
   "id": "803bc082",
   "metadata": {},
   "source": [
    "# Exercícios do curso de Pandas avançado"
   ]
  },
  {
   "cell_type": "markdown",
   "id": "65825452",
   "metadata": {},
   "source": [
    "## Começando o trabalho"
   ]
  },
  {
   "cell_type": "markdown",
   "id": "46e2fe15",
   "metadata": {},
   "source": [
    "### Carregando arquivos JSON"
   ]
  },
  {
   "cell_type": "markdown",
   "id": "49930b01",
   "metadata": {},
   "source": [
    "Em uma base de dados que relaciona o nome da pessoa e seus dados referentes à idade, peso e altura, considere a variável data_json abaixo:"
   ]
  },
  {
   "cell_type": "code",
   "execution_count": 4,
   "id": "3fe71b54",
   "metadata": {},
   "outputs": [],
   "source": [
    "import pandas as pd\n",
    "data_json = '{\"Rita\": {\"Idade\": 24, \"Peso\": 62, \"Altura\": 1.65}, \"Zeca\": {\"Idade\": 32, \"Peso\": 80, \"Altura\": 1.82}}'"
   ]
  },
  {
   "cell_type": "markdown",
   "id": "5b7101b0",
   "metadata": {},
   "source": [
    "Indique a opção que mostra os códigos que produzem os seguintes resultados:\n",
    "    \n",
    "**Tabela A**\n",
    "\n",
    "| | Idade | Peso | Altura |\n",
    "|---|---|---|---|\n",
    "|Rita | 24 | 62 | 1.65 |\n",
    "|Zeca | 32 | 80 | 1.82 |\n",
    "\n",
    "**Tabela B**\n",
    "\n",
    "|\t|Rita|\tZeca|\n",
    "|---|---|---|\n",
    "|Idade|\t24|\t32|\n",
    "|Peso\t|62|\t80|\n",
    "|Altura\t|1.65|\t1.82|"
   ]
  },
  {
   "cell_type": "code",
   "execution_count": 5,
   "id": "d64c9451",
   "metadata": {},
   "outputs": [
    {
     "data": {
      "text/html": [
       "<div>\n",
       "<style scoped>\n",
       "    .dataframe tbody tr th:only-of-type {\n",
       "        vertical-align: middle;\n",
       "    }\n",
       "\n",
       "    .dataframe tbody tr th {\n",
       "        vertical-align: top;\n",
       "    }\n",
       "\n",
       "    .dataframe thead th {\n",
       "        text-align: right;\n",
       "    }\n",
       "</style>\n",
       "<table border=\"1\" class=\"dataframe\">\n",
       "  <thead>\n",
       "    <tr style=\"text-align: right;\">\n",
       "      <th></th>\n",
       "      <th>Idade</th>\n",
       "      <th>Peso</th>\n",
       "      <th>Altura</th>\n",
       "    </tr>\n",
       "  </thead>\n",
       "  <tbody>\n",
       "    <tr>\n",
       "      <th>Rita</th>\n",
       "      <td>24</td>\n",
       "      <td>62</td>\n",
       "      <td>1.65</td>\n",
       "    </tr>\n",
       "    <tr>\n",
       "      <th>Zeca</th>\n",
       "      <td>32</td>\n",
       "      <td>80</td>\n",
       "      <td>1.82</td>\n",
       "    </tr>\n",
       "  </tbody>\n",
       "</table>\n",
       "</div>"
      ],
      "text/plain": [
       "      Idade  Peso  Altura\n",
       "Rita     24    62    1.65\n",
       "Zeca     32    80    1.82"
      ]
     },
     "execution_count": 5,
     "metadata": {},
     "output_type": "execute_result"
    }
   ],
   "source": [
    "dados = pd.read_json(\n",
    "    path_or_buf = data_json,\n",
    "    orient = 'index'\n",
    ")\n",
    "dados"
   ]
  },
  {
   "cell_type": "code",
   "execution_count": 7,
   "id": "1aefe40a",
   "metadata": {},
   "outputs": [
    {
     "data": {
      "text/html": [
       "<div>\n",
       "<style scoped>\n",
       "    .dataframe tbody tr th:only-of-type {\n",
       "        vertical-align: middle;\n",
       "    }\n",
       "\n",
       "    .dataframe tbody tr th {\n",
       "        vertical-align: top;\n",
       "    }\n",
       "\n",
       "    .dataframe thead th {\n",
       "        text-align: right;\n",
       "    }\n",
       "</style>\n",
       "<table border=\"1\" class=\"dataframe\">\n",
       "  <thead>\n",
       "    <tr style=\"text-align: right;\">\n",
       "      <th></th>\n",
       "      <th>Rita</th>\n",
       "      <th>Zeca</th>\n",
       "    </tr>\n",
       "  </thead>\n",
       "  <tbody>\n",
       "    <tr>\n",
       "      <th>Idade</th>\n",
       "      <td>24.00</td>\n",
       "      <td>32.00</td>\n",
       "    </tr>\n",
       "    <tr>\n",
       "      <th>Peso</th>\n",
       "      <td>62.00</td>\n",
       "      <td>80.00</td>\n",
       "    </tr>\n",
       "    <tr>\n",
       "      <th>Altura</th>\n",
       "      <td>1.65</td>\n",
       "      <td>1.82</td>\n",
       "    </tr>\n",
       "  </tbody>\n",
       "</table>\n",
       "</div>"
      ],
      "text/plain": [
       "         Rita   Zeca\n",
       "Idade   24.00  32.00\n",
       "Peso    62.00  80.00\n",
       "Altura   1.65   1.82"
      ]
     },
     "execution_count": 7,
     "metadata": {},
     "output_type": "execute_result"
    }
   ],
   "source": [
    "dados = pd.read_json(\n",
    "    path_or_buf = data_json\n",
    ")\n",
    "dados"
   ]
  },
  {
   "cell_type": "markdown",
   "id": "3ba1854a",
   "metadata": {},
   "source": [
    "### Carregando arquivos Excel"
   ]
  },
  {
   "cell_type": "markdown",
   "id": "c9039bb0",
   "metadata": {},
   "source": [
    "No arquivo Excel (XLSX) disponibilizado (bairros.xlsx) temos duas planilhas. Na planilha “Residencial X Comercial”, temos os valores do m2 para imóveis comerciais e residenciais nos bairros da cidade do Rio de Janeiro. Temos também a divisão regional das informações por zonas da cidade.\n",
    "\n",
    "Utilizando esta planilha e o método `read_excel()` do pandas obtenha o seguinte DataFrame:\n",
    "\n",
    "|Zonas\t|Bairros|\tResidencial|\tComercial|\n",
    "|---|---|---|---|\n",
    "|Sul\t|Botafogo\t|14002\t|7972|\n",
    "||Catete\t|15232|\t6259|\n",
    "||Copacabana\t|23318|\t9355|\n",
    "|... |...|...|...|\n",
    "\n",
    "Observe que foram selecionadas apenas as linhas dos bairros pertencentes à zona sul da cidade.\n",
    "\n",
    "Marque a opção que apresenta o código necessário para criar o DataFrame acima."
   ]
  },
  {
   "cell_type": "code",
   "execution_count": 15,
   "id": "130c6c8f",
   "metadata": {},
   "outputs": [
    {
     "data": {
      "text/html": [
       "<div>\n",
       "<style scoped>\n",
       "    .dataframe tbody tr th:only-of-type {\n",
       "        vertical-align: middle;\n",
       "    }\n",
       "\n",
       "    .dataframe tbody tr th {\n",
       "        vertical-align: top;\n",
       "    }\n",
       "\n",
       "    .dataframe thead th {\n",
       "        text-align: right;\n",
       "    }\n",
       "</style>\n",
       "<table border=\"1\" class=\"dataframe\">\n",
       "  <thead>\n",
       "    <tr style=\"text-align: right;\">\n",
       "      <th></th>\n",
       "      <th></th>\n",
       "      <th>Residencial</th>\n",
       "      <th>Comercial</th>\n",
       "    </tr>\n",
       "    <tr>\n",
       "      <th>Zonas</th>\n",
       "      <th>Bairros</th>\n",
       "      <th></th>\n",
       "      <th></th>\n",
       "    </tr>\n",
       "  </thead>\n",
       "  <tbody>\n",
       "    <tr>\n",
       "      <th rowspan=\"17\" valign=\"top\">Sul</th>\n",
       "      <th>Botafogo</th>\n",
       "      <td>14002</td>\n",
       "      <td>7972</td>\n",
       "    </tr>\n",
       "    <tr>\n",
       "      <th>Catete</th>\n",
       "      <td>15232</td>\n",
       "      <td>6259</td>\n",
       "    </tr>\n",
       "    <tr>\n",
       "      <th>Copacabana</th>\n",
       "      <td>23318</td>\n",
       "      <td>9355</td>\n",
       "    </tr>\n",
       "    <tr>\n",
       "      <th>Cosme Velho</th>\n",
       "      <td>10320</td>\n",
       "      <td>8177</td>\n",
       "    </tr>\n",
       "    <tr>\n",
       "      <th>Flamengo</th>\n",
       "      <td>19636</td>\n",
       "      <td>7135</td>\n",
       "    </tr>\n",
       "    <tr>\n",
       "      <th>Gávea</th>\n",
       "      <td>13506</td>\n",
       "      <td>8211</td>\n",
       "    </tr>\n",
       "    <tr>\n",
       "      <th>Humaitá</th>\n",
       "      <td>10603</td>\n",
       "      <td>5039</td>\n",
       "    </tr>\n",
       "    <tr>\n",
       "      <th>Ipanema</th>\n",
       "      <td>15965</td>\n",
       "      <td>7293</td>\n",
       "    </tr>\n",
       "    <tr>\n",
       "      <th>Jardim Botânico</th>\n",
       "      <td>17243</td>\n",
       "      <td>8095</td>\n",
       "    </tr>\n",
       "    <tr>\n",
       "      <th>Lagoa</th>\n",
       "      <td>24982</td>\n",
       "      <td>6584</td>\n",
       "    </tr>\n",
       "    <tr>\n",
       "      <th>Laranjeiras</th>\n",
       "      <td>17307</td>\n",
       "      <td>7745</td>\n",
       "    </tr>\n",
       "    <tr>\n",
       "      <th>Leblon</th>\n",
       "      <td>13815</td>\n",
       "      <td>8125</td>\n",
       "    </tr>\n",
       "    <tr>\n",
       "      <th>Leme</th>\n",
       "      <td>15815</td>\n",
       "      <td>8587</td>\n",
       "    </tr>\n",
       "    <tr>\n",
       "      <th>Rocinha</th>\n",
       "      <td>15110</td>\n",
       "      <td>9023</td>\n",
       "    </tr>\n",
       "    <tr>\n",
       "      <th>São Conrado</th>\n",
       "      <td>20727</td>\n",
       "      <td>9587</td>\n",
       "    </tr>\n",
       "    <tr>\n",
       "      <th>Urca</th>\n",
       "      <td>22876</td>\n",
       "      <td>6607</td>\n",
       "    </tr>\n",
       "    <tr>\n",
       "      <th>Vidigal</th>\n",
       "      <td>23470</td>\n",
       "      <td>5424</td>\n",
       "    </tr>\n",
       "  </tbody>\n",
       "</table>\n",
       "</div>"
      ],
      "text/plain": [
       "                       Residencial  Comercial\n",
       "Zonas Bairros                                \n",
       "Sul   Botafogo               14002       7972\n",
       "      Catete                 15232       6259\n",
       "      Copacabana             23318       9355\n",
       "      Cosme Velho            10320       8177\n",
       "      Flamengo               19636       7135\n",
       "      Gávea                  13506       8211\n",
       "      Humaitá                10603       5039\n",
       "      Ipanema                15965       7293\n",
       "      Jardim Botânico        17243       8095\n",
       "      Lagoa                  24982       6584\n",
       "      Laranjeiras            17307       7745\n",
       "      Leblon                 13815       8125\n",
       "      Leme                   15815       8587\n",
       "      Rocinha                15110       9023\n",
       "      São Conrado            20727       9587\n",
       "      Urca                   22876       6607\n",
       "      Vidigal                23470       5424"
      ]
     },
     "execution_count": 15,
     "metadata": {},
     "output_type": "execute_result"
    }
   ],
   "source": [
    "pd.read_excel(\n",
    "    io = 'dados/bairros.xlsx',\n",
    "    sheet_name = 'Residencial X Comercial',\n",
    "    #header = 1,\n",
    "    names = ['Zonas', 'Bairros', 'Residencial', 'Comercial'],\n",
    "    index_col = [0, 1],\n",
    "    usecols = 'B:E',\n",
    "    skiprows = 18,\n",
    "    nrows = 17\n",
    ")"
   ]
  },
  {
   "cell_type": "markdown",
   "id": "95b79b67",
   "metadata": {},
   "source": [
    "## Transformando e tratando os dados"
   ]
  },
  {
   "cell_type": "markdown",
   "id": "60fce9d8",
   "metadata": {},
   "source": [
    "### Normalizando nossos dados"
   ]
  },
  {
   "cell_type": "markdown",
   "id": "edc9d686",
   "metadata": {},
   "source": [
    "Estamos trabalhando com uma base de dados que relaciona o nome dos alunos, suas idades e medidas (peso e altura). Considere a variável data_json abaixo:"
   ]
  },
  {
   "cell_type": "code",
   "execution_count": 23,
   "id": "ecb7ef1c",
   "metadata": {},
   "outputs": [],
   "source": [
    "data_json = '{\"alunos\": [{\"Nome\": \"Rita\", \"Info\": {\"Idade\": 24, \"Medidas\": {\"Peso\": 62, \"Altura\": 1.65}}}, {\"Nome\": \"Zeca\", \"Info\": {\"Idade\": 32, \"Medidas\": {\"Peso\": 80, \"Altura\": 1.82}}}]}'"
   ]
  },
  {
   "cell_type": "markdown",
   "id": "b5f97b10",
   "metadata": {},
   "source": [
    "Utilizando os métodos aprendidos, assinale a alternativa que produz como resultado o seguinte DataFrame:\n",
    "\n",
    "\n",
    "||Nome\t|Info_Idade|\tInfo_Medidas|\n",
    "|---|---|---|---|\n",
    "|0\t|Rita|\t24|\t{'Peso': 62, 'Altura': 1.65}|\n",
    "|1|\tZeca|\t32|\t{'Peso': 80, 'Altura': 1.82}|\n"
   ]
  },
  {
   "cell_type": "code",
   "execution_count": 30,
   "id": "94d43bbd",
   "metadata": {},
   "outputs": [
    {
     "data": {
      "text/html": [
       "<div>\n",
       "<style scoped>\n",
       "    .dataframe tbody tr th:only-of-type {\n",
       "        vertical-align: middle;\n",
       "    }\n",
       "\n",
       "    .dataframe tbody tr th {\n",
       "        vertical-align: top;\n",
       "    }\n",
       "\n",
       "    .dataframe thead th {\n",
       "        text-align: right;\n",
       "    }\n",
       "</style>\n",
       "<table border=\"1\" class=\"dataframe\">\n",
       "  <thead>\n",
       "    <tr style=\"text-align: right;\">\n",
       "      <th></th>\n",
       "      <th>alunos</th>\n",
       "    </tr>\n",
       "  </thead>\n",
       "  <tbody>\n",
       "    <tr>\n",
       "      <th>0</th>\n",
       "      <td>{'Nome': 'Rita', 'Info': {'Idade': 24, 'Medida...</td>\n",
       "    </tr>\n",
       "    <tr>\n",
       "      <th>1</th>\n",
       "      <td>{'Nome': 'Zeca', 'Info': {'Idade': 32, 'Medida...</td>\n",
       "    </tr>\n",
       "  </tbody>\n",
       "</table>\n",
       "</div>"
      ],
      "text/plain": [
       "                                              alunos\n",
       "0  {'Nome': 'Rita', 'Info': {'Idade': 24, 'Medida...\n",
       "1  {'Nome': 'Zeca', 'Info': {'Idade': 32, 'Medida..."
      ]
     },
     "execution_count": 30,
     "metadata": {},
     "output_type": "execute_result"
    }
   ],
   "source": [
    "df_json = pd.read_json(data_json)\n",
    "df_json"
   ]
  },
  {
   "cell_type": "code",
   "execution_count": 33,
   "id": "d225e0b9",
   "metadata": {},
   "outputs": [
    {
     "data": {
      "text/html": [
       "<div>\n",
       "<style scoped>\n",
       "    .dataframe tbody tr th:only-of-type {\n",
       "        vertical-align: middle;\n",
       "    }\n",
       "\n",
       "    .dataframe tbody tr th {\n",
       "        vertical-align: top;\n",
       "    }\n",
       "\n",
       "    .dataframe thead th {\n",
       "        text-align: right;\n",
       "    }\n",
       "</style>\n",
       "<table border=\"1\" class=\"dataframe\">\n",
       "  <thead>\n",
       "    <tr style=\"text-align: right;\">\n",
       "      <th></th>\n",
       "      <th>Nome</th>\n",
       "      <th>Info_Idade</th>\n",
       "      <th>Info_Medidas</th>\n",
       "    </tr>\n",
       "  </thead>\n",
       "  <tbody>\n",
       "    <tr>\n",
       "      <th>0</th>\n",
       "      <td>Rita</td>\n",
       "      <td>24</td>\n",
       "      <td>{'Peso': 62, 'Altura': 1.65}</td>\n",
       "    </tr>\n",
       "    <tr>\n",
       "      <th>1</th>\n",
       "      <td>Zeca</td>\n",
       "      <td>32</td>\n",
       "      <td>{'Peso': 80, 'Altura': 1.82}</td>\n",
       "    </tr>\n",
       "  </tbody>\n",
       "</table>\n",
       "</div>"
      ],
      "text/plain": [
       "   Nome  Info_Idade                  Info_Medidas\n",
       "0  Rita          24  {'Peso': 62, 'Altura': 1.65}\n",
       "1  Zeca          32  {'Peso': 80, 'Altura': 1.82}"
      ]
     },
     "execution_count": 33,
     "metadata": {},
     "output_type": "execute_result"
    }
   ],
   "source": [
    "pd.json_normalize(data = df_json.alunos, sep = '_', max_level = 1)"
   ]
  },
  {
   "cell_type": "markdown",
   "id": "d7d11dca",
   "metadata": {},
   "source": [
    "### Praticando o uso de métodos de strings"
   ]
  },
  {
   "cell_type": "markdown",
   "id": "e1ca4248",
   "metadata": {},
   "source": [
    "Em algumas bases de dados encontramos colunas de informações no formato de texto (strings) que podem apresentar, em seu conteúdo, mais de um tipo de informação. Nestes casos torna-se necessário utilizar métodos específicos para tentar separar estas informações em colunas distintas. Vamos treinar a utilização destes métodos com a variável data_string abaixo:"
   ]
  },
  {
   "cell_type": "code",
   "execution_count": 1,
   "id": "9d4af097",
   "metadata": {},
   "outputs": [],
   "source": [
    "data_string = \"#-> Churrasqueira | Sauna | Mobiliado | Piscina <-#\""
   ]
  },
  {
   "cell_type": "markdown",
   "id": "0266f619",
   "metadata": {},
   "source": [
    "Utilizando os métodos de string que aprendemos no último vídeo, assinale os itens que retornam o seguinte resultado:\n",
    "\n",
    "`['Churrasqueira', 'Sauna', 'Mobiliado', 'Piscina']`"
   ]
  },
  {
   "cell_type": "code",
   "execution_count": 3,
   "id": "bdf6d760",
   "metadata": {},
   "outputs": [
    {
     "data": {
      "text/plain": [
       "['Churrasqueira', 'Sauna', 'Mobiliado', 'Piscina']"
      ]
     },
     "execution_count": 3,
     "metadata": {},
     "output_type": "execute_result"
    }
   ],
   "source": [
    "data_string[4:-4].split(' | ')"
   ]
  },
  {
   "cell_type": "code",
   "execution_count": 6,
   "id": "416fe5f1",
   "metadata": {},
   "outputs": [
    {
     "data": {
      "text/plain": [
       "['Churrasqueira', 'Sauna', 'Mobiliado', 'Piscina']"
      ]
     },
     "execution_count": 6,
     "metadata": {},
     "output_type": "execute_result"
    }
   ],
   "source": [
    "data_string.strip('#->< ').split(' | ')"
   ]
  },
  {
   "cell_type": "markdown",
   "id": "0dfc6115",
   "metadata": {},
   "source": [
    "### Utilizando o método filter"
   ]
  },
  {
   "cell_type": "markdown",
   "id": "eaafadbd",
   "metadata": {},
   "source": [
    "Em algumas situações, durante a fase de exploração dos dados, o profissional de data science precisa executar alguns filtros no dataset. Este procedimento pode ter como objetivo a aplicação de certos tipos de tratamento em um grupo específico de colunas ou a geração de tabulações específicas entre certas variáveis.\n",
    "\n",
    "O método `filter` que vimos possibilita a criação de subconjunto das linhas ou colunas de um DataFrame de acordo com os rótulos dos eixos especificados. Observe que este método não filtra um DataFrame em seu conteúdo. O filtro é apenas aplicado aos rótulos dos índices ou colunas.\n",
    "\n",
    "Considere o DataFrame `df`:"
   ]
  },
  {
   "cell_type": "code",
   "execution_count": 9,
   "id": "889d00de",
   "metadata": {},
   "outputs": [],
   "source": [
    "import pandas as pd\n",
    "dados = {\n",
    "    \"alunos\": [\"Rita\", \"Lucas\", \"Zeca\", \"Ana\"], \n",
    "    \"idade\": [10, 12, 11, 10], \n",
    "    \"medidas_altura\": [1.3, 1.5, 1.45, 1.28], \n",
    "    \"medidas_peso\": [42, 50, 45, 38]\n",
    "}\n",
    "\n",
    "df = pd.DataFrame(dados)"
   ]
  },
  {
   "cell_type": "markdown",
   "id": "af412575",
   "metadata": {},
   "source": [
    "Utilizando o método `filter`, assinale a opção que retorna um DataFrame com apenas as colunas \"medidas_altura\" e \"medidas_peso\"."
   ]
  },
  {
   "cell_type": "code",
   "execution_count": 12,
   "id": "59513b21",
   "metadata": {},
   "outputs": [
    {
     "data": {
      "text/html": [
       "<div>\n",
       "<style scoped>\n",
       "    .dataframe tbody tr th:only-of-type {\n",
       "        vertical-align: middle;\n",
       "    }\n",
       "\n",
       "    .dataframe tbody tr th {\n",
       "        vertical-align: top;\n",
       "    }\n",
       "\n",
       "    .dataframe thead th {\n",
       "        text-align: right;\n",
       "    }\n",
       "</style>\n",
       "<table border=\"1\" class=\"dataframe\">\n",
       "  <thead>\n",
       "    <tr style=\"text-align: right;\">\n",
       "      <th></th>\n",
       "      <th>medidas_altura</th>\n",
       "      <th>medidas_peso</th>\n",
       "    </tr>\n",
       "  </thead>\n",
       "  <tbody>\n",
       "    <tr>\n",
       "      <th>0</th>\n",
       "      <td>1.30</td>\n",
       "      <td>42</td>\n",
       "    </tr>\n",
       "    <tr>\n",
       "      <th>1</th>\n",
       "      <td>1.50</td>\n",
       "      <td>50</td>\n",
       "    </tr>\n",
       "    <tr>\n",
       "      <th>2</th>\n",
       "      <td>1.45</td>\n",
       "      <td>45</td>\n",
       "    </tr>\n",
       "    <tr>\n",
       "      <th>3</th>\n",
       "      <td>1.28</td>\n",
       "      <td>38</td>\n",
       "    </tr>\n",
       "  </tbody>\n",
       "</table>\n",
       "</div>"
      ],
      "text/plain": [
       "   medidas_altura  medidas_peso\n",
       "0            1.30            42\n",
       "1            1.50            50\n",
       "2            1.45            45\n",
       "3            1.28            38"
      ]
     },
     "execution_count": 12,
     "metadata": {},
     "output_type": "execute_result"
    }
   ],
   "source": [
    "df.filter(like = 'medidas')"
   ]
  },
  {
   "cell_type": "markdown",
   "id": "959bf3f5",
   "metadata": {},
   "source": [
    "## Combinando conjuntos de dados"
   ]
  },
  {
   "cell_type": "markdown",
   "id": "0021da47",
   "metadata": {},
   "source": [
    "### Os métodos append e concat"
   ]
  },
  {
   "cell_type": "markdown",
   "id": "8dfdf1d0",
   "metadata": {},
   "source": [
    "Em certos momentos, durante a fase de exploração dos dados, precisamos juntar em nosso dataset novas informações. Isso é bastante comum em projetos de data science que precisam ser atualizados constantemente devido a ocorrência de novos registros sobre o objeto de estudo. Para este tipo de trabalho o pandas disponibiliza alguns métodos como o `append` e o `concat` que conhecemos.\n",
    "\n",
    "Assinale a alternativa que apresenta a forma correta de se utilizar os métodos `append` e `concat` do `pandas` para obter o seguinte resultado:\n",
    "\n",
    "\n",
    "||A|\tB|\n",
    "|---|---|---|\n",
    "|0|\t1|\t1|\n",
    "|1|\t2|\t4|\n",
    "|2|\t3|\t9|\n",
    "|3|\t4|\t16|\n",
    "|4|\t5|\t25|\n",
    "|5|\t6|\t36|\n",
    "\n",
    "Para isso utilize os dois DataFrames resultantes do código abaixo:"
   ]
  },
  {
   "cell_type": "code",
   "execution_count": 3,
   "id": "046af559",
   "metadata": {},
   "outputs": [],
   "source": [
    "import pandas as pd\n",
    "df_A = pd.DataFrame({'A': [1, 2, 3], \"B\": [1, 4, 9]})\n",
    "df_B = pd.DataFrame({'A': [4, 5, 6], \"B\": [16, 25, 36]})"
   ]
  },
  {
   "cell_type": "code",
   "execution_count": 4,
   "id": "a365f05c",
   "metadata": {},
   "outputs": [
    {
     "data": {
      "text/html": [
       "<div>\n",
       "<style scoped>\n",
       "    .dataframe tbody tr th:only-of-type {\n",
       "        vertical-align: middle;\n",
       "    }\n",
       "\n",
       "    .dataframe tbody tr th {\n",
       "        vertical-align: top;\n",
       "    }\n",
       "\n",
       "    .dataframe thead th {\n",
       "        text-align: right;\n",
       "    }\n",
       "</style>\n",
       "<table border=\"1\" class=\"dataframe\">\n",
       "  <thead>\n",
       "    <tr style=\"text-align: right;\">\n",
       "      <th></th>\n",
       "      <th>A</th>\n",
       "      <th>B</th>\n",
       "    </tr>\n",
       "  </thead>\n",
       "  <tbody>\n",
       "    <tr>\n",
       "      <th>0</th>\n",
       "      <td>1</td>\n",
       "      <td>1</td>\n",
       "    </tr>\n",
       "    <tr>\n",
       "      <th>1</th>\n",
       "      <td>2</td>\n",
       "      <td>4</td>\n",
       "    </tr>\n",
       "    <tr>\n",
       "      <th>2</th>\n",
       "      <td>3</td>\n",
       "      <td>9</td>\n",
       "    </tr>\n",
       "    <tr>\n",
       "      <th>3</th>\n",
       "      <td>4</td>\n",
       "      <td>16</td>\n",
       "    </tr>\n",
       "    <tr>\n",
       "      <th>4</th>\n",
       "      <td>5</td>\n",
       "      <td>25</td>\n",
       "    </tr>\n",
       "    <tr>\n",
       "      <th>5</th>\n",
       "      <td>6</td>\n",
       "      <td>36</td>\n",
       "    </tr>\n",
       "  </tbody>\n",
       "</table>\n",
       "</div>"
      ],
      "text/plain": [
       "   A   B\n",
       "0  1   1\n",
       "1  2   4\n",
       "2  3   9\n",
       "3  4  16\n",
       "4  5  25\n",
       "5  6  36"
      ]
     },
     "execution_count": 4,
     "metadata": {},
     "output_type": "execute_result"
    }
   ],
   "source": [
    "pd.concat([df_A, df_B], ignore_index = True)"
   ]
  },
  {
   "cell_type": "code",
   "execution_count": 5,
   "id": "6e25ab2b",
   "metadata": {},
   "outputs": [
    {
     "name": "stderr",
     "output_type": "stream",
     "text": [
      "C:\\Users\\beatr\\AppData\\Local\\Temp\\ipykernel_16144\\1994273176.py:1: FutureWarning: The frame.append method is deprecated and will be removed from pandas in a future version. Use pandas.concat instead.\n",
      "  df_A.append(df_B, ignore_index = True)\n"
     ]
    },
    {
     "data": {
      "text/html": [
       "<div>\n",
       "<style scoped>\n",
       "    .dataframe tbody tr th:only-of-type {\n",
       "        vertical-align: middle;\n",
       "    }\n",
       "\n",
       "    .dataframe tbody tr th {\n",
       "        vertical-align: top;\n",
       "    }\n",
       "\n",
       "    .dataframe thead th {\n",
       "        text-align: right;\n",
       "    }\n",
       "</style>\n",
       "<table border=\"1\" class=\"dataframe\">\n",
       "  <thead>\n",
       "    <tr style=\"text-align: right;\">\n",
       "      <th></th>\n",
       "      <th>A</th>\n",
       "      <th>B</th>\n",
       "    </tr>\n",
       "  </thead>\n",
       "  <tbody>\n",
       "    <tr>\n",
       "      <th>0</th>\n",
       "      <td>1</td>\n",
       "      <td>1</td>\n",
       "    </tr>\n",
       "    <tr>\n",
       "      <th>1</th>\n",
       "      <td>2</td>\n",
       "      <td>4</td>\n",
       "    </tr>\n",
       "    <tr>\n",
       "      <th>2</th>\n",
       "      <td>3</td>\n",
       "      <td>9</td>\n",
       "    </tr>\n",
       "    <tr>\n",
       "      <th>3</th>\n",
       "      <td>4</td>\n",
       "      <td>16</td>\n",
       "    </tr>\n",
       "    <tr>\n",
       "      <th>4</th>\n",
       "      <td>5</td>\n",
       "      <td>25</td>\n",
       "    </tr>\n",
       "    <tr>\n",
       "      <th>5</th>\n",
       "      <td>6</td>\n",
       "      <td>36</td>\n",
       "    </tr>\n",
       "  </tbody>\n",
       "</table>\n",
       "</div>"
      ],
      "text/plain": [
       "   A   B\n",
       "0  1   1\n",
       "1  2   4\n",
       "2  3   9\n",
       "3  4  16\n",
       "4  5  25\n",
       "5  6  36"
      ]
     },
     "execution_count": 5,
     "metadata": {},
     "output_type": "execute_result"
    }
   ],
   "source": [
    "df_A.append(df_B, ignore_index = True)"
   ]
  },
  {
   "cell_type": "markdown",
   "id": "52f07cea",
   "metadata": {},
   "source": [
    "### O parâmetro sort dos métodos append e concat"
   ]
  },
  {
   "cell_type": "markdown",
   "id": "24d0d025",
   "metadata": {},
   "source": [
    "Os métodos `append` e `concat` possuem o parâmetro `sort` que é um booleano que vem, por *padrão*, configurado como `False`. Quando configurado como `True` classifica os eixos (colunas no caso do `append` e colunas ou linhas no caso do `concat`) caso ainda não estejam alinhados.\n",
    "\n",
    "Para entender melhor como essa classificação funciona vamos a um exemplo prático. Considere os DataFrames **df_A** e **df_B**:"
   ]
  },
  {
   "cell_type": "code",
   "execution_count": 6,
   "id": "5f03bf7d",
   "metadata": {},
   "outputs": [],
   "source": [
    "df_A = pd.DataFrame({'A': [1, 2, 3], 'B': [1, 4, 9]})"
   ]
  },
  {
   "cell_type": "code",
   "execution_count": 7,
   "id": "590da51a",
   "metadata": {},
   "outputs": [],
   "source": [
    "df_B = pd.DataFrame({'B': [16, 25, 36], 'A': [4, 5, 6]})"
   ]
  },
  {
   "cell_type": "markdown",
   "id": "135f5808",
   "metadata": {},
   "source": [
    "Executando a linha de código abaixo, qual seria o DataFrame resultante?"
   ]
  },
  {
   "cell_type": "code",
   "execution_count": 8,
   "id": "4cc53e69",
   "metadata": {},
   "outputs": [
    {
     "name": "stderr",
     "output_type": "stream",
     "text": [
      "C:\\Users\\beatr\\AppData\\Local\\Temp\\ipykernel_16144\\3686226822.py:1: FutureWarning: The frame.append method is deprecated and will be removed from pandas in a future version. Use pandas.concat instead.\n",
      "  df_B.append(df_A, ignore_index=True, sort=True)\n"
     ]
    },
    {
     "data": {
      "text/html": [
       "<div>\n",
       "<style scoped>\n",
       "    .dataframe tbody tr th:only-of-type {\n",
       "        vertical-align: middle;\n",
       "    }\n",
       "\n",
       "    .dataframe tbody tr th {\n",
       "        vertical-align: top;\n",
       "    }\n",
       "\n",
       "    .dataframe thead th {\n",
       "        text-align: right;\n",
       "    }\n",
       "</style>\n",
       "<table border=\"1\" class=\"dataframe\">\n",
       "  <thead>\n",
       "    <tr style=\"text-align: right;\">\n",
       "      <th></th>\n",
       "      <th>A</th>\n",
       "      <th>B</th>\n",
       "    </tr>\n",
       "  </thead>\n",
       "  <tbody>\n",
       "    <tr>\n",
       "      <th>0</th>\n",
       "      <td>4</td>\n",
       "      <td>16</td>\n",
       "    </tr>\n",
       "    <tr>\n",
       "      <th>1</th>\n",
       "      <td>5</td>\n",
       "      <td>25</td>\n",
       "    </tr>\n",
       "    <tr>\n",
       "      <th>2</th>\n",
       "      <td>6</td>\n",
       "      <td>36</td>\n",
       "    </tr>\n",
       "    <tr>\n",
       "      <th>3</th>\n",
       "      <td>1</td>\n",
       "      <td>1</td>\n",
       "    </tr>\n",
       "    <tr>\n",
       "      <th>4</th>\n",
       "      <td>2</td>\n",
       "      <td>4</td>\n",
       "    </tr>\n",
       "    <tr>\n",
       "      <th>5</th>\n",
       "      <td>3</td>\n",
       "      <td>9</td>\n",
       "    </tr>\n",
       "  </tbody>\n",
       "</table>\n",
       "</div>"
      ],
      "text/plain": [
       "   A   B\n",
       "0  4  16\n",
       "1  5  25\n",
       "2  6  36\n",
       "3  1   1\n",
       "4  2   4\n",
       "5  3   9"
      ]
     },
     "execution_count": 8,
     "metadata": {},
     "output_type": "execute_result"
    }
   ],
   "source": [
    "df_B.append(df_A, ignore_index=True, sort=True)"
   ]
  },
  {
   "cell_type": "markdown",
   "id": "27c4acb5",
   "metadata": {},
   "source": [
    "### Substituindo valores"
   ]
  },
  {
   "cell_type": "markdown",
   "id": "955a54d4",
   "metadata": {},
   "source": [
    "A Series nomes contém os nomes de alguns assuntos interessantes quando falamos sobre análise de dados:"
   ]
  },
  {
   "cell_type": "code",
   "execution_count": 10,
   "id": "552bdb5c",
   "metadata": {},
   "outputs": [
    {
     "data": {
      "text/plain": [
       "0        Data Science\n",
       "1            Big Data\n",
       "2                  DS\n",
       "3    Machine Learning\n",
       "4                  ML\n",
       "dtype: object"
      ]
     },
     "execution_count": 10,
     "metadata": {},
     "output_type": "execute_result"
    }
   ],
   "source": [
    "nomes = pd.Series(['Data Science', 'Big Data', 'DS', 'Machine Learning', 'ML'])\n",
    "nomes"
   ]
  },
  {
   "cell_type": "markdown",
   "id": "df98332a",
   "metadata": {},
   "source": [
    "Assinale os códigos que, com os métodos vistos, geram a Series abaixo:\n",
    "\n",
    "||0|\n",
    "|---|---|\n",
    "|0|\tData Science|\n",
    "|1|\tBig Data|\n",
    "|2|\tMachine Learning|\n",
    "\n",
    "Observe que 'DS' e 'ML' são siglas para 'Data Science' e 'Machine Learning', respectivamente."
   ]
  },
  {
   "cell_type": "code",
   "execution_count": 14,
   "id": "32c1bc3f",
   "metadata": {},
   "outputs": [
    {
     "data": {
      "text/plain": [
       "0        Data Science\n",
       "1            Big Data\n",
       "2    Machine Learning\n",
       "dtype: object"
      ]
     },
     "execution_count": 14,
     "metadata": {},
     "output_type": "execute_result"
    }
   ],
   "source": [
    "pd.Series(nomes.replace({'DS': 'Data Science', 'ML': 'Machine Learning'}).unique())"
   ]
  },
  {
   "cell_type": "code",
   "execution_count": 16,
   "id": "f46d2513",
   "metadata": {},
   "outputs": [
    {
     "data": {
      "text/plain": [
       "0        Data Science\n",
       "1            Big Data\n",
       "2    Machine Learning\n",
       "dtype: object"
      ]
     },
     "execution_count": 16,
     "metadata": {},
     "output_type": "execute_result"
    }
   ],
   "source": [
    "# outras possibilidades (colocadas como alternativas do exercício)\n",
    "pd.Series(nomes.replace(['DS', 'ML'], ['Data Science', 'Machine Learning']).unique())"
   ]
  },
  {
   "cell_type": "code",
   "execution_count": 17,
   "id": "700b4ed6",
   "metadata": {},
   "outputs": [
    {
     "data": {
      "text/plain": [
       "0        Data Science\n",
       "1            Big Data\n",
       "2    Machine Learning\n",
       "dtype: object"
      ]
     },
     "execution_count": 17,
     "metadata": {},
     "output_type": "execute_result"
    }
   ],
   "source": [
    "pd.Series(nomes.replace('DS', 'Data Science').replace('ML', 'Machine Learning').unique())"
   ]
  },
  {
   "cell_type": "code",
   "execution_count": null,
   "id": "915e501f",
   "metadata": {},
   "outputs": [],
   "source": []
  }
 ],
 "metadata": {
  "kernelspec": {
   "display_name": "Python 3 (ipykernel)",
   "language": "python",
   "name": "python3"
  },
  "language_info": {
   "codemirror_mode": {
    "name": "ipython",
    "version": 3
   },
   "file_extension": ".py",
   "mimetype": "text/x-python",
   "name": "python",
   "nbconvert_exporter": "python",
   "pygments_lexer": "ipython3",
   "version": "3.9.12"
  }
 },
 "nbformat": 4,
 "nbformat_minor": 5
}
