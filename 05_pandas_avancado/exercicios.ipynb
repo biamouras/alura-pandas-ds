{
 "cells": [
  {
   "cell_type": "markdown",
   "id": "803bc082",
   "metadata": {},
   "source": [
    "# Exercícios do curso de Pandas avançado"
   ]
  },
  {
   "cell_type": "markdown",
   "id": "65825452",
   "metadata": {},
   "source": [
    "## Começando o trabalho"
   ]
  },
  {
   "cell_type": "markdown",
   "id": "46e2fe15",
   "metadata": {},
   "source": [
    "### Carregando arquivos JSON"
   ]
  },
  {
   "cell_type": "markdown",
   "id": "49930b01",
   "metadata": {},
   "source": [
    "Em uma base de dados que relaciona o nome da pessoa e seus dados referentes à idade, peso e altura, considere a variável data_json abaixo:"
   ]
  },
  {
   "cell_type": "code",
   "execution_count": 1,
   "id": "3fe71b54",
   "metadata": {},
   "outputs": [],
   "source": [
    "import pandas as pd\n",
    "data_json = '{\"Rita\": {\"Idade\": 24, \"Peso\": 62, \"Altura\": 1.65}, \"Zeca\": {\"Idade\": 32, \"Peso\": 80, \"Altura\": 1.82}}'"
   ]
  },
  {
   "cell_type": "markdown",
   "id": "5b7101b0",
   "metadata": {},
   "source": [
    "Indique a opção que mostra os códigos que produzem os seguintes resultados:\n",
    "    \n",
    "**Tabela A**\n",
    "\n",
    "| | Idade | Peso | Altura |\n",
    "|---|---|---|---|\n",
    "|Rita | 24 | 62 | 1.65 |\n",
    "|Zeca | 32 | 80 | 1.82 |\n",
    "\n",
    "**Tabela B**\n",
    "\n",
    "|\t|Rita|\tZeca|\n",
    "|---|---|---|\n",
    "|Idade|\t24|\t32|\n",
    "|Peso\t|62|\t80|\n",
    "|Altura\t|1.65|\t1.82|"
   ]
  },
  {
   "cell_type": "code",
   "execution_count": 2,
   "id": "d64c9451",
   "metadata": {},
   "outputs": [
    {
     "data": {
      "text/html": [
       "<div>\n",
       "<style scoped>\n",
       "    .dataframe tbody tr th:only-of-type {\n",
       "        vertical-align: middle;\n",
       "    }\n",
       "\n",
       "    .dataframe tbody tr th {\n",
       "        vertical-align: top;\n",
       "    }\n",
       "\n",
       "    .dataframe thead th {\n",
       "        text-align: right;\n",
       "    }\n",
       "</style>\n",
       "<table border=\"1\" class=\"dataframe\">\n",
       "  <thead>\n",
       "    <tr style=\"text-align: right;\">\n",
       "      <th></th>\n",
       "      <th>Idade</th>\n",
       "      <th>Peso</th>\n",
       "      <th>Altura</th>\n",
       "    </tr>\n",
       "  </thead>\n",
       "  <tbody>\n",
       "    <tr>\n",
       "      <th>Rita</th>\n",
       "      <td>24</td>\n",
       "      <td>62</td>\n",
       "      <td>1.65</td>\n",
       "    </tr>\n",
       "    <tr>\n",
       "      <th>Zeca</th>\n",
       "      <td>32</td>\n",
       "      <td>80</td>\n",
       "      <td>1.82</td>\n",
       "    </tr>\n",
       "  </tbody>\n",
       "</table>\n",
       "</div>"
      ],
      "text/plain": [
       "      Idade  Peso  Altura\n",
       "Rita     24    62    1.65\n",
       "Zeca     32    80    1.82"
      ]
     },
     "execution_count": 2,
     "metadata": {},
     "output_type": "execute_result"
    }
   ],
   "source": [
    "dados = pd.read_json(\n",
    "    path_or_buf = data_json,\n",
    "    orient = 'index'\n",
    ")\n",
    "dados"
   ]
  },
  {
   "cell_type": "code",
   "execution_count": 3,
   "id": "1aefe40a",
   "metadata": {},
   "outputs": [
    {
     "data": {
      "text/html": [
       "<div>\n",
       "<style scoped>\n",
       "    .dataframe tbody tr th:only-of-type {\n",
       "        vertical-align: middle;\n",
       "    }\n",
       "\n",
       "    .dataframe tbody tr th {\n",
       "        vertical-align: top;\n",
       "    }\n",
       "\n",
       "    .dataframe thead th {\n",
       "        text-align: right;\n",
       "    }\n",
       "</style>\n",
       "<table border=\"1\" class=\"dataframe\">\n",
       "  <thead>\n",
       "    <tr style=\"text-align: right;\">\n",
       "      <th></th>\n",
       "      <th>Rita</th>\n",
       "      <th>Zeca</th>\n",
       "    </tr>\n",
       "  </thead>\n",
       "  <tbody>\n",
       "    <tr>\n",
       "      <th>Idade</th>\n",
       "      <td>24.00</td>\n",
       "      <td>32.00</td>\n",
       "    </tr>\n",
       "    <tr>\n",
       "      <th>Peso</th>\n",
       "      <td>62.00</td>\n",
       "      <td>80.00</td>\n",
       "    </tr>\n",
       "    <tr>\n",
       "      <th>Altura</th>\n",
       "      <td>1.65</td>\n",
       "      <td>1.82</td>\n",
       "    </tr>\n",
       "  </tbody>\n",
       "</table>\n",
       "</div>"
      ],
      "text/plain": [
       "         Rita   Zeca\n",
       "Idade   24.00  32.00\n",
       "Peso    62.00  80.00\n",
       "Altura   1.65   1.82"
      ]
     },
     "execution_count": 3,
     "metadata": {},
     "output_type": "execute_result"
    }
   ],
   "source": [
    "dados = pd.read_json(\n",
    "    path_or_buf = data_json\n",
    ")\n",
    "dados"
   ]
  },
  {
   "cell_type": "markdown",
   "id": "3ba1854a",
   "metadata": {},
   "source": [
    "### Carregando arquivos Excel"
   ]
  },
  {
   "cell_type": "markdown",
   "id": "c9039bb0",
   "metadata": {},
   "source": [
    "No arquivo Excel (XLSX) disponibilizado (bairros.xlsx) temos duas planilhas. Na planilha “Residencial X Comercial”, temos os valores do m2 para imóveis comerciais e residenciais nos bairros da cidade do Rio de Janeiro. Temos também a divisão regional das informações por zonas da cidade.\n",
    "\n",
    "Utilizando esta planilha e o método `read_excel()` do pandas obtenha o seguinte DataFrame:\n",
    "\n",
    "|Zonas\t|Bairros|\tResidencial|\tComercial|\n",
    "|---|---|---|---|\n",
    "|Sul\t|Botafogo\t|14002\t|7972|\n",
    "||Catete\t|15232|\t6259|\n",
    "||Copacabana\t|23318|\t9355|\n",
    "|... |...|...|...|\n",
    "\n",
    "Observe que foram selecionadas apenas as linhas dos bairros pertencentes à zona sul da cidade.\n",
    "\n",
    "Marque a opção que apresenta o código necessário para criar o DataFrame acima."
   ]
  },
  {
   "cell_type": "code",
   "execution_count": 4,
   "id": "130c6c8f",
   "metadata": {},
   "outputs": [
    {
     "data": {
      "text/html": [
       "<div>\n",
       "<style scoped>\n",
       "    .dataframe tbody tr th:only-of-type {\n",
       "        vertical-align: middle;\n",
       "    }\n",
       "\n",
       "    .dataframe tbody tr th {\n",
       "        vertical-align: top;\n",
       "    }\n",
       "\n",
       "    .dataframe thead th {\n",
       "        text-align: right;\n",
       "    }\n",
       "</style>\n",
       "<table border=\"1\" class=\"dataframe\">\n",
       "  <thead>\n",
       "    <tr style=\"text-align: right;\">\n",
       "      <th></th>\n",
       "      <th></th>\n",
       "      <th>Residencial</th>\n",
       "      <th>Comercial</th>\n",
       "    </tr>\n",
       "    <tr>\n",
       "      <th>Zonas</th>\n",
       "      <th>Bairros</th>\n",
       "      <th></th>\n",
       "      <th></th>\n",
       "    </tr>\n",
       "  </thead>\n",
       "  <tbody>\n",
       "    <tr>\n",
       "      <th rowspan=\"17\" valign=\"top\">Sul</th>\n",
       "      <th>Botafogo</th>\n",
       "      <td>14002</td>\n",
       "      <td>7972</td>\n",
       "    </tr>\n",
       "    <tr>\n",
       "      <th>Catete</th>\n",
       "      <td>15232</td>\n",
       "      <td>6259</td>\n",
       "    </tr>\n",
       "    <tr>\n",
       "      <th>Copacabana</th>\n",
       "      <td>23318</td>\n",
       "      <td>9355</td>\n",
       "    </tr>\n",
       "    <tr>\n",
       "      <th>Cosme Velho</th>\n",
       "      <td>10320</td>\n",
       "      <td>8177</td>\n",
       "    </tr>\n",
       "    <tr>\n",
       "      <th>Flamengo</th>\n",
       "      <td>19636</td>\n",
       "      <td>7135</td>\n",
       "    </tr>\n",
       "    <tr>\n",
       "      <th>Gávea</th>\n",
       "      <td>13506</td>\n",
       "      <td>8211</td>\n",
       "    </tr>\n",
       "    <tr>\n",
       "      <th>Humaitá</th>\n",
       "      <td>10603</td>\n",
       "      <td>5039</td>\n",
       "    </tr>\n",
       "    <tr>\n",
       "      <th>Ipanema</th>\n",
       "      <td>15965</td>\n",
       "      <td>7293</td>\n",
       "    </tr>\n",
       "    <tr>\n",
       "      <th>Jardim Botânico</th>\n",
       "      <td>17243</td>\n",
       "      <td>8095</td>\n",
       "    </tr>\n",
       "    <tr>\n",
       "      <th>Lagoa</th>\n",
       "      <td>24982</td>\n",
       "      <td>6584</td>\n",
       "    </tr>\n",
       "    <tr>\n",
       "      <th>Laranjeiras</th>\n",
       "      <td>17307</td>\n",
       "      <td>7745</td>\n",
       "    </tr>\n",
       "    <tr>\n",
       "      <th>Leblon</th>\n",
       "      <td>13815</td>\n",
       "      <td>8125</td>\n",
       "    </tr>\n",
       "    <tr>\n",
       "      <th>Leme</th>\n",
       "      <td>15815</td>\n",
       "      <td>8587</td>\n",
       "    </tr>\n",
       "    <tr>\n",
       "      <th>Rocinha</th>\n",
       "      <td>15110</td>\n",
       "      <td>9023</td>\n",
       "    </tr>\n",
       "    <tr>\n",
       "      <th>São Conrado</th>\n",
       "      <td>20727</td>\n",
       "      <td>9587</td>\n",
       "    </tr>\n",
       "    <tr>\n",
       "      <th>Urca</th>\n",
       "      <td>22876</td>\n",
       "      <td>6607</td>\n",
       "    </tr>\n",
       "    <tr>\n",
       "      <th>Vidigal</th>\n",
       "      <td>23470</td>\n",
       "      <td>5424</td>\n",
       "    </tr>\n",
       "  </tbody>\n",
       "</table>\n",
       "</div>"
      ],
      "text/plain": [
       "                       Residencial  Comercial\n",
       "Zonas Bairros                                \n",
       "Sul   Botafogo               14002       7972\n",
       "      Catete                 15232       6259\n",
       "      Copacabana             23318       9355\n",
       "      Cosme Velho            10320       8177\n",
       "      Flamengo               19636       7135\n",
       "      Gávea                  13506       8211\n",
       "      Humaitá                10603       5039\n",
       "      Ipanema                15965       7293\n",
       "      Jardim Botânico        17243       8095\n",
       "      Lagoa                  24982       6584\n",
       "      Laranjeiras            17307       7745\n",
       "      Leblon                 13815       8125\n",
       "      Leme                   15815       8587\n",
       "      Rocinha                15110       9023\n",
       "      São Conrado            20727       9587\n",
       "      Urca                   22876       6607\n",
       "      Vidigal                23470       5424"
      ]
     },
     "execution_count": 4,
     "metadata": {},
     "output_type": "execute_result"
    }
   ],
   "source": [
    "pd.read_excel(\n",
    "    io = 'dados/bairros.xlsx',\n",
    "    sheet_name = 'Residencial X Comercial',\n",
    "    #header = 1,\n",
    "    names = ['Zonas', 'Bairros', 'Residencial', 'Comercial'],\n",
    "    index_col = [0, 1],\n",
    "    usecols = 'B:E',\n",
    "    skiprows = 18,\n",
    "    nrows = 17\n",
    ")"
   ]
  },
  {
   "cell_type": "markdown",
   "id": "95b79b67",
   "metadata": {},
   "source": [
    "## Transformando e tratando os dados"
   ]
  },
  {
   "cell_type": "markdown",
   "id": "60fce9d8",
   "metadata": {},
   "source": [
    "### Normalizando nossos dados"
   ]
  },
  {
   "cell_type": "markdown",
   "id": "edc9d686",
   "metadata": {},
   "source": [
    "Estamos trabalhando com uma base de dados que relaciona o nome dos alunos, suas idades e medidas (peso e altura). Considere a variável data_json abaixo:"
   ]
  },
  {
   "cell_type": "code",
   "execution_count": 5,
   "id": "ecb7ef1c",
   "metadata": {},
   "outputs": [],
   "source": [
    "data_json = '{\"alunos\": [{\"Nome\": \"Rita\", \"Info\": {\"Idade\": 24, \"Medidas\": {\"Peso\": 62, \"Altura\": 1.65}}}, {\"Nome\": \"Zeca\", \"Info\": {\"Idade\": 32, \"Medidas\": {\"Peso\": 80, \"Altura\": 1.82}}}]}'"
   ]
  },
  {
   "cell_type": "markdown",
   "id": "b5f97b10",
   "metadata": {},
   "source": [
    "Utilizando os métodos aprendidos, assinale a alternativa que produz como resultado o seguinte DataFrame:\n",
    "\n",
    "\n",
    "||Nome\t|Info_Idade|\tInfo_Medidas|\n",
    "|---|---|---|---|\n",
    "|0\t|Rita|\t24|\t{'Peso': 62, 'Altura': 1.65}|\n",
    "|1|\tZeca|\t32|\t{'Peso': 80, 'Altura': 1.82}|\n"
   ]
  },
  {
   "cell_type": "code",
   "execution_count": 6,
   "id": "94d43bbd",
   "metadata": {},
   "outputs": [
    {
     "data": {
      "text/html": [
       "<div>\n",
       "<style scoped>\n",
       "    .dataframe tbody tr th:only-of-type {\n",
       "        vertical-align: middle;\n",
       "    }\n",
       "\n",
       "    .dataframe tbody tr th {\n",
       "        vertical-align: top;\n",
       "    }\n",
       "\n",
       "    .dataframe thead th {\n",
       "        text-align: right;\n",
       "    }\n",
       "</style>\n",
       "<table border=\"1\" class=\"dataframe\">\n",
       "  <thead>\n",
       "    <tr style=\"text-align: right;\">\n",
       "      <th></th>\n",
       "      <th>alunos</th>\n",
       "    </tr>\n",
       "  </thead>\n",
       "  <tbody>\n",
       "    <tr>\n",
       "      <th>0</th>\n",
       "      <td>{'Nome': 'Rita', 'Info': {'Idade': 24, 'Medida...</td>\n",
       "    </tr>\n",
       "    <tr>\n",
       "      <th>1</th>\n",
       "      <td>{'Nome': 'Zeca', 'Info': {'Idade': 32, 'Medida...</td>\n",
       "    </tr>\n",
       "  </tbody>\n",
       "</table>\n",
       "</div>"
      ],
      "text/plain": [
       "                                              alunos\n",
       "0  {'Nome': 'Rita', 'Info': {'Idade': 24, 'Medida...\n",
       "1  {'Nome': 'Zeca', 'Info': {'Idade': 32, 'Medida..."
      ]
     },
     "execution_count": 6,
     "metadata": {},
     "output_type": "execute_result"
    }
   ],
   "source": [
    "df_json = pd.read_json(data_json)\n",
    "df_json"
   ]
  },
  {
   "cell_type": "code",
   "execution_count": 7,
   "id": "d225e0b9",
   "metadata": {},
   "outputs": [
    {
     "data": {
      "text/html": [
       "<div>\n",
       "<style scoped>\n",
       "    .dataframe tbody tr th:only-of-type {\n",
       "        vertical-align: middle;\n",
       "    }\n",
       "\n",
       "    .dataframe tbody tr th {\n",
       "        vertical-align: top;\n",
       "    }\n",
       "\n",
       "    .dataframe thead th {\n",
       "        text-align: right;\n",
       "    }\n",
       "</style>\n",
       "<table border=\"1\" class=\"dataframe\">\n",
       "  <thead>\n",
       "    <tr style=\"text-align: right;\">\n",
       "      <th></th>\n",
       "      <th>Nome</th>\n",
       "      <th>Info_Idade</th>\n",
       "      <th>Info_Medidas</th>\n",
       "    </tr>\n",
       "  </thead>\n",
       "  <tbody>\n",
       "    <tr>\n",
       "      <th>0</th>\n",
       "      <td>Rita</td>\n",
       "      <td>24</td>\n",
       "      <td>{'Peso': 62, 'Altura': 1.65}</td>\n",
       "    </tr>\n",
       "    <tr>\n",
       "      <th>1</th>\n",
       "      <td>Zeca</td>\n",
       "      <td>32</td>\n",
       "      <td>{'Peso': 80, 'Altura': 1.82}</td>\n",
       "    </tr>\n",
       "  </tbody>\n",
       "</table>\n",
       "</div>"
      ],
      "text/plain": [
       "   Nome  Info_Idade                  Info_Medidas\n",
       "0  Rita          24  {'Peso': 62, 'Altura': 1.65}\n",
       "1  Zeca          32  {'Peso': 80, 'Altura': 1.82}"
      ]
     },
     "execution_count": 7,
     "metadata": {},
     "output_type": "execute_result"
    }
   ],
   "source": [
    "pd.json_normalize(data = df_json.alunos, sep = '_', max_level = 1)"
   ]
  },
  {
   "cell_type": "markdown",
   "id": "d7d11dca",
   "metadata": {},
   "source": [
    "### Praticando o uso de métodos de strings"
   ]
  },
  {
   "cell_type": "markdown",
   "id": "e1ca4248",
   "metadata": {},
   "source": [
    "Em algumas bases de dados encontramos colunas de informações no formato de texto (strings) que podem apresentar, em seu conteúdo, mais de um tipo de informação. Nestes casos torna-se necessário utilizar métodos específicos para tentar separar estas informações em colunas distintas. Vamos treinar a utilização destes métodos com a variável data_string abaixo:"
   ]
  },
  {
   "cell_type": "code",
   "execution_count": 8,
   "id": "9d4af097",
   "metadata": {},
   "outputs": [],
   "source": [
    "data_string = \"#-> Churrasqueira | Sauna | Mobiliado | Piscina <-#\""
   ]
  },
  {
   "cell_type": "markdown",
   "id": "0266f619",
   "metadata": {},
   "source": [
    "Utilizando os métodos de string que aprendemos no último vídeo, assinale os itens que retornam o seguinte resultado:\n",
    "\n",
    "`['Churrasqueira', 'Sauna', 'Mobiliado', 'Piscina']`"
   ]
  },
  {
   "cell_type": "code",
   "execution_count": 9,
   "id": "bdf6d760",
   "metadata": {},
   "outputs": [
    {
     "data": {
      "text/plain": [
       "['Churrasqueira', 'Sauna', 'Mobiliado', 'Piscina']"
      ]
     },
     "execution_count": 9,
     "metadata": {},
     "output_type": "execute_result"
    }
   ],
   "source": [
    "data_string[4:-4].split(' | ')"
   ]
  },
  {
   "cell_type": "code",
   "execution_count": 10,
   "id": "416fe5f1",
   "metadata": {},
   "outputs": [
    {
     "data": {
      "text/plain": [
       "['Churrasqueira', 'Sauna', 'Mobiliado', 'Piscina']"
      ]
     },
     "execution_count": 10,
     "metadata": {},
     "output_type": "execute_result"
    }
   ],
   "source": [
    "data_string.strip('#->< ').split(' | ')"
   ]
  },
  {
   "cell_type": "markdown",
   "id": "0dfc6115",
   "metadata": {},
   "source": [
    "### Utilizando o método filter"
   ]
  },
  {
   "cell_type": "markdown",
   "id": "eaafadbd",
   "metadata": {},
   "source": [
    "Em algumas situações, durante a fase de exploração dos dados, o profissional de data science precisa executar alguns filtros no dataset. Este procedimento pode ter como objetivo a aplicação de certos tipos de tratamento em um grupo específico de colunas ou a geração de tabulações específicas entre certas variáveis.\n",
    "\n",
    "O método `filter` que vimos possibilita a criação de subconjunto das linhas ou colunas de um DataFrame de acordo com os rótulos dos eixos especificados. Observe que este método não filtra um DataFrame em seu conteúdo. O filtro é apenas aplicado aos rótulos dos índices ou colunas.\n",
    "\n",
    "Considere o DataFrame `df`:"
   ]
  },
  {
   "cell_type": "code",
   "execution_count": 11,
   "id": "889d00de",
   "metadata": {},
   "outputs": [],
   "source": [
    "import pandas as pd\n",
    "dados = {\n",
    "    \"alunos\": [\"Rita\", \"Lucas\", \"Zeca\", \"Ana\"], \n",
    "    \"idade\": [10, 12, 11, 10], \n",
    "    \"medidas_altura\": [1.3, 1.5, 1.45, 1.28], \n",
    "    \"medidas_peso\": [42, 50, 45, 38]\n",
    "}\n",
    "\n",
    "df = pd.DataFrame(dados)"
   ]
  },
  {
   "cell_type": "markdown",
   "id": "af412575",
   "metadata": {},
   "source": [
    "Utilizando o método `filter`, assinale a opção que retorna um DataFrame com apenas as colunas \"medidas_altura\" e \"medidas_peso\"."
   ]
  },
  {
   "cell_type": "code",
   "execution_count": 12,
   "id": "59513b21",
   "metadata": {},
   "outputs": [
    {
     "data": {
      "text/html": [
       "<div>\n",
       "<style scoped>\n",
       "    .dataframe tbody tr th:only-of-type {\n",
       "        vertical-align: middle;\n",
       "    }\n",
       "\n",
       "    .dataframe tbody tr th {\n",
       "        vertical-align: top;\n",
       "    }\n",
       "\n",
       "    .dataframe thead th {\n",
       "        text-align: right;\n",
       "    }\n",
       "</style>\n",
       "<table border=\"1\" class=\"dataframe\">\n",
       "  <thead>\n",
       "    <tr style=\"text-align: right;\">\n",
       "      <th></th>\n",
       "      <th>medidas_altura</th>\n",
       "      <th>medidas_peso</th>\n",
       "    </tr>\n",
       "  </thead>\n",
       "  <tbody>\n",
       "    <tr>\n",
       "      <th>0</th>\n",
       "      <td>1.30</td>\n",
       "      <td>42</td>\n",
       "    </tr>\n",
       "    <tr>\n",
       "      <th>1</th>\n",
       "      <td>1.50</td>\n",
       "      <td>50</td>\n",
       "    </tr>\n",
       "    <tr>\n",
       "      <th>2</th>\n",
       "      <td>1.45</td>\n",
       "      <td>45</td>\n",
       "    </tr>\n",
       "    <tr>\n",
       "      <th>3</th>\n",
       "      <td>1.28</td>\n",
       "      <td>38</td>\n",
       "    </tr>\n",
       "  </tbody>\n",
       "</table>\n",
       "</div>"
      ],
      "text/plain": [
       "   medidas_altura  medidas_peso\n",
       "0            1.30            42\n",
       "1            1.50            50\n",
       "2            1.45            45\n",
       "3            1.28            38"
      ]
     },
     "execution_count": 12,
     "metadata": {},
     "output_type": "execute_result"
    }
   ],
   "source": [
    "df.filter(like = 'medidas')"
   ]
  },
  {
   "cell_type": "markdown",
   "id": "94267f0c",
   "metadata": {},
   "source": [
    "## Combinando conjuntos de dados"
   ]
  },
  {
   "cell_type": "markdown",
   "id": "c27e1486",
   "metadata": {},
   "source": [
    "### Os métodos append e concat"
   ]
  },
  {
   "cell_type": "markdown",
   "id": "db15daca",
   "metadata": {},
   "source": [
    "Em certos momentos, durante a fase de exploração dos dados, precisamos juntar em nosso dataset novas informações. Isso é bastante comum em projetos de data science que precisam ser atualizados constantemente devido a ocorrência de novos registros sobre o objeto de estudo. Para este tipo de trabalho o pandas disponibiliza alguns métodos como o `append` e o `concat` que conhecemos.\n",
    "\n",
    "Assinale a alternativa que apresenta a forma correta de se utilizar os métodos `append` e `concat` do `pandas` para obter o seguinte resultado:\n",
    "\n",
    "\n",
    "||A|\tB|\n",
    "|---|---|---|\n",
    "|0|\t1|\t1|\n",
    "|1|\t2|\t4|\n",
    "|2|\t3|\t9|\n",
    "|3|\t4|\t16|\n",
    "|4|\t5|\t25|\n",
    "|5|\t6|\t36|\n",
    "\n",
    "Para isso utilize os dois DataFrames resultantes do código abaixo:"
   ]
  },
  {
   "cell_type": "code",
   "execution_count": 13,
   "id": "b08421ab",
   "metadata": {},
   "outputs": [],
   "source": [
    "import pandas as pd\n",
    "df_A = pd.DataFrame({'A': [1, 2, 3], \"B\": [1, 4, 9]})\n",
    "df_B = pd.DataFrame({'A': [4, 5, 6], \"B\": [16, 25, 36]})"
   ]
  },
  {
   "cell_type": "code",
   "execution_count": 14,
   "id": "f9ee3ed7",
   "metadata": {},
   "outputs": [
    {
     "data": {
      "text/html": [
       "<div>\n",
       "<style scoped>\n",
       "    .dataframe tbody tr th:only-of-type {\n",
       "        vertical-align: middle;\n",
       "    }\n",
       "\n",
       "    .dataframe tbody tr th {\n",
       "        vertical-align: top;\n",
       "    }\n",
       "\n",
       "    .dataframe thead th {\n",
       "        text-align: right;\n",
       "    }\n",
       "</style>\n",
       "<table border=\"1\" class=\"dataframe\">\n",
       "  <thead>\n",
       "    <tr style=\"text-align: right;\">\n",
       "      <th></th>\n",
       "      <th>A</th>\n",
       "      <th>B</th>\n",
       "    </tr>\n",
       "  </thead>\n",
       "  <tbody>\n",
       "    <tr>\n",
       "      <th>0</th>\n",
       "      <td>1</td>\n",
       "      <td>1</td>\n",
       "    </tr>\n",
       "    <tr>\n",
       "      <th>1</th>\n",
       "      <td>2</td>\n",
       "      <td>4</td>\n",
       "    </tr>\n",
       "    <tr>\n",
       "      <th>2</th>\n",
       "      <td>3</td>\n",
       "      <td>9</td>\n",
       "    </tr>\n",
       "    <tr>\n",
       "      <th>3</th>\n",
       "      <td>4</td>\n",
       "      <td>16</td>\n",
       "    </tr>\n",
       "    <tr>\n",
       "      <th>4</th>\n",
       "      <td>5</td>\n",
       "      <td>25</td>\n",
       "    </tr>\n",
       "    <tr>\n",
       "      <th>5</th>\n",
       "      <td>6</td>\n",
       "      <td>36</td>\n",
       "    </tr>\n",
       "  </tbody>\n",
       "</table>\n",
       "</div>"
      ],
      "text/plain": [
       "   A   B\n",
       "0  1   1\n",
       "1  2   4\n",
       "2  3   9\n",
       "3  4  16\n",
       "4  5  25\n",
       "5  6  36"
      ]
     },
     "execution_count": 14,
     "metadata": {},
     "output_type": "execute_result"
    }
   ],
   "source": [
    "pd.concat([df_A, df_B], ignore_index = True)"
   ]
  },
  {
   "cell_type": "code",
   "execution_count": 15,
   "id": "4b4bf799",
   "metadata": {},
   "outputs": [
    {
     "name": "stderr",
     "output_type": "stream",
     "text": [
      "C:\\Users\\beatr\\AppData\\Local\\Temp\\ipykernel_2920\\1994273176.py:1: FutureWarning: The frame.append method is deprecated and will be removed from pandas in a future version. Use pandas.concat instead.\n",
      "  df_A.append(df_B, ignore_index = True)\n"
     ]
    },
    {
     "data": {
      "text/html": [
       "<div>\n",
       "<style scoped>\n",
       "    .dataframe tbody tr th:only-of-type {\n",
       "        vertical-align: middle;\n",
       "    }\n",
       "\n",
       "    .dataframe tbody tr th {\n",
       "        vertical-align: top;\n",
       "    }\n",
       "\n",
       "    .dataframe thead th {\n",
       "        text-align: right;\n",
       "    }\n",
       "</style>\n",
       "<table border=\"1\" class=\"dataframe\">\n",
       "  <thead>\n",
       "    <tr style=\"text-align: right;\">\n",
       "      <th></th>\n",
       "      <th>A</th>\n",
       "      <th>B</th>\n",
       "    </tr>\n",
       "  </thead>\n",
       "  <tbody>\n",
       "    <tr>\n",
       "      <th>0</th>\n",
       "      <td>1</td>\n",
       "      <td>1</td>\n",
       "    </tr>\n",
       "    <tr>\n",
       "      <th>1</th>\n",
       "      <td>2</td>\n",
       "      <td>4</td>\n",
       "    </tr>\n",
       "    <tr>\n",
       "      <th>2</th>\n",
       "      <td>3</td>\n",
       "      <td>9</td>\n",
       "    </tr>\n",
       "    <tr>\n",
       "      <th>3</th>\n",
       "      <td>4</td>\n",
       "      <td>16</td>\n",
       "    </tr>\n",
       "    <tr>\n",
       "      <th>4</th>\n",
       "      <td>5</td>\n",
       "      <td>25</td>\n",
       "    </tr>\n",
       "    <tr>\n",
       "      <th>5</th>\n",
       "      <td>6</td>\n",
       "      <td>36</td>\n",
       "    </tr>\n",
       "  </tbody>\n",
       "</table>\n",
       "</div>"
      ],
      "text/plain": [
       "   A   B\n",
       "0  1   1\n",
       "1  2   4\n",
       "2  3   9\n",
       "3  4  16\n",
       "4  5  25\n",
       "5  6  36"
      ]
     },
     "execution_count": 15,
     "metadata": {},
     "output_type": "execute_result"
    }
   ],
   "source": [
    "df_A.append(df_B, ignore_index = True)"
   ]
  },
  {
   "cell_type": "markdown",
   "id": "a6fd464f",
   "metadata": {},
   "source": [
    "### O parâmetro sort dos métodos append e concat"
   ]
  },
  {
   "cell_type": "markdown",
   "id": "dd0eb9d0",
   "metadata": {},
   "source": [
    "Os métodos `append` e `concat` possuem o parâmetro `sort` que é um booleano que vem, por *padrão*, configurado como `False`. Quando configurado como `True` classifica os eixos (colunas no caso do `append` e colunas ou linhas no caso do `concat`) caso ainda não estejam alinhados.\n",
    "\n",
    "Para entender melhor como essa classificação funciona vamos a um exemplo prático. Considere os DataFrames **df_A** e **df_B**:"
   ]
  },
  {
   "cell_type": "code",
   "execution_count": 16,
   "id": "1bcdab9f",
   "metadata": {},
   "outputs": [],
   "source": [
    "df_A = pd.DataFrame({'A': [1, 2, 3], 'B': [1, 4, 9]})"
   ]
  },
  {
   "cell_type": "code",
   "execution_count": 17,
   "id": "369e1823",
   "metadata": {},
   "outputs": [],
   "source": [
    "df_B = pd.DataFrame({'B': [16, 25, 36], 'A': [4, 5, 6]})"
   ]
  },
  {
   "cell_type": "markdown",
   "id": "3bfeff19",
   "metadata": {},
   "source": [
    "Executando a linha de código abaixo, qual seria o DataFrame resultante?"
   ]
  },
  {
   "cell_type": "code",
   "execution_count": 18,
   "id": "1e679f02",
   "metadata": {},
   "outputs": [
    {
     "name": "stderr",
     "output_type": "stream",
     "text": [
      "C:\\Users\\beatr\\AppData\\Local\\Temp\\ipykernel_2920\\3686226822.py:1: FutureWarning: The frame.append method is deprecated and will be removed from pandas in a future version. Use pandas.concat instead.\n",
      "  df_B.append(df_A, ignore_index=True, sort=True)\n"
     ]
    },
    {
     "data": {
      "text/html": [
       "<div>\n",
       "<style scoped>\n",
       "    .dataframe tbody tr th:only-of-type {\n",
       "        vertical-align: middle;\n",
       "    }\n",
       "\n",
       "    .dataframe tbody tr th {\n",
       "        vertical-align: top;\n",
       "    }\n",
       "\n",
       "    .dataframe thead th {\n",
       "        text-align: right;\n",
       "    }\n",
       "</style>\n",
       "<table border=\"1\" class=\"dataframe\">\n",
       "  <thead>\n",
       "    <tr style=\"text-align: right;\">\n",
       "      <th></th>\n",
       "      <th>A</th>\n",
       "      <th>B</th>\n",
       "    </tr>\n",
       "  </thead>\n",
       "  <tbody>\n",
       "    <tr>\n",
       "      <th>0</th>\n",
       "      <td>4</td>\n",
       "      <td>16</td>\n",
       "    </tr>\n",
       "    <tr>\n",
       "      <th>1</th>\n",
       "      <td>5</td>\n",
       "      <td>25</td>\n",
       "    </tr>\n",
       "    <tr>\n",
       "      <th>2</th>\n",
       "      <td>6</td>\n",
       "      <td>36</td>\n",
       "    </tr>\n",
       "    <tr>\n",
       "      <th>3</th>\n",
       "      <td>1</td>\n",
       "      <td>1</td>\n",
       "    </tr>\n",
       "    <tr>\n",
       "      <th>4</th>\n",
       "      <td>2</td>\n",
       "      <td>4</td>\n",
       "    </tr>\n",
       "    <tr>\n",
       "      <th>5</th>\n",
       "      <td>3</td>\n",
       "      <td>9</td>\n",
       "    </tr>\n",
       "  </tbody>\n",
       "</table>\n",
       "</div>"
      ],
      "text/plain": [
       "   A   B\n",
       "0  4  16\n",
       "1  5  25\n",
       "2  6  36\n",
       "3  1   1\n",
       "4  2   4\n",
       "5  3   9"
      ]
     },
     "execution_count": 18,
     "metadata": {},
     "output_type": "execute_result"
    }
   ],
   "source": [
    "df_B.append(df_A, ignore_index=True, sort=True)"
   ]
  },
  {
   "cell_type": "markdown",
   "id": "0985b9ed",
   "metadata": {},
   "source": [
    "### Substituindo valores"
   ]
  },
  {
   "cell_type": "markdown",
   "id": "e568d83a",
   "metadata": {},
   "source": [
    "A Series nomes contém os nomes de alguns assuntos interessantes quando falamos sobre análise de dados:"
   ]
  },
  {
   "cell_type": "code",
   "execution_count": 19,
   "id": "56c292ec",
   "metadata": {},
   "outputs": [
    {
     "data": {
      "text/plain": [
       "0        Data Science\n",
       "1            Big Data\n",
       "2                  DS\n",
       "3    Machine Learning\n",
       "4                  ML\n",
       "dtype: object"
      ]
     },
     "execution_count": 19,
     "metadata": {},
     "output_type": "execute_result"
    }
   ],
   "source": [
    "nomes = pd.Series(['Data Science', 'Big Data', 'DS', 'Machine Learning', 'ML'])\n",
    "nomes"
   ]
  },
  {
   "cell_type": "markdown",
   "id": "a9c888de",
   "metadata": {},
   "source": [
    "Assinale os códigos que, com os métodos vistos, geram a Series abaixo:\n",
    "\n",
    "||0|\n",
    "|---|---|\n",
    "|0|\tData Science|\n",
    "|1|\tBig Data|\n",
    "|2|\tMachine Learning|\n",
    "\n",
    "Observe que 'DS' e 'ML' são siglas para 'Data Science' e 'Machine Learning', respectivamente."
   ]
  },
  {
   "cell_type": "code",
   "execution_count": 20,
   "id": "3797cc2c",
   "metadata": {},
   "outputs": [
    {
     "data": {
      "text/plain": [
       "0        Data Science\n",
       "1            Big Data\n",
       "2    Machine Learning\n",
       "dtype: object"
      ]
     },
     "execution_count": 20,
     "metadata": {},
     "output_type": "execute_result"
    }
   ],
   "source": [
    "pd.Series(nomes.replace({'DS': 'Data Science', 'ML': 'Machine Learning'}).unique())"
   ]
  },
  {
   "cell_type": "code",
   "execution_count": 21,
   "id": "c878f2f3",
   "metadata": {},
   "outputs": [
    {
     "data": {
      "text/plain": [
       "0        Data Science\n",
       "1            Big Data\n",
       "2    Machine Learning\n",
       "dtype: object"
      ]
     },
     "execution_count": 21,
     "metadata": {},
     "output_type": "execute_result"
    }
   ],
   "source": [
    "# outras possibilidades (colocadas como alternativas do exercício)\n",
    "pd.Series(nomes.replace(['DS', 'ML'], ['Data Science', 'Machine Learning']).unique())"
   ]
  },
  {
   "cell_type": "code",
   "execution_count": 22,
   "id": "77514c05",
   "metadata": {},
   "outputs": [
    {
     "data": {
      "text/plain": [
       "0        Data Science\n",
       "1            Big Data\n",
       "2    Machine Learning\n",
       "dtype: object"
      ]
     },
     "execution_count": 22,
     "metadata": {},
     "output_type": "execute_result"
    }
   ],
   "source": [
    "pd.Series(nomes.replace('DS', 'Data Science').replace('ML', 'Machine Learning').unique())"
   ]
  },
  {
   "cell_type": "markdown",
   "id": "2673228f",
   "metadata": {},
   "source": [
    "### Tipos de junção"
   ]
  },
  {
   "cell_type": "markdown",
   "id": "21b0610e",
   "metadata": {},
   "source": [
    "Utilize os DataFrames df_1 e df_2 para responder esta questão."
   ]
  },
  {
   "cell_type": "code",
   "execution_count": 23,
   "id": "d46bad39",
   "metadata": {},
   "outputs": [],
   "source": [
    "df_1 = pd.DataFrame([2, 4, 6, 8], index=['A', 'B', 'C', 'D'], columns=['pares'])\n",
    "df_2 = pd.DataFrame([1, 3, 5, 7], index=['C', 'D', 'E', 'F'], columns=['impares'])"
   ]
  },
  {
   "cell_type": "markdown",
   "id": "d36e8152",
   "metadata": {},
   "source": [
    "Utilizando como base o código abaixo, assinale a alternativa que apresenta a configuração correta do parâmetro how para obter como resultado os três DataFrames abaixo.\n",
    "\n",
    "```\n",
    "pd.merge(\n",
    "    left=df_1, \n",
    "    right=df_2,\n",
    "    left_index=True,\n",
    "    right_index=True,\n",
    "    how='????'\n",
    ")\n",
    "```\n",
    "\n",
    "||pares|\timpares|\n",
    "|---|---|---|\n",
    "|C|\t6|\t1|\n",
    "|D|\t8|\t3|"
   ]
  },
  {
   "cell_type": "code",
   "execution_count": 24,
   "id": "89ae4d2c",
   "metadata": {},
   "outputs": [
    {
     "data": {
      "text/html": [
       "<div>\n",
       "<style scoped>\n",
       "    .dataframe tbody tr th:only-of-type {\n",
       "        vertical-align: middle;\n",
       "    }\n",
       "\n",
       "    .dataframe tbody tr th {\n",
       "        vertical-align: top;\n",
       "    }\n",
       "\n",
       "    .dataframe thead th {\n",
       "        text-align: right;\n",
       "    }\n",
       "</style>\n",
       "<table border=\"1\" class=\"dataframe\">\n",
       "  <thead>\n",
       "    <tr style=\"text-align: right;\">\n",
       "      <th></th>\n",
       "      <th>pares</th>\n",
       "      <th>impares</th>\n",
       "    </tr>\n",
       "  </thead>\n",
       "  <tbody>\n",
       "    <tr>\n",
       "      <th>C</th>\n",
       "      <td>6</td>\n",
       "      <td>1</td>\n",
       "    </tr>\n",
       "    <tr>\n",
       "      <th>D</th>\n",
       "      <td>8</td>\n",
       "      <td>3</td>\n",
       "    </tr>\n",
       "  </tbody>\n",
       "</table>\n",
       "</div>"
      ],
      "text/plain": [
       "   pares  impares\n",
       "C      6        1\n",
       "D      8        3"
      ]
     },
     "execution_count": 24,
     "metadata": {},
     "output_type": "execute_result"
    }
   ],
   "source": [
    "pd.merge(\n",
    "    left=df_1, \n",
    "    right=df_2,\n",
    "    left_index=True,\n",
    "    right_index=True,\n",
    "    how='inner'\n",
    ")"
   ]
  },
  {
   "cell_type": "markdown",
   "id": "bd85d103",
   "metadata": {},
   "source": [
    "II)\n",
    "\n",
    "||pares|\timpares|\n",
    "|---|---|---|\n",
    "|A|\t2|\tnan|\n",
    "|B|\t4|\tnan|\n",
    "|C|\t6|\t1|\n",
    "|D|\t8|\t3|"
   ]
  },
  {
   "cell_type": "code",
   "execution_count": 25,
   "id": "082bdccf",
   "metadata": {},
   "outputs": [
    {
     "data": {
      "text/html": [
       "<div>\n",
       "<style scoped>\n",
       "    .dataframe tbody tr th:only-of-type {\n",
       "        vertical-align: middle;\n",
       "    }\n",
       "\n",
       "    .dataframe tbody tr th {\n",
       "        vertical-align: top;\n",
       "    }\n",
       "\n",
       "    .dataframe thead th {\n",
       "        text-align: right;\n",
       "    }\n",
       "</style>\n",
       "<table border=\"1\" class=\"dataframe\">\n",
       "  <thead>\n",
       "    <tr style=\"text-align: right;\">\n",
       "      <th></th>\n",
       "      <th>pares</th>\n",
       "      <th>impares</th>\n",
       "    </tr>\n",
       "  </thead>\n",
       "  <tbody>\n",
       "    <tr>\n",
       "      <th>A</th>\n",
       "      <td>2</td>\n",
       "      <td>NaN</td>\n",
       "    </tr>\n",
       "    <tr>\n",
       "      <th>B</th>\n",
       "      <td>4</td>\n",
       "      <td>NaN</td>\n",
       "    </tr>\n",
       "    <tr>\n",
       "      <th>C</th>\n",
       "      <td>6</td>\n",
       "      <td>1.0</td>\n",
       "    </tr>\n",
       "    <tr>\n",
       "      <th>D</th>\n",
       "      <td>8</td>\n",
       "      <td>3.0</td>\n",
       "    </tr>\n",
       "  </tbody>\n",
       "</table>\n",
       "</div>"
      ],
      "text/plain": [
       "   pares  impares\n",
       "A      2      NaN\n",
       "B      4      NaN\n",
       "C      6      1.0\n",
       "D      8      3.0"
      ]
     },
     "execution_count": 25,
     "metadata": {},
     "output_type": "execute_result"
    }
   ],
   "source": [
    "pd.merge(\n",
    "    left=df_1, \n",
    "    right=df_2,\n",
    "    left_index=True,\n",
    "    right_index=True,\n",
    "    how='left'\n",
    ")"
   ]
  },
  {
   "cell_type": "markdown",
   "id": "efc19a7f",
   "metadata": {},
   "source": [
    "III)\n",
    "\n",
    "||pares|\timpares|\n",
    "|---|---|---|\n",
    "|A|\t2|\tnan|\n",
    "|B|\t4|\tnan|\n",
    "|C|\t6|\t1|\n",
    "|D|\t8|\t3|\n",
    "|E|\tnan|\t5|\n",
    "|F|\tnan|\t7|"
   ]
  },
  {
   "cell_type": "code",
   "execution_count": 26,
   "id": "6df8fb58",
   "metadata": {},
   "outputs": [
    {
     "data": {
      "text/html": [
       "<div>\n",
       "<style scoped>\n",
       "    .dataframe tbody tr th:only-of-type {\n",
       "        vertical-align: middle;\n",
       "    }\n",
       "\n",
       "    .dataframe tbody tr th {\n",
       "        vertical-align: top;\n",
       "    }\n",
       "\n",
       "    .dataframe thead th {\n",
       "        text-align: right;\n",
       "    }\n",
       "</style>\n",
       "<table border=\"1\" class=\"dataframe\">\n",
       "  <thead>\n",
       "    <tr style=\"text-align: right;\">\n",
       "      <th></th>\n",
       "      <th>pares</th>\n",
       "      <th>impares</th>\n",
       "    </tr>\n",
       "  </thead>\n",
       "  <tbody>\n",
       "    <tr>\n",
       "      <th>A</th>\n",
       "      <td>2.0</td>\n",
       "      <td>NaN</td>\n",
       "    </tr>\n",
       "    <tr>\n",
       "      <th>B</th>\n",
       "      <td>4.0</td>\n",
       "      <td>NaN</td>\n",
       "    </tr>\n",
       "    <tr>\n",
       "      <th>C</th>\n",
       "      <td>6.0</td>\n",
       "      <td>1.0</td>\n",
       "    </tr>\n",
       "    <tr>\n",
       "      <th>D</th>\n",
       "      <td>8.0</td>\n",
       "      <td>3.0</td>\n",
       "    </tr>\n",
       "    <tr>\n",
       "      <th>E</th>\n",
       "      <td>NaN</td>\n",
       "      <td>5.0</td>\n",
       "    </tr>\n",
       "    <tr>\n",
       "      <th>F</th>\n",
       "      <td>NaN</td>\n",
       "      <td>7.0</td>\n",
       "    </tr>\n",
       "  </tbody>\n",
       "</table>\n",
       "</div>"
      ],
      "text/plain": [
       "   pares  impares\n",
       "A    2.0      NaN\n",
       "B    4.0      NaN\n",
       "C    6.0      1.0\n",
       "D    8.0      3.0\n",
       "E    NaN      5.0\n",
       "F    NaN      7.0"
      ]
     },
     "execution_count": 26,
     "metadata": {},
     "output_type": "execute_result"
    }
   ],
   "source": [
    "pd.merge(\n",
    "    left=df_1, \n",
    "    right=df_2,\n",
    "    left_index=True,\n",
    "    right_index=True,\n",
    "    how='outer'\n",
    ")"
   ]
  },
  {
   "cell_type": "markdown",
   "id": "bd5f3e7e",
   "metadata": {},
   "source": [
    "## Adicionando informações"
   ]
  },
  {
   "cell_type": "markdown",
   "id": "ce824ecc",
   "metadata": {},
   "source": [
    "### Desafio Regex"
   ]
  },
  {
   "cell_type": "markdown",
   "id": "c37fc455",
   "metadata": {},
   "source": [
    "Vimos como extrair informações de dados no formato *string* com o uso do método `extractall` e expressões regulares simples.\n",
    "\n",
    "Expressões regulares são *strings* que descrevem um padrão de pesquisa que pode ser utilizado para combinar ou substituir padrões dentro de uma *string* com uma quantidade mínima de esforço. Podem ser utilizadas em tarefas de procura, substituição, validação e filtragem de *strings*.\n",
    "\n",
    "Usamos a seguinte expressão para extrair de um conjunto de strings os seus valores numéricos: `(\\d+)`\n",
    "\n",
    "Os parênteses (`()`) são utilizados para definir um grupo dentro da expressão, o (`\\d`) indica que procuramos por dígitos numéricos de 0 a 9 e o sinal de mais (`+`) significa \"corresponder a um ou mais\" da expressão anterior a ele. Mas imagine que agora estamos procurando por números de CEP ou números telefônicos dentro de sequências de texto. Considere a seguinte Series com informações de um grupo de pessoas:"
   ]
  },
  {
   "cell_type": "code",
   "execution_count": 27,
   "id": "b62bd7a0",
   "metadata": {},
   "outputs": [],
   "source": [
    "pessoas = pd.Series([\n",
    "    'Nome: Mariana Sousa | End.: Rua Damasco, 1978 Japeri-RJ 26.473-790 | Tel.: (21) 99131-8473',\n",
    "    'Nome: Aline Cardoso | End.: Rua Paschoal Marmirolli, 577 Sumaré-SP 13.171-700 | Tel.: (19) 8577-4777',\n",
    "    'Nome: Vitór Fernandes | Tel.: (21) 5923-5723 | End.: Rua Bernardo Franco, 1520 São Gonçalo-RJ 24.470-190',\n",
    "    'Nome: Victor Sousa | Tel.: (11) 98618-2626 | End.: Rua Santa Terezinha, 27 Suzano-SP 08.694-410',\n",
    "    'Nome: Vitória Dias | Tel.: (19) 97632-5829 | End.: Rua 4 JA, 500 Rio Claro-SP 13.506-010',\n",
    "    'Nome: Douglas Santos | Tel.: (11) 4890-8192 | End.: Rua Alcides Teodoro Santos, 1268 São Paulo-SP 05.762-010',\n",
    "    'Nome: Kauan Pinto | Tel.: (14) 6752-6858 | End.: Rua Amélia Volta Laplechade, 1334 Marília-SP 17.511-801',\n",
    "    'Nome: Miguel Silva | End.: Rua Severina Ferreira, 1408 João Pessoa-PB 58.034-160 | Tel.: (83) 7077-6476',\n",
    "    'Nome: Luis Castro | Tel.: (31) 97711-4493 | End.: Rua São Bento, 969 Ribeirão das Neves-MG 33.930-290',\n",
    "    'Nome: Thiago Almeida | Tel.: (18) 2031-3622 | End.: Rua Liberdade, 669 Araçatuba-SP 16.015-425'\n",
    "])"
   ]
  },
  {
   "cell_type": "markdown",
   "id": "e8682f98",
   "metadata": {},
   "source": [
    "Note que cada registro da *Series* `pessoas` contém uma *string* com as informações de nome, telefone e endereço das pessoas, e que estas informações não se encontram sempre nesta ordem, exceto pela informação sobre o nome.\n",
    "\n",
    "Observe que na informação sobre o endereço de cada pessoa temos o CEP que vem no seguinte formato: `XX.XXX-XXX`. Vamos construir uma expressão regular para extrair essa informação das strings da Series `pessoas`."
   ]
  },
  {
   "cell_type": "code",
   "execution_count": 28,
   "id": "46257bdc",
   "metadata": {},
   "outputs": [
    {
     "data": {
      "text/html": [
       "<div>\n",
       "<style scoped>\n",
       "    .dataframe tbody tr th:only-of-type {\n",
       "        vertical-align: middle;\n",
       "    }\n",
       "\n",
       "    .dataframe tbody tr th {\n",
       "        vertical-align: top;\n",
       "    }\n",
       "\n",
       "    .dataframe thead th {\n",
       "        text-align: right;\n",
       "    }\n",
       "</style>\n",
       "<table border=\"1\" class=\"dataframe\">\n",
       "  <thead>\n",
       "    <tr style=\"text-align: right;\">\n",
       "      <th></th>\n",
       "      <th></th>\n",
       "      <th>0</th>\n",
       "    </tr>\n",
       "    <tr>\n",
       "      <th></th>\n",
       "      <th>match</th>\n",
       "      <th></th>\n",
       "    </tr>\n",
       "  </thead>\n",
       "  <tbody>\n",
       "    <tr>\n",
       "      <th>0</th>\n",
       "      <th>0</th>\n",
       "      <td>26.473-790</td>\n",
       "    </tr>\n",
       "    <tr>\n",
       "      <th>1</th>\n",
       "      <th>0</th>\n",
       "      <td>13.171-700</td>\n",
       "    </tr>\n",
       "    <tr>\n",
       "      <th>2</th>\n",
       "      <th>0</th>\n",
       "      <td>24.470-190</td>\n",
       "    </tr>\n",
       "    <tr>\n",
       "      <th>3</th>\n",
       "      <th>0</th>\n",
       "      <td>08.694-410</td>\n",
       "    </tr>\n",
       "    <tr>\n",
       "      <th>4</th>\n",
       "      <th>0</th>\n",
       "      <td>13.506-010</td>\n",
       "    </tr>\n",
       "    <tr>\n",
       "      <th>5</th>\n",
       "      <th>0</th>\n",
       "      <td>05.762-010</td>\n",
       "    </tr>\n",
       "    <tr>\n",
       "      <th>6</th>\n",
       "      <th>0</th>\n",
       "      <td>17.511-801</td>\n",
       "    </tr>\n",
       "    <tr>\n",
       "      <th>7</th>\n",
       "      <th>0</th>\n",
       "      <td>58.034-160</td>\n",
       "    </tr>\n",
       "    <tr>\n",
       "      <th>8</th>\n",
       "      <th>0</th>\n",
       "      <td>33.930-290</td>\n",
       "    </tr>\n",
       "    <tr>\n",
       "      <th>9</th>\n",
       "      <th>0</th>\n",
       "      <td>16.015-425</td>\n",
       "    </tr>\n",
       "  </tbody>\n",
       "</table>\n",
       "</div>"
      ],
      "text/plain": [
       "                  0\n",
       "  match            \n",
       "0 0      26.473-790\n",
       "1 0      13.171-700\n",
       "2 0      24.470-190\n",
       "3 0      08.694-410\n",
       "4 0      13.506-010\n",
       "5 0      05.762-010\n",
       "6 0      17.511-801\n",
       "7 0      58.034-160\n",
       "8 0      33.930-290\n",
       "9 0      16.015-425"
      ]
     },
     "execution_count": 28,
     "metadata": {},
     "output_type": "execute_result"
    }
   ],
   "source": [
    "pessoas.str.extractall('(\\d{2}.\\d{3}-\\d{3})')"
   ]
  },
  {
   "cell_type": "markdown",
   "id": "51c4ce59",
   "metadata": {},
   "source": [
    "Veja que você também pode especificar o número exato de correspondências com o uso de números dentro da chaves:\n",
    "\n",
    " * `{n}`: exatamente n ocorrências\n",
    " * `{n,}`: n ou mais ocorrências\n",
    " * `{,m}`: no máximo m ocorrências\n",
    " * `{n,m}`: entre n e m ocorrências\n",
    "\n",
    "No código anterior, `\\d{2}` indica que naquela posição devemos ter exatamente dois dígitos numéricos.\n",
    "\n",
    "Outro ponto que deve ser observado quando criamos uma expressão regular é que quando precisamos especificar caracteres dentro de uma string que já são utilizados como operadores dentro de uma expressão regular, como por exemplo os parênteses, precisamos utilizar o caractere de escape (`\\`) antes para denotar que o respectivo caractere não se trata de um operador da expressão e sim um caractere que desejamos extrair da *string*.\n",
    "\n",
    "Muito bem, hora de colocar a mão na massa. Observe que as *strings* da *Series* `pessoas` também apresentam as informações de números de telefones. Crie uma expressão regular para extrair estes números. Note que alguns números têm tamanhos diferentes (celulares e fixos).\n",
    "\n",
    "Assinale a resposta com o código correto.\n",
    "\n",
    "Dica: Em expressões regulares, \\s representa espaço em branco."
   ]
  },
  {
   "cell_type": "code",
   "execution_count": 30,
   "id": "23b14754",
   "metadata": {},
   "outputs": [
    {
     "data": {
      "text/html": [
       "<div>\n",
       "<style scoped>\n",
       "    .dataframe tbody tr th:only-of-type {\n",
       "        vertical-align: middle;\n",
       "    }\n",
       "\n",
       "    .dataframe tbody tr th {\n",
       "        vertical-align: top;\n",
       "    }\n",
       "\n",
       "    .dataframe thead th {\n",
       "        text-align: right;\n",
       "    }\n",
       "</style>\n",
       "<table border=\"1\" class=\"dataframe\">\n",
       "  <thead>\n",
       "    <tr style=\"text-align: right;\">\n",
       "      <th></th>\n",
       "      <th></th>\n",
       "      <th>0</th>\n",
       "    </tr>\n",
       "    <tr>\n",
       "      <th></th>\n",
       "      <th>match</th>\n",
       "      <th></th>\n",
       "    </tr>\n",
       "  </thead>\n",
       "  <tbody>\n",
       "    <tr>\n",
       "      <th>0</th>\n",
       "      <th>0</th>\n",
       "      <td>(21) 99131-8473</td>\n",
       "    </tr>\n",
       "    <tr>\n",
       "      <th>1</th>\n",
       "      <th>0</th>\n",
       "      <td>(19) 8577-4777</td>\n",
       "    </tr>\n",
       "    <tr>\n",
       "      <th>2</th>\n",
       "      <th>0</th>\n",
       "      <td>(21) 5923-5723</td>\n",
       "    </tr>\n",
       "    <tr>\n",
       "      <th>3</th>\n",
       "      <th>0</th>\n",
       "      <td>(11) 98618-2626</td>\n",
       "    </tr>\n",
       "    <tr>\n",
       "      <th>4</th>\n",
       "      <th>0</th>\n",
       "      <td>(19) 97632-5829</td>\n",
       "    </tr>\n",
       "    <tr>\n",
       "      <th>5</th>\n",
       "      <th>0</th>\n",
       "      <td>(11) 4890-8192</td>\n",
       "    </tr>\n",
       "    <tr>\n",
       "      <th>6</th>\n",
       "      <th>0</th>\n",
       "      <td>(14) 6752-6858</td>\n",
       "    </tr>\n",
       "    <tr>\n",
       "      <th>7</th>\n",
       "      <th>0</th>\n",
       "      <td>(83) 7077-6476</td>\n",
       "    </tr>\n",
       "    <tr>\n",
       "      <th>8</th>\n",
       "      <th>0</th>\n",
       "      <td>(31) 97711-4493</td>\n",
       "    </tr>\n",
       "    <tr>\n",
       "      <th>9</th>\n",
       "      <th>0</th>\n",
       "      <td>(18) 2031-3622</td>\n",
       "    </tr>\n",
       "  </tbody>\n",
       "</table>\n",
       "</div>"
      ],
      "text/plain": [
       "                       0\n",
       "  match                 \n",
       "0 0      (21) 99131-8473\n",
       "1 0       (19) 8577-4777\n",
       "2 0       (21) 5923-5723\n",
       "3 0      (11) 98618-2626\n",
       "4 0      (19) 97632-5829\n",
       "5 0       (11) 4890-8192\n",
       "6 0       (14) 6752-6858\n",
       "7 0       (83) 7077-6476\n",
       "8 0      (31) 97711-4493\n",
       "9 0       (18) 2031-3622"
      ]
     },
     "execution_count": 30,
     "metadata": {},
     "output_type": "execute_result"
    }
   ],
   "source": [
    "numeros = pessoas.str.extractall('(\\(\\d{2}\\)\\s\\d{4,5}\\-\\d{4})')\n",
    "numeros"
   ]
  },
  {
   "cell_type": "code",
   "execution_count": 56,
   "id": "98ad4964",
   "metadata": {},
   "outputs": [
    {
     "data": {
      "text/html": [
       "<div>\n",
       "<style scoped>\n",
       "    .dataframe tbody tr th:only-of-type {\n",
       "        vertical-align: middle;\n",
       "    }\n",
       "\n",
       "    .dataframe tbody tr th {\n",
       "        vertical-align: top;\n",
       "    }\n",
       "\n",
       "    .dataframe thead th {\n",
       "        text-align: right;\n",
       "    }\n",
       "</style>\n",
       "<table border=\"1\" class=\"dataframe\">\n",
       "  <thead>\n",
       "    <tr style=\"text-align: right;\">\n",
       "      <th></th>\n",
       "      <th></th>\n",
       "      <th>0</th>\n",
       "    </tr>\n",
       "    <tr>\n",
       "      <th></th>\n",
       "      <th>match</th>\n",
       "      <th></th>\n",
       "    </tr>\n",
       "  </thead>\n",
       "  <tbody>\n",
       "    <tr>\n",
       "      <th>0</th>\n",
       "      <th>0</th>\n",
       "      <td>Rua Damasco, 1978 Japeri-RJ</td>\n",
       "    </tr>\n",
       "    <tr>\n",
       "      <th>1</th>\n",
       "      <th>0</th>\n",
       "      <td>Rua Paschoal Marmirolli, 577 Sumaré-SP</td>\n",
       "    </tr>\n",
       "    <tr>\n",
       "      <th>2</th>\n",
       "      <th>0</th>\n",
       "      <td>Rua Bernardo Franco, 1520 São Gonçalo-RJ</td>\n",
       "    </tr>\n",
       "    <tr>\n",
       "      <th>3</th>\n",
       "      <th>0</th>\n",
       "      <td>Rua Santa Terezinha, 27 Suzano-SP</td>\n",
       "    </tr>\n",
       "    <tr>\n",
       "      <th>4</th>\n",
       "      <th>0</th>\n",
       "      <td>Rua 4 JA, 500 Rio Claro-SP</td>\n",
       "    </tr>\n",
       "    <tr>\n",
       "      <th>5</th>\n",
       "      <th>0</th>\n",
       "      <td>Rua Alcides Teodoro Santos, 1268 São Paulo-SP</td>\n",
       "    </tr>\n",
       "    <tr>\n",
       "      <th>6</th>\n",
       "      <th>0</th>\n",
       "      <td>Rua Amélia Volta Laplechade, 1334 Marília-SP</td>\n",
       "    </tr>\n",
       "    <tr>\n",
       "      <th>7</th>\n",
       "      <th>0</th>\n",
       "      <td>Rua Severina Ferreira, 1408 João Pessoa-PB</td>\n",
       "    </tr>\n",
       "    <tr>\n",
       "      <th>8</th>\n",
       "      <th>0</th>\n",
       "      <td>Rua São Bento, 969 Ribeirão das Neves-MG</td>\n",
       "    </tr>\n",
       "    <tr>\n",
       "      <th>9</th>\n",
       "      <th>0</th>\n",
       "      <td>Rua Liberdade, 669 Araçatuba-SP</td>\n",
       "    </tr>\n",
       "  </tbody>\n",
       "</table>\n",
       "</div>"
      ],
      "text/plain": [
       "                                                      0\n",
       "  match                                                \n",
       "0 0                         Rua Damasco, 1978 Japeri-RJ\n",
       "1 0              Rua Paschoal Marmirolli, 577 Sumaré-SP\n",
       "2 0            Rua Bernardo Franco, 1520 São Gonçalo-RJ\n",
       "3 0                   Rua Santa Terezinha, 27 Suzano-SP\n",
       "4 0                          Rua 4 JA, 500 Rio Claro-SP\n",
       "5 0       Rua Alcides Teodoro Santos, 1268 São Paulo-SP\n",
       "6 0        Rua Amélia Volta Laplechade, 1334 Marília-SP\n",
       "7 0          Rua Severina Ferreira, 1408 João Pessoa-PB\n",
       "8 0            Rua São Bento, 969 Ribeirão das Neves-MG\n",
       "9 0                     Rua Liberdade, 669 Araçatuba-SP"
      ]
     },
     "execution_count": 56,
     "metadata": {},
     "output_type": "execute_result"
    }
   ],
   "source": [
    "enderecos = pessoas.str.extractall('([\\w+\\s]*\\,\\s\\d{,9}\\s[\\w+\\s]*\\-\\w{2})')\n",
    "enderecos"
   ]
  },
  {
   "cell_type": "markdown",
   "id": "21ccfb9c",
   "metadata": {},
   "source": [
    "### Mais alguns métodos de strings"
   ]
  },
  {
   "cell_type": "markdown",
   "id": "dc33a066",
   "metadata": {},
   "source": [
    "Junto com o atributo `str` de um *Series* também é possível utilizar outros métodos de tratamento de strings bastante úteis em projetos de *data science*.\n",
    "\n",
    "Os métodos `upper` e `lower` são bons exemplos de métodos úteis durante procedimentos de comparação envolvendo strings. O método `upper` converte todos os caracteres de uma *string* para maiúsculo e o método `lower` faz o contrário.\n",
    "\n",
    "Outro método bastante útil é o `contains`. Com este método podemos testar se determinado trecho de texto está contido em uma *string* dentro de uma *Series*. No método `contains` também podemos utilizar expressões regulares (`default`) e também passar apenas trechos de texto, bastando para isso configurar o parâmetro `regex` como `False`.\n",
    "\n",
    "Feitas estas considerações, considere a Series anuncios abaixo para responder a questão:"
   ]
  },
  {
   "cell_type": "code",
   "execution_count": 57,
   "id": "fa1f164f",
   "metadata": {},
   "outputs": [],
   "source": [
    "anuncios = pd.Series([\n",
    "    \"Amplo apartamento com vista para o mar, piscina, sauna e 2 vagas de garagem. CEP 22790-735\",\n",
    "    \"Ótima oportunidade no Leblon! Casa de condomínio com 800m² próximo a praia.\",\n",
    "    \"Sala e quarto em Copacabana. Próximo ao metrô.\",\n",
    "    \"Venha morar na melhor localização do Rio de Janeiro. Piscina, academia e toda estrutura de lazer.\",\n",
    "    \"Sala comercial no Centro da cidade. 23456-021\",\n",
    "    \"Venha conhecer o melhor de Ipanema. A duas quadras da praia. Conheça o apartamento mobiliado.\",\n",
    "    \"Melhor localização da Barra. Condomínio com piscina, academia, espaço gourmet e muito mais.\",\n",
    "    \"Vende-se terreno em Pedra de Guaratiba. Tratar direto com o proprietário.\",\n",
    "    \"Apartamento de alto padrão na Lagoa. Vista pro mar e sol da manhã.\",\n",
    "    \"Passo o ponto de loja no centro da cidade (Saara). Ligar para (21) 1234-5678 e falar com Juca.\"\n",
    "])"
   ]
  },
  {
   "cell_type": "markdown",
   "id": "d5ae0e02",
   "metadata": {},
   "source": [
    "Utilizando as informações acima, marque as opções que apresentam os códigos capazes de identificar os três registros que contêm a palavra piscina."
   ]
  },
  {
   "cell_type": "code",
   "execution_count": 61,
   "id": "d9bc802c",
   "metadata": {},
   "outputs": [
    {
     "data": {
      "text/plain": [
       "0    Amplo apartamento com vista para o mar, piscin...\n",
       "3    Venha morar na melhor localização do Rio de Ja...\n",
       "6    Melhor localização da Barra. Condomínio com pi...\n",
       "dtype: object"
      ]
     },
     "execution_count": 61,
     "metadata": {},
     "output_type": "execute_result"
    }
   ],
   "source": [
    "anuncios[anuncios.str.contains('[p|P]iscina')]"
   ]
  },
  {
   "cell_type": "markdown",
   "id": "c48b137f",
   "metadata": {},
   "source": [
    "### Classificando alunos"
   ]
  },
  {
   "cell_type": "markdown",
   "id": "3419f46b",
   "metadata": {},
   "source": [
    "O método cut, que conhecemos no último vídeo, é bastante útil na hora de criar classes a partir de dados numéricos. Para este exercício veja o DataFrame df abaixo:"
   ]
  },
  {
   "cell_type": "code",
   "execution_count": 62,
   "id": "84c2dea6",
   "metadata": {},
   "outputs": [],
   "source": [
    "df = pd.DataFrame(\n",
    "    {\n",
    "        'alunos': ['Juca', 'Zeca', 'Ana', 'Rita', 'Lia', 'Beto'],\n",
    "        'notas': [8, 6.5, 10, 7, 6, 0]\n",
    "    }\n",
    ").set_index('alunos')"
   ]
  },
  {
   "cell_type": "markdown",
   "id": "5fb47f09",
   "metadata": {},
   "source": [
    "Este DataFrame tem as informações de notas finais de um conjunto de alunos. Utilizando o método cut crie uma coluna no DataFrame df que classifique estes alunos da seguinte maneira:\n",
    "\n",
    "|notas|\tresultado|\n",
    "|---|---|\n",
    "|De 0 até 5.9|\tReprovado|\n",
    "|De 6 até 6.9\t|Recuperação|\n",
    "|De 7 até 10\t|Aprovado|\n",
    "\n",
    "Considere apenas uma casa decimal para as notas.\n",
    "\n",
    "Marque a alternativa que apresenta o código correto."
   ]
  },
  {
   "cell_type": "code",
   "execution_count": 65,
   "id": "21d0e32c",
   "metadata": {},
   "outputs": [
    {
     "data": {
      "text/html": [
       "<div>\n",
       "<style scoped>\n",
       "    .dataframe tbody tr th:only-of-type {\n",
       "        vertical-align: middle;\n",
       "    }\n",
       "\n",
       "    .dataframe tbody tr th {\n",
       "        vertical-align: top;\n",
       "    }\n",
       "\n",
       "    .dataframe thead th {\n",
       "        text-align: right;\n",
       "    }\n",
       "</style>\n",
       "<table border=\"1\" class=\"dataframe\">\n",
       "  <thead>\n",
       "    <tr style=\"text-align: right;\">\n",
       "      <th></th>\n",
       "      <th>notas</th>\n",
       "      <th>resultado</th>\n",
       "    </tr>\n",
       "    <tr>\n",
       "      <th>alunos</th>\n",
       "      <th></th>\n",
       "      <th></th>\n",
       "    </tr>\n",
       "  </thead>\n",
       "  <tbody>\n",
       "    <tr>\n",
       "      <th>Juca</th>\n",
       "      <td>8.0</td>\n",
       "      <td>Aprovado</td>\n",
       "    </tr>\n",
       "    <tr>\n",
       "      <th>Zeca</th>\n",
       "      <td>6.5</td>\n",
       "      <td>Recuperação</td>\n",
       "    </tr>\n",
       "    <tr>\n",
       "      <th>Ana</th>\n",
       "      <td>10.0</td>\n",
       "      <td>Aprovado</td>\n",
       "    </tr>\n",
       "    <tr>\n",
       "      <th>Rita</th>\n",
       "      <td>7.0</td>\n",
       "      <td>Aprovado</td>\n",
       "    </tr>\n",
       "    <tr>\n",
       "      <th>Lia</th>\n",
       "      <td>6.0</td>\n",
       "      <td>Recuperação</td>\n",
       "    </tr>\n",
       "    <tr>\n",
       "      <th>Beto</th>\n",
       "      <td>0.0</td>\n",
       "      <td>Reprovado</td>\n",
       "    </tr>\n",
       "  </tbody>\n",
       "</table>\n",
       "</div>"
      ],
      "text/plain": [
       "        notas    resultado\n",
       "alunos                    \n",
       "Juca      8.0     Aprovado\n",
       "Zeca      6.5  Recuperação\n",
       "Ana      10.0     Aprovado\n",
       "Rita      7.0     Aprovado\n",
       "Lia       6.0  Recuperação\n",
       "Beto      0.0    Reprovado"
      ]
     },
     "execution_count": 65,
     "metadata": {},
     "output_type": "execute_result"
    }
   ],
   "source": [
    "classes = [0, 5.9, 6.9, 10]\n",
    "rotulos = ['Reprovado', 'Recuperação', 'Aprovado']\n",
    "\n",
    "df['resultado'] = pd.cut(x = df['notas'], bins = classes, labels = rotulos, include_lowest = True)\n",
    "df"
   ]
  },
  {
   "cell_type": "code",
   "execution_count": null,
   "id": "752e5e54",
   "metadata": {},
   "outputs": [],
   "source": []
  }
 ],
 "metadata": {
  "kernelspec": {
   "display_name": "Python 3 (ipykernel)",
   "language": "python",
   "name": "python3"
  },
  "language_info": {
   "codemirror_mode": {
    "name": "ipython",
    "version": 3
   },
   "file_extension": ".py",
   "mimetype": "text/x-python",
   "name": "python",
   "nbconvert_exporter": "python",
   "pygments_lexer": "ipython3",
   "version": "3.9.12"
  }
 },
 "nbformat": 4,
 "nbformat_minor": 5
}
