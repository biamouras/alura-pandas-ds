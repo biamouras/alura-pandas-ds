{
 "cells": [
  {
   "cell_type": "markdown",
   "id": "ca3ade5b",
   "metadata": {},
   "source": [
    "# Exercícios do curso de Pandas avançado"
   ]
  },
  {
   "cell_type": "markdown",
   "id": "88cd108a",
   "metadata": {},
   "source": [
    "## Começando o trabalho"
   ]
  },
  {
   "cell_type": "markdown",
   "id": "3c8a261a",
   "metadata": {},
   "source": [
    "### Carregando arquivos JSON"
   ]
  },
  {
   "cell_type": "markdown",
   "id": "1d96e31c",
   "metadata": {},
   "source": [
    "Em uma base de dados que relaciona o nome da pessoa e seus dados referentes à idade, peso e altura, considere a variável data_json abaixo:"
   ]
  },
  {
   "cell_type": "code",
   "execution_count": 4,
   "id": "024b3015",
   "metadata": {},
   "outputs": [],
   "source": [
    "import pandas as pd\n",
    "data_json = '{\"Rita\": {\"Idade\": 24, \"Peso\": 62, \"Altura\": 1.65}, \"Zeca\": {\"Idade\": 32, \"Peso\": 80, \"Altura\": 1.82}}'"
   ]
  },
  {
   "cell_type": "markdown",
   "id": "2ffbbb47",
   "metadata": {},
   "source": [
    "Indique a opção que mostra os códigos que produzem os seguintes resultados:\n",
    "    \n",
    "**Tabela A**\n",
    "\n",
    "| | Idade | Peso | Altura |\n",
    "|---|---|---|---|\n",
    "|Rita | 24 | 62 | 1.65 |\n",
    "|Zeca | 32 | 80 | 1.82 |\n",
    "\n",
    "**Tabela B**\n",
    "\n",
    "|\t|Rita|\tZeca|\n",
    "|---|---|---|\n",
    "|Idade|\t24|\t32|\n",
    "|Peso\t|62|\t80|\n",
    "|Altura\t|1.65|\t1.82|"
   ]
  },
  {
   "cell_type": "code",
   "execution_count": 5,
   "id": "da0ab3e2",
   "metadata": {},
   "outputs": [
    {
     "data": {
      "text/html": [
       "<div>\n",
       "<style scoped>\n",
       "    .dataframe tbody tr th:only-of-type {\n",
       "        vertical-align: middle;\n",
       "    }\n",
       "\n",
       "    .dataframe tbody tr th {\n",
       "        vertical-align: top;\n",
       "    }\n",
       "\n",
       "    .dataframe thead th {\n",
       "        text-align: right;\n",
       "    }\n",
       "</style>\n",
       "<table border=\"1\" class=\"dataframe\">\n",
       "  <thead>\n",
       "    <tr style=\"text-align: right;\">\n",
       "      <th></th>\n",
       "      <th>Idade</th>\n",
       "      <th>Peso</th>\n",
       "      <th>Altura</th>\n",
       "    </tr>\n",
       "  </thead>\n",
       "  <tbody>\n",
       "    <tr>\n",
       "      <th>Rita</th>\n",
       "      <td>24</td>\n",
       "      <td>62</td>\n",
       "      <td>1.65</td>\n",
       "    </tr>\n",
       "    <tr>\n",
       "      <th>Zeca</th>\n",
       "      <td>32</td>\n",
       "      <td>80</td>\n",
       "      <td>1.82</td>\n",
       "    </tr>\n",
       "  </tbody>\n",
       "</table>\n",
       "</div>"
      ],
      "text/plain": [
       "      Idade  Peso  Altura\n",
       "Rita     24    62    1.65\n",
       "Zeca     32    80    1.82"
      ]
     },
     "execution_count": 5,
     "metadata": {},
     "output_type": "execute_result"
    }
   ],
   "source": [
    "dados = pd.read_json(\n",
    "    path_or_buf = data_json,\n",
    "    orient = 'index'\n",
    ")\n",
    "dados"
   ]
  },
  {
   "cell_type": "code",
   "execution_count": 7,
   "id": "cdb2b8c1",
   "metadata": {},
   "outputs": [
    {
     "data": {
      "text/html": [
       "<div>\n",
       "<style scoped>\n",
       "    .dataframe tbody tr th:only-of-type {\n",
       "        vertical-align: middle;\n",
       "    }\n",
       "\n",
       "    .dataframe tbody tr th {\n",
       "        vertical-align: top;\n",
       "    }\n",
       "\n",
       "    .dataframe thead th {\n",
       "        text-align: right;\n",
       "    }\n",
       "</style>\n",
       "<table border=\"1\" class=\"dataframe\">\n",
       "  <thead>\n",
       "    <tr style=\"text-align: right;\">\n",
       "      <th></th>\n",
       "      <th>Rita</th>\n",
       "      <th>Zeca</th>\n",
       "    </tr>\n",
       "  </thead>\n",
       "  <tbody>\n",
       "    <tr>\n",
       "      <th>Idade</th>\n",
       "      <td>24.00</td>\n",
       "      <td>32.00</td>\n",
       "    </tr>\n",
       "    <tr>\n",
       "      <th>Peso</th>\n",
       "      <td>62.00</td>\n",
       "      <td>80.00</td>\n",
       "    </tr>\n",
       "    <tr>\n",
       "      <th>Altura</th>\n",
       "      <td>1.65</td>\n",
       "      <td>1.82</td>\n",
       "    </tr>\n",
       "  </tbody>\n",
       "</table>\n",
       "</div>"
      ],
      "text/plain": [
       "         Rita   Zeca\n",
       "Idade   24.00  32.00\n",
       "Peso    62.00  80.00\n",
       "Altura   1.65   1.82"
      ]
     },
     "execution_count": 7,
     "metadata": {},
     "output_type": "execute_result"
    }
   ],
   "source": [
    "dados = pd.read_json(\n",
    "    path_or_buf = data_json\n",
    ")\n",
    "dados"
   ]
  },
  {
   "cell_type": "markdown",
   "id": "e522f56d",
   "metadata": {},
   "source": [
    "### Carregando arquivos Excel"
   ]
  },
  {
   "cell_type": "markdown",
   "id": "8e2f286c",
   "metadata": {},
   "source": [
    "No arquivo Excel (XLSX) disponibilizado (bairros.xlsx) temos duas planilhas. Na planilha “Residencial X Comercial”, temos os valores do m2 para imóveis comerciais e residenciais nos bairros da cidade do Rio de Janeiro. Temos também a divisão regional das informações por zonas da cidade.\n",
    "\n",
    "Utilizando esta planilha e o método `read_excel()` do pandas obtenha o seguinte DataFrame:\n",
    "\n",
    "|Zonas\t|Bairros|\tResidencial|\tComercial|\n",
    "|---|---|---|---|\n",
    "|Sul\t|Botafogo\t|14002\t|7972|\n",
    "||Catete\t|15232|\t6259|\n",
    "||Copacabana\t|23318|\t9355|\n",
    "|... |...|...|...|\n",
    "\n",
    "Observe que foram selecionadas apenas as linhas dos bairros pertencentes à zona sul da cidade.\n",
    "\n",
    "Marque a opção que apresenta o código necessário para criar o DataFrame acima."
   ]
  },
  {
   "cell_type": "code",
   "execution_count": 15,
   "id": "63eba223",
   "metadata": {},
   "outputs": [
    {
     "data": {
      "text/html": [
       "<div>\n",
       "<style scoped>\n",
       "    .dataframe tbody tr th:only-of-type {\n",
       "        vertical-align: middle;\n",
       "    }\n",
       "\n",
       "    .dataframe tbody tr th {\n",
       "        vertical-align: top;\n",
       "    }\n",
       "\n",
       "    .dataframe thead th {\n",
       "        text-align: right;\n",
       "    }\n",
       "</style>\n",
       "<table border=\"1\" class=\"dataframe\">\n",
       "  <thead>\n",
       "    <tr style=\"text-align: right;\">\n",
       "      <th></th>\n",
       "      <th></th>\n",
       "      <th>Residencial</th>\n",
       "      <th>Comercial</th>\n",
       "    </tr>\n",
       "    <tr>\n",
       "      <th>Zonas</th>\n",
       "      <th>Bairros</th>\n",
       "      <th></th>\n",
       "      <th></th>\n",
       "    </tr>\n",
       "  </thead>\n",
       "  <tbody>\n",
       "    <tr>\n",
       "      <th rowspan=\"17\" valign=\"top\">Sul</th>\n",
       "      <th>Botafogo</th>\n",
       "      <td>14002</td>\n",
       "      <td>7972</td>\n",
       "    </tr>\n",
       "    <tr>\n",
       "      <th>Catete</th>\n",
       "      <td>15232</td>\n",
       "      <td>6259</td>\n",
       "    </tr>\n",
       "    <tr>\n",
       "      <th>Copacabana</th>\n",
       "      <td>23318</td>\n",
       "      <td>9355</td>\n",
       "    </tr>\n",
       "    <tr>\n",
       "      <th>Cosme Velho</th>\n",
       "      <td>10320</td>\n",
       "      <td>8177</td>\n",
       "    </tr>\n",
       "    <tr>\n",
       "      <th>Flamengo</th>\n",
       "      <td>19636</td>\n",
       "      <td>7135</td>\n",
       "    </tr>\n",
       "    <tr>\n",
       "      <th>Gávea</th>\n",
       "      <td>13506</td>\n",
       "      <td>8211</td>\n",
       "    </tr>\n",
       "    <tr>\n",
       "      <th>Humaitá</th>\n",
       "      <td>10603</td>\n",
       "      <td>5039</td>\n",
       "    </tr>\n",
       "    <tr>\n",
       "      <th>Ipanema</th>\n",
       "      <td>15965</td>\n",
       "      <td>7293</td>\n",
       "    </tr>\n",
       "    <tr>\n",
       "      <th>Jardim Botânico</th>\n",
       "      <td>17243</td>\n",
       "      <td>8095</td>\n",
       "    </tr>\n",
       "    <tr>\n",
       "      <th>Lagoa</th>\n",
       "      <td>24982</td>\n",
       "      <td>6584</td>\n",
       "    </tr>\n",
       "    <tr>\n",
       "      <th>Laranjeiras</th>\n",
       "      <td>17307</td>\n",
       "      <td>7745</td>\n",
       "    </tr>\n",
       "    <tr>\n",
       "      <th>Leblon</th>\n",
       "      <td>13815</td>\n",
       "      <td>8125</td>\n",
       "    </tr>\n",
       "    <tr>\n",
       "      <th>Leme</th>\n",
       "      <td>15815</td>\n",
       "      <td>8587</td>\n",
       "    </tr>\n",
       "    <tr>\n",
       "      <th>Rocinha</th>\n",
       "      <td>15110</td>\n",
       "      <td>9023</td>\n",
       "    </tr>\n",
       "    <tr>\n",
       "      <th>São Conrado</th>\n",
       "      <td>20727</td>\n",
       "      <td>9587</td>\n",
       "    </tr>\n",
       "    <tr>\n",
       "      <th>Urca</th>\n",
       "      <td>22876</td>\n",
       "      <td>6607</td>\n",
       "    </tr>\n",
       "    <tr>\n",
       "      <th>Vidigal</th>\n",
       "      <td>23470</td>\n",
       "      <td>5424</td>\n",
       "    </tr>\n",
       "  </tbody>\n",
       "</table>\n",
       "</div>"
      ],
      "text/plain": [
       "                       Residencial  Comercial\n",
       "Zonas Bairros                                \n",
       "Sul   Botafogo               14002       7972\n",
       "      Catete                 15232       6259\n",
       "      Copacabana             23318       9355\n",
       "      Cosme Velho            10320       8177\n",
       "      Flamengo               19636       7135\n",
       "      Gávea                  13506       8211\n",
       "      Humaitá                10603       5039\n",
       "      Ipanema                15965       7293\n",
       "      Jardim Botânico        17243       8095\n",
       "      Lagoa                  24982       6584\n",
       "      Laranjeiras            17307       7745\n",
       "      Leblon                 13815       8125\n",
       "      Leme                   15815       8587\n",
       "      Rocinha                15110       9023\n",
       "      São Conrado            20727       9587\n",
       "      Urca                   22876       6607\n",
       "      Vidigal                23470       5424"
      ]
     },
     "execution_count": 15,
     "metadata": {},
     "output_type": "execute_result"
    }
   ],
   "source": [
    "pd.read_excel(\n",
    "    io = 'dados/bairros.xlsx',\n",
    "    sheet_name = 'Residencial X Comercial',\n",
    "    #header = 1,\n",
    "    names = ['Zonas', 'Bairros', 'Residencial', 'Comercial'],\n",
    "    index_col = [0, 1],\n",
    "    usecols = 'B:E',\n",
    "    skiprows = 18,\n",
    "    nrows = 17\n",
    ")"
   ]
  },
  {
   "cell_type": "code",
   "execution_count": null,
   "id": "90a0b306",
   "metadata": {},
   "outputs": [],
   "source": []
  },
  {
   "cell_type": "code",
   "execution_count": null,
   "id": "220b0ce1",
   "metadata": {},
   "outputs": [],
   "source": []
  }
 ],
 "metadata": {
  "kernelspec": {
   "display_name": "Python 3 (ipykernel)",
   "language": "python",
   "name": "python3"
  },
  "language_info": {
   "codemirror_mode": {
    "name": "ipython",
    "version": 3
   },
   "file_extension": ".py",
   "mimetype": "text/x-python",
   "name": "python",
   "nbconvert_exporter": "python",
   "pygments_lexer": "ipython3",
   "version": "3.9.12"
  }
 },
 "nbformat": 4,
 "nbformat_minor": 5
}
